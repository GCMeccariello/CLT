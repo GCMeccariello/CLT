{
 "nbformat": 4,
 "nbformat_minor": 0,
 "metadata": {
  "colab": {
   "provenance": [
    {
     "file_id": "1VYtX0FoYaNmiDnUjm6V0I5EfRdezS00w",
     "timestamp": 1630839613759
    }
   ],
   "toc_visible": true,
   "mount_file_id": "1nQmETuy6SI76CwiGgcYnKcYh5VRvu_nn",
   "authorship_tag": "ABX9TyOr5U9F39k/JtKH0gOieQcp"
  },
  "kernelspec": {
   "name": "python3",
   "display_name": "Python 3"
  },
  "language_info": {
   "name": "python"
  }
 },
 "cells": [
  {
   "cell_type": "markdown",
   "metadata": {
    "id": "jx9NLNv0b4hH"
   },
   "source": [
    "### Setup"
   ]
  },
  {
   "cell_type": "code",
   "metadata": {
    "id": "pl18slVZl-pl",
    "colab": {
     "base_uri": "https://localhost:8080/"
    },
    "executionInfo": {
     "status": "ok",
     "timestamp": 1668684762828,
     "user_tz": -60,
     "elapsed": 18316,
     "user": {
      "displayName": "hslu clt",
      "userId": "00844546079669052102"
     }
    },
    "outputId": "b48c00aa-9c3b-4bbf-bf31-685375ec5c82"
   },
   "source": [
    "!pip install eng-to-ipa\n",
    "!pip install -U spacy\n",
    "!python -m spacy download en_core_web_sm"
   ],
   "execution_count": 65,
   "outputs": [
    {
     "output_type": "stream",
     "name": "stdout",
     "text": [
      "Looking in indexes: https://pypi.org/simple, https://us-python.pkg.dev/colab-wheels/public/simple/\n",
      "Requirement already satisfied: eng-to-ipa in /usr/local/lib/python3.7/dist-packages (0.0.2)\n",
      "Looking in indexes: https://pypi.org/simple, https://us-python.pkg.dev/colab-wheels/public/simple/\n",
      "Requirement already satisfied: spacy in /usr/local/lib/python3.7/dist-packages (3.4.3)\n",
      "Requirement already satisfied: typing-extensions<4.2.0,>=3.7.4 in /usr/local/lib/python3.7/dist-packages (from spacy) (4.1.1)\n",
      "Requirement already satisfied: catalogue<2.1.0,>=2.0.6 in /usr/local/lib/python3.7/dist-packages (from spacy) (2.0.8)\n",
      "Requirement already satisfied: typer<0.8.0,>=0.3.0 in /usr/local/lib/python3.7/dist-packages (from spacy) (0.4.2)\n",
      "Requirement already satisfied: cymem<2.1.0,>=2.0.2 in /usr/local/lib/python3.7/dist-packages (from spacy) (2.0.7)\n",
      "Requirement already satisfied: spacy-loggers<2.0.0,>=1.0.0 in /usr/local/lib/python3.7/dist-packages (from spacy) (1.0.3)\n",
      "Requirement already satisfied: wasabi<1.1.0,>=0.9.1 in /usr/local/lib/python3.7/dist-packages (from spacy) (0.10.1)\n",
      "Requirement already satisfied: srsly<3.0.0,>=2.4.3 in /usr/local/lib/python3.7/dist-packages (from spacy) (2.4.5)\n",
      "Requirement already satisfied: jinja2 in /usr/local/lib/python3.7/dist-packages (from spacy) (2.11.3)\n",
      "Requirement already satisfied: preshed<3.1.0,>=3.0.2 in /usr/local/lib/python3.7/dist-packages (from spacy) (3.0.8)\n",
      "Requirement already satisfied: murmurhash<1.1.0,>=0.28.0 in /usr/local/lib/python3.7/dist-packages (from spacy) (1.0.9)\n",
      "Requirement already satisfied: tqdm<5.0.0,>=4.38.0 in /usr/local/lib/python3.7/dist-packages (from spacy) (4.64.1)\n",
      "Requirement already satisfied: pydantic!=1.8,!=1.8.1,<1.11.0,>=1.7.4 in /usr/local/lib/python3.7/dist-packages (from spacy) (1.10.2)\n",
      "Requirement already satisfied: thinc<8.2.0,>=8.1.0 in /usr/local/lib/python3.7/dist-packages (from spacy) (8.1.5)\n",
      "Requirement already satisfied: spacy-legacy<3.1.0,>=3.0.10 in /usr/local/lib/python3.7/dist-packages (from spacy) (3.0.10)\n",
      "Requirement already satisfied: pathy>=0.3.5 in /usr/local/lib/python3.7/dist-packages (from spacy) (0.6.2)\n",
      "Requirement already satisfied: setuptools in /usr/local/lib/python3.7/dist-packages (from spacy) (57.4.0)\n",
      "Requirement already satisfied: packaging>=20.0 in /usr/local/lib/python3.7/dist-packages (from spacy) (21.3)\n",
      "Requirement already satisfied: numpy>=1.15.0 in /usr/local/lib/python3.7/dist-packages (from spacy) (1.21.6)\n",
      "Requirement already satisfied: langcodes<4.0.0,>=3.2.0 in /usr/local/lib/python3.7/dist-packages (from spacy) (3.3.0)\n",
      "Requirement already satisfied: requests<3.0.0,>=2.13.0 in /usr/local/lib/python3.7/dist-packages (from spacy) (2.23.0)\n",
      "Requirement already satisfied: zipp>=0.5 in /usr/local/lib/python3.7/dist-packages (from catalogue<2.1.0,>=2.0.6->spacy) (3.10.0)\n",
      "Requirement already satisfied: pyparsing!=3.0.5,>=2.0.2 in /usr/local/lib/python3.7/dist-packages (from packaging>=20.0->spacy) (3.0.9)\n",
      "Requirement already satisfied: smart-open<6.0.0,>=5.2.1 in /usr/local/lib/python3.7/dist-packages (from pathy>=0.3.5->spacy) (5.2.1)\n",
      "Requirement already satisfied: chardet<4,>=3.0.2 in /usr/local/lib/python3.7/dist-packages (from requests<3.0.0,>=2.13.0->spacy) (3.0.4)\n",
      "Requirement already satisfied: certifi>=2017.4.17 in /usr/local/lib/python3.7/dist-packages (from requests<3.0.0,>=2.13.0->spacy) (2022.9.24)\n",
      "Requirement already satisfied: idna<3,>=2.5 in /usr/local/lib/python3.7/dist-packages (from requests<3.0.0,>=2.13.0->spacy) (2.10)\n",
      "Requirement already satisfied: urllib3!=1.25.0,!=1.25.1,<1.26,>=1.21.1 in /usr/local/lib/python3.7/dist-packages (from requests<3.0.0,>=2.13.0->spacy) (1.24.3)\n",
      "Requirement already satisfied: blis<0.8.0,>=0.7.8 in /usr/local/lib/python3.7/dist-packages (from thinc<8.2.0,>=8.1.0->spacy) (0.7.9)\n",
      "Requirement already satisfied: confection<1.0.0,>=0.0.1 in /usr/local/lib/python3.7/dist-packages (from thinc<8.2.0,>=8.1.0->spacy) (0.0.3)\n",
      "Requirement already satisfied: click<9.0.0,>=7.1.1 in /usr/local/lib/python3.7/dist-packages (from typer<0.8.0,>=0.3.0->spacy) (7.1.2)\n",
      "Requirement already satisfied: MarkupSafe>=0.23 in /usr/local/lib/python3.7/dist-packages (from jinja2->spacy) (2.0.1)\n",
      "2022-11-17 11:32:36.485825: E tensorflow/stream_executor/cuda/cuda_driver.cc:271] failed call to cuInit: CUDA_ERROR_NO_DEVICE: no CUDA-capable device is detected\n",
      "Looking in indexes: https://pypi.org/simple, https://us-python.pkg.dev/colab-wheels/public/simple/\n",
      "Collecting en-core-web-sm==3.4.1\n",
      "  Downloading https://github.com/explosion/spacy-models/releases/download/en_core_web_sm-3.4.1/en_core_web_sm-3.4.1-py3-none-any.whl (12.8 MB)\n",
      "\u001B[K     |████████████████████████████████| 12.8 MB 4.7 MB/s \n",
      "\u001B[?25hRequirement already satisfied: spacy<3.5.0,>=3.4.0 in /usr/local/lib/python3.7/dist-packages (from en-core-web-sm==3.4.1) (3.4.3)\n",
      "Requirement already satisfied: jinja2 in /usr/local/lib/python3.7/dist-packages (from spacy<3.5.0,>=3.4.0->en-core-web-sm==3.4.1) (2.11.3)\n",
      "Requirement already satisfied: wasabi<1.1.0,>=0.9.1 in /usr/local/lib/python3.7/dist-packages (from spacy<3.5.0,>=3.4.0->en-core-web-sm==3.4.1) (0.10.1)\n",
      "Requirement already satisfied: srsly<3.0.0,>=2.4.3 in /usr/local/lib/python3.7/dist-packages (from spacy<3.5.0,>=3.4.0->en-core-web-sm==3.4.1) (2.4.5)\n",
      "Requirement already satisfied: langcodes<4.0.0,>=3.2.0 in /usr/local/lib/python3.7/dist-packages (from spacy<3.5.0,>=3.4.0->en-core-web-sm==3.4.1) (3.3.0)\n",
      "Requirement already satisfied: setuptools in /usr/local/lib/python3.7/dist-packages (from spacy<3.5.0,>=3.4.0->en-core-web-sm==3.4.1) (57.4.0)\n",
      "Requirement already satisfied: typer<0.8.0,>=0.3.0 in /usr/local/lib/python3.7/dist-packages (from spacy<3.5.0,>=3.4.0->en-core-web-sm==3.4.1) (0.4.2)\n",
      "Requirement already satisfied: tqdm<5.0.0,>=4.38.0 in /usr/local/lib/python3.7/dist-packages (from spacy<3.5.0,>=3.4.0->en-core-web-sm==3.4.1) (4.64.1)\n",
      "Requirement already satisfied: catalogue<2.1.0,>=2.0.6 in /usr/local/lib/python3.7/dist-packages (from spacy<3.5.0,>=3.4.0->en-core-web-sm==3.4.1) (2.0.8)\n",
      "Requirement already satisfied: spacy-legacy<3.1.0,>=3.0.10 in /usr/local/lib/python3.7/dist-packages (from spacy<3.5.0,>=3.4.0->en-core-web-sm==3.4.1) (3.0.10)\n",
      "Requirement already satisfied: pathy>=0.3.5 in /usr/local/lib/python3.7/dist-packages (from spacy<3.5.0,>=3.4.0->en-core-web-sm==3.4.1) (0.6.2)\n",
      "Requirement already satisfied: thinc<8.2.0,>=8.1.0 in /usr/local/lib/python3.7/dist-packages (from spacy<3.5.0,>=3.4.0->en-core-web-sm==3.4.1) (8.1.5)\n",
      "Requirement already satisfied: numpy>=1.15.0 in /usr/local/lib/python3.7/dist-packages (from spacy<3.5.0,>=3.4.0->en-core-web-sm==3.4.1) (1.21.6)\n",
      "Requirement already satisfied: preshed<3.1.0,>=3.0.2 in /usr/local/lib/python3.7/dist-packages (from spacy<3.5.0,>=3.4.0->en-core-web-sm==3.4.1) (3.0.8)\n",
      "Requirement already satisfied: cymem<2.1.0,>=2.0.2 in /usr/local/lib/python3.7/dist-packages (from spacy<3.5.0,>=3.4.0->en-core-web-sm==3.4.1) (2.0.7)\n",
      "Requirement already satisfied: murmurhash<1.1.0,>=0.28.0 in /usr/local/lib/python3.7/dist-packages (from spacy<3.5.0,>=3.4.0->en-core-web-sm==3.4.1) (1.0.9)\n",
      "Requirement already satisfied: spacy-loggers<2.0.0,>=1.0.0 in /usr/local/lib/python3.7/dist-packages (from spacy<3.5.0,>=3.4.0->en-core-web-sm==3.4.1) (1.0.3)\n",
      "Requirement already satisfied: requests<3.0.0,>=2.13.0 in /usr/local/lib/python3.7/dist-packages (from spacy<3.5.0,>=3.4.0->en-core-web-sm==3.4.1) (2.23.0)\n",
      "Requirement already satisfied: typing-extensions<4.2.0,>=3.7.4 in /usr/local/lib/python3.7/dist-packages (from spacy<3.5.0,>=3.4.0->en-core-web-sm==3.4.1) (4.1.1)\n",
      "Requirement already satisfied: packaging>=20.0 in /usr/local/lib/python3.7/dist-packages (from spacy<3.5.0,>=3.4.0->en-core-web-sm==3.4.1) (21.3)\n",
      "Requirement already satisfied: pydantic!=1.8,!=1.8.1,<1.11.0,>=1.7.4 in /usr/local/lib/python3.7/dist-packages (from spacy<3.5.0,>=3.4.0->en-core-web-sm==3.4.1) (1.10.2)\n",
      "Requirement already satisfied: zipp>=0.5 in /usr/local/lib/python3.7/dist-packages (from catalogue<2.1.0,>=2.0.6->spacy<3.5.0,>=3.4.0->en-core-web-sm==3.4.1) (3.10.0)\n",
      "Requirement already satisfied: pyparsing!=3.0.5,>=2.0.2 in /usr/local/lib/python3.7/dist-packages (from packaging>=20.0->spacy<3.5.0,>=3.4.0->en-core-web-sm==3.4.1) (3.0.9)\n",
      "Requirement already satisfied: smart-open<6.0.0,>=5.2.1 in /usr/local/lib/python3.7/dist-packages (from pathy>=0.3.5->spacy<3.5.0,>=3.4.0->en-core-web-sm==3.4.1) (5.2.1)\n",
      "Requirement already satisfied: certifi>=2017.4.17 in /usr/local/lib/python3.7/dist-packages (from requests<3.0.0,>=2.13.0->spacy<3.5.0,>=3.4.0->en-core-web-sm==3.4.1) (2022.9.24)\n",
      "Requirement already satisfied: idna<3,>=2.5 in /usr/local/lib/python3.7/dist-packages (from requests<3.0.0,>=2.13.0->spacy<3.5.0,>=3.4.0->en-core-web-sm==3.4.1) (2.10)\n",
      "Requirement already satisfied: urllib3!=1.25.0,!=1.25.1,<1.26,>=1.21.1 in /usr/local/lib/python3.7/dist-packages (from requests<3.0.0,>=2.13.0->spacy<3.5.0,>=3.4.0->en-core-web-sm==3.4.1) (1.24.3)\n",
      "Requirement already satisfied: chardet<4,>=3.0.2 in /usr/local/lib/python3.7/dist-packages (from requests<3.0.0,>=2.13.0->spacy<3.5.0,>=3.4.0->en-core-web-sm==3.4.1) (3.0.4)\n",
      "Requirement already satisfied: blis<0.8.0,>=0.7.8 in /usr/local/lib/python3.7/dist-packages (from thinc<8.2.0,>=8.1.0->spacy<3.5.0,>=3.4.0->en-core-web-sm==3.4.1) (0.7.9)\n",
      "Requirement already satisfied: confection<1.0.0,>=0.0.1 in /usr/local/lib/python3.7/dist-packages (from thinc<8.2.0,>=8.1.0->spacy<3.5.0,>=3.4.0->en-core-web-sm==3.4.1) (0.0.3)\n",
      "Requirement already satisfied: click<9.0.0,>=7.1.1 in /usr/local/lib/python3.7/dist-packages (from typer<0.8.0,>=0.3.0->spacy<3.5.0,>=3.4.0->en-core-web-sm==3.4.1) (7.1.2)\n",
      "Requirement already satisfied: MarkupSafe>=0.23 in /usr/local/lib/python3.7/dist-packages (from jinja2->spacy<3.5.0,>=3.4.0->en-core-web-sm==3.4.1) (2.0.1)\n",
      "\u001B[38;5;2m✔ Download and installation successful\u001B[0m\n",
      "You can now load the package via spacy.load('en_core_web_sm')\n"
     ]
    }
   ]
  },
  {
   "cell_type": "code",
   "metadata": {
    "id": "nZwTldNAkW5n",
    "colab": {
     "base_uri": "https://localhost:8080/"
    },
    "executionInfo": {
     "status": "ok",
     "timestamp": 1668684872967,
     "user_tz": -60,
     "elapsed": 1163,
     "user": {
      "displayName": "hslu clt",
      "userId": "00844546079669052102"
     }
    },
    "outputId": "69e701c8-0397-4278-e983-131ddf7bd243"
   },
   "source": [
    "pip freeze | grep -E \"spacy|ipa|nltk\""
   ],
   "execution_count": 66,
   "outputs": [
    {
     "output_type": "stream",
     "name": "stdout",
     "text": [
      "en-core-web-sm @ https://github.com/explosion/spacy-models/releases/download/en_core_web_sm-3.4.1/en_core_web_sm-3.4.1-py3-none-any.whl\n",
      "eng-to-ipa==0.0.2\n",
      "nltk==3.7\n",
      "spacy==3.4.3\n",
      "spacy-legacy==3.0.10\n",
      "spacy-loggers==1.0.3\n"
     ]
    }
   ]
  },
  {
   "cell_type": "code",
   "metadata": {
    "id": "K95bHLQQGIwu",
    "executionInfo": {
     "status": "ok",
     "timestamp": 1668684882484,
     "user_tz": -60,
     "elapsed": 226,
     "user": {
      "displayName": "hslu clt",
      "userId": "00844546079669052102"
     }
    }
   },
   "source": [
    "import spacy\n",
    "import eng_to_ipa as ipa"
   ],
   "execution_count": 2,
   "outputs": []
  },
  {
   "cell_type": "markdown",
   "metadata": {
    "id": "wwOKZFJuprxf"
   },
   "source": [
    "## Phonetics\n",
    "Convert English text into the Phonetics using eng-to-ipa\n",
    "\n",
    "**eng-to-ipa** library program utilizes the Carnegie-Mellon University (CMU) Pronouncing Dictionary to convert English text into the International Phonetic Alphabet.\n",
    "\n",
    "**IPA:** International Phonetic Alphabet\n",
    "\n",
    "*   **`convert()`** function converts a string into IPA\n",
    "*   **`ipa_list()`** function returns the list of each word as a list of all its possible transcriptions\n",
    "* **`get_rhymes()`** *italicised text* function returns a list of rhymes for a word or set of words\n",
    "* **`syllable_count()`** function returns an integer, corresponding to the number of syllables in a word. Returns a list of syllable counts if more than one word is provided in the input string.\n",
    "\n",
    "---\n",
    "\n",
    "### Learn & play:\n",
    "\n",
    "> https://en.wikipedia.org/wiki/International_Phonetic_Alphabet\n",
    "\n",
    "> https://pypi.org/project/eng-to-ipa/"
   ]
  },
  {
   "cell_type": "code",
   "metadata": {
    "id": "dMBQIxUevjec",
    "colab": {
     "base_uri": "https://localhost:8080/",
     "height": 36
    },
    "executionInfo": {
     "status": "ok",
     "timestamp": 1668684945382,
     "user_tz": -60,
     "elapsed": 346,
     "user": {
      "displayName": "hslu clt",
      "userId": "00844546079669052102"
     }
    },
    "outputId": "8a8b98fe-aff2-42ec-cbde-2f62eba6dc86"
   },
   "source": [
    "# Convert to phonetic transcript (IPA)\n",
    "ipa.convert('unfortunately', retrieve_all=True)"
   ],
   "execution_count": 17,
   "outputs": [
    {
     "data": {
      "text/plain": "['ənˈfɔrʧunətli', 'ənˈfɔrʧənətli']"
     },
     "execution_count": 17,
     "metadata": {},
     "output_type": "execute_result"
    }
   ]
  },
  {
   "cell_type": "code",
   "metadata": {
    "id": "oNnoMKmL4l8K",
    "colab": {
     "base_uri": "https://localhost:8080/",
     "height": 36
    },
    "executionInfo": {
     "status": "ok",
     "timestamp": 1668684961339,
     "user_tz": -60,
     "elapsed": 216,
     "user": {
      "displayName": "hslu clt",
      "userId": "00844546079669052102"
     }
    },
    "outputId": "8ae2036b-2bcd-41d6-81d6-6dca4c79abcc"
   },
   "source": [
    "ipa.convert('go home')"
   ],
   "execution_count": 8,
   "outputs": [
    {
     "data": {
      "text/plain": "'goʊ hoʊm'"
     },
     "execution_count": 8,
     "metadata": {},
     "output_type": "execute_result"
    }
   ]
  },
  {
   "cell_type": "code",
   "metadata": {
    "id": "aECinIySv455",
    "colab": {
     "base_uri": "https://localhost:8080/"
    },
    "executionInfo": {
     "status": "ok",
     "timestamp": 1668685095494,
     "user_tz": -60,
     "elapsed": 279,
     "user": {
      "displayName": "hslu clt",
      "userId": "00844546079669052102"
     }
    },
    "outputId": "8ec18b93-a4e7-4c5e-e12a-3311865b003f"
   },
   "source": [
    "# Check for different pronunciations\n",
    "ipa.convert('aluminium', retrieve_all=True )"
   ],
   "execution_count": 10,
   "outputs": [
    {
     "data": {
      "text/plain": "['əˈlumɪnəm', 'ˌæˈljumɪnəm']"
     },
     "execution_count": 10,
     "metadata": {},
     "output_type": "execute_result"
    }
   ]
  },
  {
   "cell_type": "code",
   "metadata": {
    "id": "0qMZA3zTrMOQ",
    "colab": {
     "base_uri": "https://localhost:8080/"
    },
    "executionInfo": {
     "status": "ok",
     "timestamp": 1668685125011,
     "user_tz": -60,
     "elapsed": 267,
     "user": {
      "displayName": "hslu clt",
      "userId": "00844546079669052102"
     }
    },
    "outputId": "322d5f86-6cb6-48ee-c9b8-34ea75a6f7c4"
   },
   "source": [
    "ipa.ipa_list('natural language processing is fun but difficult')"
   ],
   "execution_count": 19,
   "outputs": [
    {
     "data": {
      "text/plain": "[['ˈnæʧrəl', 'ˈnæʧərəl'],\n ['ˈlæŋgwəʤ', 'ˈlæŋgwɪʤ'],\n ['ˈprɑsɛsɪŋ'],\n ['ɪz'],\n ['fən'],\n ['bət'],\n ['ˈdɪfəkəlt']]"
     },
     "execution_count": 19,
     "metadata": {},
     "output_type": "execute_result"
    }
   ]
  },
  {
   "cell_type": "code",
   "metadata": {
    "id": "rhF8sxPi0SGb",
    "colab": {
     "base_uri": "https://localhost:8080/"
    },
    "executionInfo": {
     "status": "ok",
     "timestamp": 1668685147034,
     "user_tz": -60,
     "elapsed": 221,
     "user": {
      "displayName": "hslu clt",
      "userId": "00844546079669052102"
     }
    },
    "outputId": "887387f2-39e1-4f0d-f052-37f55859cf4c"
   },
   "source": [
    "# Find rhymes to a word\n",
    "ipa.get_rhymes('rhyming function')"
   ],
   "execution_count": 29,
   "outputs": [
    {
     "data": {
      "text/plain": "[['climbing', 'diming', 'liming', 'priming', 'timing'],\n ['compunction',\n  'conjunction',\n  'dysfunction',\n  'injunction',\n  'junction',\n  'malfunction']]"
     },
     "execution_count": 29,
     "metadata": {},
     "output_type": "execute_result"
    }
   ]
  },
  {
   "cell_type": "code",
   "metadata": {
    "id": "aPfGvrqz0jaL",
    "colab": {
     "base_uri": "https://localhost:8080/"
    },
    "executionInfo": {
     "status": "ok",
     "timestamp": 1668685158610,
     "user_tz": -60,
     "elapsed": 214,
     "user": {
      "displayName": "hslu clt",
      "userId": "00844546079669052102"
     }
    },
    "outputId": "87cbcc39-d5de-4365-aba2-e5faaffe07b2"
   },
   "source": [
    "ipa.get_rhymes('science')"
   ],
   "execution_count": 30,
   "outputs": [
    {
     "data": {
      "text/plain": "['alliance',\n 'appliance',\n 'bioscience',\n 'compliance',\n 'defiance',\n 'non-compliance',\n 'noncompliance',\n 'pseudoscience',\n 'reliance']"
     },
     "execution_count": 30,
     "metadata": {},
     "output_type": "execute_result"
    }
   ]
  },
  {
   "cell_type": "code",
   "metadata": {
    "id": "iSPntWnw28bz",
    "colab": {
     "base_uri": "https://localhost:8080/"
    },
    "executionInfo": {
     "status": "ok",
     "timestamp": 1668685178610,
     "user_tz": -60,
     "elapsed": 236,
     "user": {
      "displayName": "hslu clt",
      "userId": "00844546079669052102"
     }
    },
    "outputId": "b0b2da2f-da0d-4021-b0ae-90973bb09de8"
   },
   "source": [
    "# Calculate the number of syllables per token\n",
    "ipa.syllable_count('interesting Wednesday business computer')"
   ],
   "execution_count": 31,
   "outputs": [
    {
     "data": {
      "text/plain": "[4, 2, 2, 3]"
     },
     "execution_count": 31,
     "metadata": {},
     "output_type": "execute_result"
    }
   ]
  },
  {
   "cell_type": "markdown",
   "metadata": {
    "id": "ss7LghxZqtRJ"
   },
   "source": [
    "## Morphology\n",
    "Tokenization, lemmatization, stemming using Spacy.\n",
    "\n",
    "spaCy provides a number of pre-trained model packages you can download using the spacy download command.\n",
    "`python -m spacy download en_core_web_sm`\n",
    "\n",
    "For example, the \"en_core_web_sm\" package is a small English model that supports all core capabilities and is trained on web text.\n",
    "\n",
    "The `spacy.load` method loads a model package by name and returns an `nlp` object. The package provides the binary weights that enable spaCy to make predictions. It also includes the vocabulary, and meta information to tell spaCy which language class to use and how to configure the processing pipeline.\n",
    "\n",
    "**Tokenization**\n",
    "\n",
    "`Token` objects represent the tokens in a document – for example, a word or a punctuation character. To get a token at a specific position, you can index into the doc.\n",
    "`Token` objects also provide various attributes that let you access more information about the tokens:\n",
    "\n",
    "**`.text`** attribute returns the verbatim token text.\n",
    "\n",
    "**`like_num`** checks whether a token in the doc resembles a number\n",
    "\n",
    "**`token.i + 1`** gets the token following the current token in the document. \n",
    "\n",
    "\n",
    "**Stemming**\n",
    "\n",
    "\n",
    "---\n",
    "\n",
    "Learn & play more:\n",
    "\n",
    "> https://spacy.io/\n",
    "\n",
    "\n",
    "\n"
   ]
  },
  {
   "cell_type": "code",
   "metadata": {
    "id": "gT6lsOGsZYkC",
    "executionInfo": {
     "status": "ok",
     "timestamp": 1668685238139,
     "user_tz": -60,
     "elapsed": 1114,
     "user": {
      "displayName": "hslu clt",
      "userId": "00844546079669052102"
     }
    }
   },
   "source": [
    "# Load the spaCy language model, and create the nlp object.\n",
    "nlp = spacy.load('en_core_web_sm')"
   ],
   "execution_count": 38,
   "outputs": []
  },
  {
   "cell_type": "code",
   "metadata": {
    "id": "QqTKjeapa8D0",
    "executionInfo": {
     "status": "ok",
     "timestamp": 1668685301056,
     "user_tz": -60,
     "elapsed": 219,
     "user": {
      "displayName": "hslu clt",
      "userId": "00844546079669052102"
     }
    }
   },
   "source": [
    "# Process text. SpaCy creates a Doc object when you process a text with the nlp object.. The Doc lets you access information about the text in a structured way, and no information is lost.\n",
    "doc = nlp(\"I studied 3 languages.\")"
   ],
   "execution_count": 102,
   "outputs": []
  },
  {
   "cell_type": "code",
   "metadata": {
    "id": "2htTjsx7ciXy",
    "colab": {
     "base_uri": "https://localhost:8080/"
    },
    "executionInfo": {
     "status": "ok",
     "timestamp": 1668685314531,
     "user_tz": -60,
     "elapsed": 206,
     "user": {
      "displayName": "hslu clt",
      "userId": "00844546079669052102"
     }
    },
    "outputId": "d62fce7f-65d9-40a6-ed07-7db344761945"
   },
   "source": [
    "# Iterate over tokens in a Doc\n",
    "for token in doc:\n",
    "    print(token, token.lemma_)"
   ],
   "execution_count": 103,
   "outputs": [
    {
     "name": "stdout",
     "output_type": "stream",
     "text": [
      "I I\n",
      "studied study\n",
      "3 3\n",
      "languages language\n",
      ". .\n"
     ]
    }
   ]
  },
  {
   "cell_type": "code",
   "execution_count": 104,
   "outputs": [
    {
     "data": {
      "text/plain": "5"
     },
     "execution_count": 104,
     "metadata": {},
     "output_type": "execute_result"
    }
   ],
   "source": [
    "# count the tokens\n",
    "len(doc)"
   ],
   "metadata": {
    "collapsed": false
   }
  },
  {
   "cell_type": "code",
   "metadata": {
    "id": "iHcCLXm7eXUc",
    "executionInfo": {
     "status": "ok",
     "timestamp": 1668685353303,
     "user_tz": -60,
     "elapsed": 243,
     "user": {
      "displayName": "hslu clt",
      "userId": "00844546079669052102"
     }
    }
   },
   "source": [
    "# Index. doc[1] is the token \"studied\" which is saved in the parameter \"studied\"\n",
    "studied = doc[1]\n",
    "studied"
   ],
   "execution_count": 105,
   "outputs": [
    {
     "data": {
      "text/plain": "studied"
     },
     "execution_count": 105,
     "metadata": {},
     "output_type": "execute_result"
    }
   ]
  },
  {
   "cell_type": "code",
   "metadata": {
    "id": "NVHuxab5eh61",
    "colab": {
     "base_uri": "https://localhost:8080/",
     "height": 36
    },
    "executionInfo": {
     "status": "ok",
     "timestamp": 1668685356402,
     "user_tz": -60,
     "elapsed": 490,
     "user": {
      "displayName": "hslu clt",
      "userId": "00844546079669052102"
     }
    },
    "outputId": "a889b563-8e49-4963-a6ea-0e37df3153b2"
   },
   "source": [
    "# Output the string for a given element\n",
    "doc[1].text"
   ],
   "execution_count": 106,
   "outputs": [
    {
     "data": {
      "text/plain": "'studied'"
     },
     "execution_count": 106,
     "metadata": {},
     "output_type": "execute_result"
    }
   ]
  },
  {
   "cell_type": "code",
   "metadata": {
    "id": "yUpYZs7bff-C",
    "colab": {
     "base_uri": "https://localhost:8080/"
    },
    "executionInfo": {
     "status": "ok",
     "timestamp": 1668685423492,
     "user_tz": -60,
     "elapsed": 222,
     "user": {
      "displayName": "hslu clt",
      "userId": "00844546079669052102"
     }
    },
    "outputId": "83a91240-808b-4777-f7c2-473b869afce2"
   },
   "source": [
    "# A slice the Doc to remove the dot\n",
    "doc[0:4]"
   ],
   "execution_count": 107,
   "outputs": [
    {
     "data": {
      "text/plain": "I studied 3 languages"
     },
     "execution_count": 107,
     "metadata": {},
     "output_type": "execute_result"
    }
   ]
  },
  {
   "cell_type": "code",
   "metadata": {
    "id": "6a0LOIKgf3Sr",
    "colab": {
     "base_uri": "https://localhost:8080/"
    },
    "executionInfo": {
     "status": "ok",
     "timestamp": 1668685451457,
     "user_tz": -60,
     "elapsed": 269,
     "user": {
      "displayName": "hslu clt",
      "userId": "00844546079669052102"
     }
    },
    "outputId": "05f98270-50a9-46e4-d1ee-e331935810df"
   },
   "source": [
    "# output the string for element \"3\"\n",
    "number = doc[2]\n",
    "number"
   ],
   "execution_count": 109,
   "outputs": [
    {
     "data": {
      "text/plain": "3"
     },
     "execution_count": 109,
     "metadata": {},
     "output_type": "execute_result"
    }
   ]
  },
  {
   "cell_type": "code",
   "metadata": {
    "id": "CEQiBVqxiBzS",
    "colab": {
     "base_uri": "https://localhost:8080/"
    },
    "executionInfo": {
     "status": "ok",
     "timestamp": 1668685494834,
     "user_tz": -60,
     "elapsed": 245,
     "user": {
      "displayName": "hslu clt",
      "userId": "00844546079669052102"
     }
    },
    "outputId": "cf95709a-e596-4010-bde6-df9b8c2af65b"
   },
   "source": [
    "number.like_num"
   ],
   "execution_count": 110,
   "outputs": [
    {
     "data": {
      "text/plain": "True"
     },
     "execution_count": 110,
     "metadata": {},
     "output_type": "execute_result"
    }
   ]
  },
  {
   "cell_type": "code",
   "metadata": {
    "id": "_CrqcHRcktJn",
    "colab": {
     "base_uri": "https://localhost:8080/"
    },
    "executionInfo": {
     "status": "ok",
     "timestamp": 1668685507040,
     "user_tz": -60,
     "elapsed": 250,
     "user": {
      "displayName": "hslu clt",
      "userId": "00844546079669052102"
     }
    },
    "outputId": "bcabe8ac-955d-4d57-b436-a4bb3af924a9"
   },
   "source": [
    "studied.like_num"
   ],
   "execution_count": 111,
   "outputs": [
    {
     "data": {
      "text/plain": "False"
     },
     "execution_count": 111,
     "metadata": {},
     "output_type": "execute_result"
    }
   ]
  },
  {
   "cell_type": "code",
   "metadata": {
    "id": "NVHH0Vgll58R",
    "colab": {
     "base_uri": "https://localhost:8080/"
    },
    "executionInfo": {
     "status": "ok",
     "timestamp": 1668685519921,
     "user_tz": -60,
     "elapsed": 257,
     "user": {
      "displayName": "hslu clt",
      "userId": "00844546079669052102"
     }
    },
    "outputId": "9786860b-4107-4bd2-d384-0e90cb1208b5"
   },
   "source": [
    "number.like_email"
   ],
   "execution_count": 112,
   "outputs": [
    {
     "data": {
      "text/plain": "False"
     },
     "execution_count": 112,
     "metadata": {},
     "output_type": "execute_result"
    }
   ]
  },
  {
   "cell_type": "code",
   "metadata": {
    "id": "tlFBJs7qlpSH",
    "colab": {
     "base_uri": "https://localhost:8080/"
    },
    "executionInfo": {
     "status": "ok",
     "timestamp": 1668685528150,
     "user_tz": -60,
     "elapsed": 217,
     "user": {
      "displayName": "hslu clt",
      "userId": "00844546079669052102"
     }
    },
    "outputId": "5c434b0b-a733-4dfe-a829-85fa36b5e428"
   },
   "source": [
    "# ID of the verbatim text content.\n",
    "number.orth"
   ],
   "execution_count": 113,
   "outputs": [
    {
     "data": {
      "text/plain": "602994839685422785"
     },
     "execution_count": 113,
     "metadata": {},
     "output_type": "execute_result"
    }
   ]
  },
  {
   "cell_type": "code",
   "metadata": {
    "id": "Jv6KXfsQmvAk",
    "colab": {
     "base_uri": "https://localhost:8080/"
    },
    "executionInfo": {
     "status": "ok",
     "timestamp": 1668685540558,
     "user_tz": -60,
     "elapsed": 224,
     "user": {
      "displayName": "hslu clt",
      "userId": "00844546079669052102"
     }
    },
    "outputId": "12c70a30-882c-4b85-892c-632cef70b555"
   },
   "source": [
    "# Get the parent document\n",
    "number.doc"
   ],
   "execution_count": 87,
   "outputs": [
    {
     "output_type": "execute_result",
     "data": {
      "text/plain": [
       "I studied 3 languages."
      ]
     },
     "metadata": {},
     "execution_count": 87
    }
   ]
  },
  {
   "cell_type": "code",
   "metadata": {
    "id": "cX4BGJIVm7tg"
   },
   "source": [
    "# ID of the base form of the token, with no inflectional suffixes.\n",
    "studied.lemma"
   ],
   "execution_count": 114,
   "outputs": [
    {
     "data": {
      "text/plain": "4251533498015236010"
     },
     "execution_count": 114,
     "metadata": {},
     "output_type": "execute_result"
    }
   ]
  },
  {
   "cell_type": "code",
   "metadata": {
    "id": "dfKUzTEbnKLc",
    "colab": {
     "base_uri": "https://localhost:8080/",
     "height": 36
    },
    "executionInfo": {
     "status": "ok",
     "timestamp": 1668685581809,
     "user_tz": -60,
     "elapsed": 246,
     "user": {
      "displayName": "hslu clt",
      "userId": "00844546079669052102"
     }
    },
    "outputId": "719824e1-52d7-4055-8deb-f793c38253c1"
   },
   "source": [
    "#Base form of the token, with no inflectional suffixes.\n",
    "studied.lemma_"
   ],
   "execution_count": 115,
   "outputs": [
    {
     "data": {
      "text/plain": "'study'"
     },
     "execution_count": 115,
     "metadata": {},
     "output_type": "execute_result"
    }
   ]
  },
  {
   "cell_type": "code",
   "metadata": {
    "id": "dHmbKlsynTEO",
    "colab": {
     "base_uri": "https://localhost:8080/"
    },
    "executionInfo": {
     "status": "ok",
     "timestamp": 1668685588949,
     "user_tz": -60,
     "elapsed": 223,
     "user": {
      "displayName": "hslu clt",
      "userId": "00844546079669052102"
     }
    },
    "outputId": "bcdb080a-11ae-4af3-bb34-4d3fe652d29f"
   },
   "source": [
    "len(studied)"
   ],
   "execution_count": 116,
   "outputs": [
    {
     "data": {
      "text/plain": "7"
     },
     "execution_count": 116,
     "metadata": {},
     "output_type": "execute_result"
    }
   ]
  },
  {
   "cell_type": "code",
   "metadata": {
    "id": "kxsVHT7SoGII",
    "colab": {
     "base_uri": "https://localhost:8080/",
     "height": 36
    },
    "executionInfo": {
     "status": "ok",
     "timestamp": 1668685594570,
     "user_tz": -60,
     "elapsed": 225,
     "user": {
      "displayName": "hslu clt",
      "userId": "00844546079669052102"
     }
    },
    "outputId": "31cd8c6a-b2b3-496f-dece-f480881bcd14"
   },
   "source": [
    "studied.text.capitalize()"
   ],
   "execution_count": 117,
   "outputs": [
    {
     "data": {
      "text/plain": "'Studied'"
     },
     "execution_count": 117,
     "metadata": {},
     "output_type": "execute_result"
    }
   ]
  },
  {
   "cell_type": "code",
   "metadata": {
    "id": "o6E6-BsBoSKj",
    "colab": {
     "base_uri": "https://localhost:8080/"
    },
    "executionInfo": {
     "status": "ok",
     "timestamp": 1668685601282,
     "user_tz": -60,
     "elapsed": 315,
     "user": {
      "displayName": "hslu clt",
      "userId": "00844546079669052102"
     }
    },
    "outputId": "8da63f71-85d4-4ef7-c751-a74ec058f83c"
   },
   "source": [
    "studied.text.count('d')"
   ],
   "execution_count": 119,
   "outputs": [
    {
     "data": {
      "text/plain": "2"
     },
     "execution_count": 119,
     "metadata": {},
     "output_type": "execute_result"
    }
   ]
  },
  {
   "cell_type": "code",
   "metadata": {
    "id": "ZcLgpuHdoo58",
    "colab": {
     "base_uri": "https://localhost:8080/"
    },
    "executionInfo": {
     "status": "ok",
     "timestamp": 1668685612651,
     "user_tz": -60,
     "elapsed": 251,
     "user": {
      "displayName": "hslu clt",
      "userId": "00844546079669052102"
     }
    },
    "outputId": "e4db678d-a552-4cb4-b4cf-bc5808d81adc"
   },
   "source": [
    " #Loop over items in the Doc object, using the variable 'token' to refer to items in the list\n",
    "for token in doc:\n",
    "# Print the token and the results of morphological analysis\n",
    "    print(token.text, token.morph, sep=': ')\n",
    "    print(' ')"
   ],
   "execution_count": 127,
   "outputs": [
    {
     "name": "stdout",
     "output_type": "stream",
     "text": [
      "I: Case=Nom|Number=Sing|Person=1|PronType=Prs\n",
      " \n",
      "studied: Tense=Past|VerbForm=Fin\n",
      " \n",
      "3: NumType=Card\n",
      " \n",
      "languages: Number=Plur\n",
      " \n",
      ".: PunctType=Peri\n",
      " \n"
     ]
    }
   ]
  },
  {
   "cell_type": "code",
   "metadata": {
    "id": "w-7sd1qeueja",
    "colab": {
     "base_uri": "https://localhost:8080/"
    },
    "executionInfo": {
     "status": "ok",
     "timestamp": 1668685732322,
     "user_tz": -60,
     "elapsed": 223,
     "user": {
      "displayName": "hslu clt",
      "userId": "00844546079669052102"
     }
    },
    "outputId": "0081ef5a-bff7-4a5e-f45e-9e1158c6b0ea"
   },
   "source": [
    "studied.morph"
   ],
   "execution_count": 93,
   "outputs": [
    {
     "output_type": "execute_result",
     "data": {
      "text/plain": [
       "Tense=Past|VerbForm=Fin"
      ]
     },
     "metadata": {},
     "execution_count": 93
    }
   ]
  },
  {
   "cell_type": "code",
   "metadata": {
    "id": "ANMOoNa9uiHn",
    "colab": {
     "base_uri": "https://localhost:8080/"
    },
    "executionInfo": {
     "status": "ok",
     "timestamp": 1668685739719,
     "user_tz": -60,
     "elapsed": 228,
     "user": {
      "displayName": "hslu clt",
      "userId": "00844546079669052102"
     }
    },
    "outputId": "dd03997c-0ba9-4d00-bdd6-49a3fd1a2b4b"
   },
   "source": [
    "studied.morph.get('Tense')"
   ],
   "execution_count": 94,
   "outputs": [
    {
     "output_type": "execute_result",
     "data": {
      "text/plain": [
       "['Past']"
      ]
     },
     "metadata": {},
     "execution_count": 94
    }
   ]
  },
  {
   "cell_type": "code",
   "metadata": {
    "id": "hkhLN2tdurqp",
    "colab": {
     "base_uri": "https://localhost:8080/"
    },
    "executionInfo": {
     "status": "ok",
     "timestamp": 1668685751423,
     "user_tz": -60,
     "elapsed": 246,
     "user": {
      "displayName": "hslu clt",
      "userId": "00844546079669052102"
     }
    },
    "outputId": "413b0e39-a3e6-4da7-b058-6a2ca2e0bc67"
   },
   "source": [
    "number.morph"
   ],
   "execution_count": 95,
   "outputs": [
    {
     "output_type": "execute_result",
     "data": {
      "text/plain": [
       "NumType=Card"
      ]
     },
     "metadata": {},
     "execution_count": 95
    }
   ]
  },
  {
   "cell_type": "markdown",
   "metadata": {
    "id": "NqXY0WdQrFt_"
   },
   "source": [
    "## Syntax\n",
    "\n",
    "POS:\n",
    "```\n",
    "    \"ADJ\": \"adjective\",\n",
    "    \"ADP\": \"adposition\", <-- prepositions and postpositions together\n",
    "    \"ADV\": \"adverb\",\n",
    "    \"AUX\": \"auxiliary\",\n",
    "    \"CONJ\": \"conjunction\",\n",
    "    \"CCONJ\": \"coordinating conjunction\",\n",
    "    \"DET\": \"determiner\",\n",
    "    \"INTJ\": \"interjection\",\n",
    "    \"NOUN\": \"noun\",\n",
    "    \"NUM\": \"numeral\",\n",
    "    \"PART\": \"particle\",\n",
    "    \"PRON\": \"pronoun\",\n",
    "    \"PROPN\": \"proper noun\",\n",
    "    \"PUNCT\": \"punctuation\",\n",
    "    \"SCONJ\": \"subordinating conjunction\",\n",
    "    \"SYM\": \"symbol\",\n",
    "    \"VERB\": \"verb\",\n",
    "    \"X\": \"other\",\n",
    "    \"EOL\": \"end of line\",\n",
    "    \"SPACE\": \"space\"\n",
    "```\n",
    "\n",
    "Noun chunks:\n",
    " ```\n",
    "    \"NP\": \"noun phrase\",\n",
    "    \"PP\": \"prepositional phrase\",\n",
    "    \"VP\": \"verb phrase\",\n",
    "    \"ADVP\": \"adverb phrase\",\n",
    "    \"ADJP\": \"adjective phrase\",\n",
    "    \"SBAR\": \"subordinating conjunction\",\n",
    "    \"PRT\": \"particle\",\n",
    "    \"PNP\": \"prepositional noun phrase\"\n",
    "```\n",
    "\n",
    "Dependency labels (selected):\n",
    "\n",
    "```\n",
    "    \"advmod\": \"adverbial modifier\",\n",
    "    \"amod\": \"adjectival modifier\",\n",
    "    \"attr\": \"attribute\",\n",
    "    \"aux\": \"auxiliary\",\n",
    "    \"auxpass\": \"auxiliary (passive)\",\n",
    "    \"case\": \"case marking\",\n",
    "    \"conj\": \"conjunct\",\n",
    "    \"csubj\": \"clausal subject\",\n",
    "    \"det\": \"determiner\",\n",
    "    \"dobj\": \"direct object\",\n",
    "    \"expl\": \"expletive\",\n",
    "    \"hyph\": \"hyphen\",\n",
    "    \"infmod\": \"infinitival modifier\",\n",
    "    \"meta\": \"meta modifier\",\n",
    "    \"neg\": \"negation modifier\",\n",
    "    \"nmod\": \"modifier of nominal\",\n",
    "    \"nn\": \"noun compound modifier\",\n",
    "    \"nsubj\": \"nominal subject\",\n",
    "    \"nsubjpass\": \"nominal subject (passive)\",\n",
    "    \"nounmod\": \"modifier of nominal\",\n",
    "    \"npmod\": \"noun phrase as adverbial modifier\",\n",
    "    \"num\": \"number modifier\",\n",
    "    \"number\": \"number compound modifier\",\n",
    "    \"nummod\": \"numeric modifier\",\n",
    "    \"obj\": \"object\",\n",
    "    \"pcomp\": \"complement of preposition\",\n",
    "    \"pobj\": \"object of preposition\",\n",
    "    \"poss\": \"possession modifier\",\n",
    "    \"possessive\": \"possessive modifier\",\n",
    "    \"prep\": \"prepositional modifier\",\n",
    "    \n",
    "```\n",
    "---\n",
    "\n",
    "\n",
    "Learn & Play\n",
    "\n",
    "Full list of tags: \n",
    "> https://github.com/explosion/spaCy/blob/master/spacy/glossary.py\n",
    "\n",
    "Displacy options:\n",
    "> https://spacy.io/api/top-level#displacy_options"
   ]
  },
  {
   "cell_type": "code",
   "metadata": {
    "id": "asq7n6Qr_gWT",
    "executionInfo": {
     "status": "ok",
     "timestamp": 1668685833695,
     "user_tz": -60,
     "elapsed": 206,
     "user": {
      "displayName": "hslu clt",
      "userId": "00844546079669052102"
     }
    }
   },
   "source": [
    "from spacy import displacy"
   ],
   "execution_count": 128,
   "outputs": []
  },
  {
   "cell_type": "code",
   "metadata": {
    "id": "B7VUX8enBwug",
    "executionInfo": {
     "status": "ok",
     "timestamp": 1668685848603,
     "user_tz": -60,
     "elapsed": 253,
     "user": {
      "displayName": "hslu clt",
      "userId": "00844546079669052102"
     }
    }
   },
   "source": [
    "doc = nlp('Lucerne is a beautiful town in Switzerland.')"
   ],
   "execution_count": 129,
   "outputs": []
  },
  {
   "cell_type": "code",
   "metadata": {
    "id": "y-S8oRB6HFUa",
    "colab": {
     "base_uri": "https://localhost:8080/"
    },
    "executionInfo": {
     "status": "ok",
     "timestamp": 1668685851742,
     "user_tz": -60,
     "elapsed": 224,
     "user": {
      "displayName": "hslu clt",
      "userId": "00844546079669052102"
     }
    },
    "outputId": "04ca05e1-706b-4736-e900-93c9c9116b7c"
   },
   "source": [
    "for token in doc:\n",
    "  print (token.text + '\\n\\t-->' + token.pos_)"
   ],
   "execution_count": 130,
   "outputs": [
    {
     "name": "stdout",
     "output_type": "stream",
     "text": [
      "Lucerne\n",
      "\t-->PROPN\n",
      "is\n",
      "\t-->AUX\n",
      "a\n",
      "\t-->DET\n",
      "beautiful\n",
      "\t-->ADJ\n",
      "town\n",
      "\t-->NOUN\n",
      "in\n",
      "\t-->ADP\n",
      "Switzerland\n",
      "\t-->PROPN\n",
      ".\n",
      "\t-->PUNCT\n"
     ]
    }
   ]
  },
  {
   "cell_type": "code",
   "metadata": {
    "id": "ksvcXkdMqpww",
    "colab": {
     "base_uri": "https://localhost:8080/",
     "height": 421
    },
    "executionInfo": {
     "status": "ok",
     "timestamp": 1668685891036,
     "user_tz": -60,
     "elapsed": 219,
     "user": {
      "displayName": "hslu clt",
      "userId": "00844546079669052102"
     }
    },
    "outputId": "a388862b-4e78-4697-a8c1-87979d525b47"
   },
   "source": [
    "# POS level granularity\n",
    "displacy.render(doc, style=\"dep\", jupyter=True)"
   ],
   "execution_count": 134,
   "outputs": [
    {
     "data": {
      "text/plain": "<IPython.core.display.HTML object>",
      "text/html": "<span class=\"tex2jax_ignore\"><svg xmlns=\"http://www.w3.org/2000/svg\" xmlns:xlink=\"http://www.w3.org/1999/xlink\" xml:lang=\"en\" id=\"c4ef9ec751a44465bba06e7c771cdc06-0\" class=\"displacy\" width=\"1275\" height=\"399.5\" direction=\"ltr\" style=\"max-width: none; height: 399.5px; color: #000000; background: #ffffff; font-family: Arial; direction: ltr\">\n<text class=\"displacy-token\" fill=\"currentColor\" text-anchor=\"middle\" y=\"309.5\">\n    <tspan class=\"displacy-word\" fill=\"currentColor\" x=\"50\">Lucerne</tspan>\n    <tspan class=\"displacy-tag\" dy=\"2em\" fill=\"currentColor\" x=\"50\">PROPN</tspan>\n</text>\n\n<text class=\"displacy-token\" fill=\"currentColor\" text-anchor=\"middle\" y=\"309.5\">\n    <tspan class=\"displacy-word\" fill=\"currentColor\" x=\"225\">is</tspan>\n    <tspan class=\"displacy-tag\" dy=\"2em\" fill=\"currentColor\" x=\"225\">AUX</tspan>\n</text>\n\n<text class=\"displacy-token\" fill=\"currentColor\" text-anchor=\"middle\" y=\"309.5\">\n    <tspan class=\"displacy-word\" fill=\"currentColor\" x=\"400\">a</tspan>\n    <tspan class=\"displacy-tag\" dy=\"2em\" fill=\"currentColor\" x=\"400\">DET</tspan>\n</text>\n\n<text class=\"displacy-token\" fill=\"currentColor\" text-anchor=\"middle\" y=\"309.5\">\n    <tspan class=\"displacy-word\" fill=\"currentColor\" x=\"575\">beautiful</tspan>\n    <tspan class=\"displacy-tag\" dy=\"2em\" fill=\"currentColor\" x=\"575\">ADJ</tspan>\n</text>\n\n<text class=\"displacy-token\" fill=\"currentColor\" text-anchor=\"middle\" y=\"309.5\">\n    <tspan class=\"displacy-word\" fill=\"currentColor\" x=\"750\">town</tspan>\n    <tspan class=\"displacy-tag\" dy=\"2em\" fill=\"currentColor\" x=\"750\">NOUN</tspan>\n</text>\n\n<text class=\"displacy-token\" fill=\"currentColor\" text-anchor=\"middle\" y=\"309.5\">\n    <tspan class=\"displacy-word\" fill=\"currentColor\" x=\"925\">in</tspan>\n    <tspan class=\"displacy-tag\" dy=\"2em\" fill=\"currentColor\" x=\"925\">ADP</tspan>\n</text>\n\n<text class=\"displacy-token\" fill=\"currentColor\" text-anchor=\"middle\" y=\"309.5\">\n    <tspan class=\"displacy-word\" fill=\"currentColor\" x=\"1100\">Switzerland.</tspan>\n    <tspan class=\"displacy-tag\" dy=\"2em\" fill=\"currentColor\" x=\"1100\">PROPN</tspan>\n</text>\n\n<g class=\"displacy-arrow\">\n    <path class=\"displacy-arc\" id=\"arrow-c4ef9ec751a44465bba06e7c771cdc06-0-0\" stroke-width=\"2px\" d=\"M70,264.5 C70,177.0 215.0,177.0 215.0,264.5\" fill=\"none\" stroke=\"currentColor\"/>\n    <text dy=\"1.25em\" style=\"font-size: 0.8em; letter-spacing: 1px\">\n        <textPath xlink:href=\"#arrow-c4ef9ec751a44465bba06e7c771cdc06-0-0\" class=\"displacy-label\" startOffset=\"50%\" side=\"left\" fill=\"currentColor\" text-anchor=\"middle\">nsubj</textPath>\n    </text>\n    <path class=\"displacy-arrowhead\" d=\"M70,266.5 L62,254.5 78,254.5\" fill=\"currentColor\"/>\n</g>\n\n<g class=\"displacy-arrow\">\n    <path class=\"displacy-arc\" id=\"arrow-c4ef9ec751a44465bba06e7c771cdc06-0-1\" stroke-width=\"2px\" d=\"M420,264.5 C420,89.5 745.0,89.5 745.0,264.5\" fill=\"none\" stroke=\"currentColor\"/>\n    <text dy=\"1.25em\" style=\"font-size: 0.8em; letter-spacing: 1px\">\n        <textPath xlink:href=\"#arrow-c4ef9ec751a44465bba06e7c771cdc06-0-1\" class=\"displacy-label\" startOffset=\"50%\" side=\"left\" fill=\"currentColor\" text-anchor=\"middle\">det</textPath>\n    </text>\n    <path class=\"displacy-arrowhead\" d=\"M420,266.5 L412,254.5 428,254.5\" fill=\"currentColor\"/>\n</g>\n\n<g class=\"displacy-arrow\">\n    <path class=\"displacy-arc\" id=\"arrow-c4ef9ec751a44465bba06e7c771cdc06-0-2\" stroke-width=\"2px\" d=\"M595,264.5 C595,177.0 740.0,177.0 740.0,264.5\" fill=\"none\" stroke=\"currentColor\"/>\n    <text dy=\"1.25em\" style=\"font-size: 0.8em; letter-spacing: 1px\">\n        <textPath xlink:href=\"#arrow-c4ef9ec751a44465bba06e7c771cdc06-0-2\" class=\"displacy-label\" startOffset=\"50%\" side=\"left\" fill=\"currentColor\" text-anchor=\"middle\">amod</textPath>\n    </text>\n    <path class=\"displacy-arrowhead\" d=\"M595,266.5 L587,254.5 603,254.5\" fill=\"currentColor\"/>\n</g>\n\n<g class=\"displacy-arrow\">\n    <path class=\"displacy-arc\" id=\"arrow-c4ef9ec751a44465bba06e7c771cdc06-0-3\" stroke-width=\"2px\" d=\"M245,264.5 C245,2.0 750.0,2.0 750.0,264.5\" fill=\"none\" stroke=\"currentColor\"/>\n    <text dy=\"1.25em\" style=\"font-size: 0.8em; letter-spacing: 1px\">\n        <textPath xlink:href=\"#arrow-c4ef9ec751a44465bba06e7c771cdc06-0-3\" class=\"displacy-label\" startOffset=\"50%\" side=\"left\" fill=\"currentColor\" text-anchor=\"middle\">attr</textPath>\n    </text>\n    <path class=\"displacy-arrowhead\" d=\"M750.0,266.5 L758.0,254.5 742.0,254.5\" fill=\"currentColor\"/>\n</g>\n\n<g class=\"displacy-arrow\">\n    <path class=\"displacy-arc\" id=\"arrow-c4ef9ec751a44465bba06e7c771cdc06-0-4\" stroke-width=\"2px\" d=\"M770,264.5 C770,177.0 915.0,177.0 915.0,264.5\" fill=\"none\" stroke=\"currentColor\"/>\n    <text dy=\"1.25em\" style=\"font-size: 0.8em; letter-spacing: 1px\">\n        <textPath xlink:href=\"#arrow-c4ef9ec751a44465bba06e7c771cdc06-0-4\" class=\"displacy-label\" startOffset=\"50%\" side=\"left\" fill=\"currentColor\" text-anchor=\"middle\">prep</textPath>\n    </text>\n    <path class=\"displacy-arrowhead\" d=\"M915.0,266.5 L923.0,254.5 907.0,254.5\" fill=\"currentColor\"/>\n</g>\n\n<g class=\"displacy-arrow\">\n    <path class=\"displacy-arc\" id=\"arrow-c4ef9ec751a44465bba06e7c771cdc06-0-5\" stroke-width=\"2px\" d=\"M945,264.5 C945,177.0 1090.0,177.0 1090.0,264.5\" fill=\"none\" stroke=\"currentColor\"/>\n    <text dy=\"1.25em\" style=\"font-size: 0.8em; letter-spacing: 1px\">\n        <textPath xlink:href=\"#arrow-c4ef9ec751a44465bba06e7c771cdc06-0-5\" class=\"displacy-label\" startOffset=\"50%\" side=\"left\" fill=\"currentColor\" text-anchor=\"middle\">pobj</textPath>\n    </text>\n    <path class=\"displacy-arrowhead\" d=\"M1090.0,266.5 L1098.0,254.5 1082.0,254.5\" fill=\"currentColor\"/>\n</g>\n</svg></span>"
     },
     "metadata": {},
     "output_type": "display_data"
    }
   ]
  },
  {
   "cell_type": "code",
   "metadata": {
    "id": "0NnFVv07Ajki",
    "colab": {
     "base_uri": "https://localhost:8080/",
     "height": 421
    },
    "executionInfo": {
     "status": "ok",
     "timestamp": 1668685923371,
     "user_tz": -60,
     "elapsed": 233,
     "user": {
      "displayName": "hslu clt",
      "userId": "00844546079669052102"
     }
    },
    "outputId": "33542930-deda-4016-c3f9-125fba281cd0"
   },
   "source": [
    "# Phrase level granularity\n",
    "displacy.render(doc, style=\"dep\", jupyter=True, options={'fine_grained': True})"
   ],
   "execution_count": 136,
   "outputs": [
    {
     "data": {
      "text/plain": "<IPython.core.display.HTML object>",
      "text/html": "<span class=\"tex2jax_ignore\"><svg xmlns=\"http://www.w3.org/2000/svg\" xmlns:xlink=\"http://www.w3.org/1999/xlink\" xml:lang=\"en\" id=\"b601e8a39a9d41a0b0a8422066c5ffc7-0\" class=\"displacy\" width=\"1275\" height=\"399.5\" direction=\"ltr\" style=\"max-width: none; height: 399.5px; color: #000000; background: #ffffff; font-family: Arial; direction: ltr\">\n<text class=\"displacy-token\" fill=\"currentColor\" text-anchor=\"middle\" y=\"309.5\">\n    <tspan class=\"displacy-word\" fill=\"currentColor\" x=\"50\">Lucerne</tspan>\n    <tspan class=\"displacy-tag\" dy=\"2em\" fill=\"currentColor\" x=\"50\">NNP</tspan>\n</text>\n\n<text class=\"displacy-token\" fill=\"currentColor\" text-anchor=\"middle\" y=\"309.5\">\n    <tspan class=\"displacy-word\" fill=\"currentColor\" x=\"225\">is</tspan>\n    <tspan class=\"displacy-tag\" dy=\"2em\" fill=\"currentColor\" x=\"225\">VBZ</tspan>\n</text>\n\n<text class=\"displacy-token\" fill=\"currentColor\" text-anchor=\"middle\" y=\"309.5\">\n    <tspan class=\"displacy-word\" fill=\"currentColor\" x=\"400\">a</tspan>\n    <tspan class=\"displacy-tag\" dy=\"2em\" fill=\"currentColor\" x=\"400\">DT</tspan>\n</text>\n\n<text class=\"displacy-token\" fill=\"currentColor\" text-anchor=\"middle\" y=\"309.5\">\n    <tspan class=\"displacy-word\" fill=\"currentColor\" x=\"575\">beautiful</tspan>\n    <tspan class=\"displacy-tag\" dy=\"2em\" fill=\"currentColor\" x=\"575\">JJ</tspan>\n</text>\n\n<text class=\"displacy-token\" fill=\"currentColor\" text-anchor=\"middle\" y=\"309.5\">\n    <tspan class=\"displacy-word\" fill=\"currentColor\" x=\"750\">town</tspan>\n    <tspan class=\"displacy-tag\" dy=\"2em\" fill=\"currentColor\" x=\"750\">NN</tspan>\n</text>\n\n<text class=\"displacy-token\" fill=\"currentColor\" text-anchor=\"middle\" y=\"309.5\">\n    <tspan class=\"displacy-word\" fill=\"currentColor\" x=\"925\">in</tspan>\n    <tspan class=\"displacy-tag\" dy=\"2em\" fill=\"currentColor\" x=\"925\">IN</tspan>\n</text>\n\n<text class=\"displacy-token\" fill=\"currentColor\" text-anchor=\"middle\" y=\"309.5\">\n    <tspan class=\"displacy-word\" fill=\"currentColor\" x=\"1100\">Switzerland.</tspan>\n    <tspan class=\"displacy-tag\" dy=\"2em\" fill=\"currentColor\" x=\"1100\">NNP</tspan>\n</text>\n\n<g class=\"displacy-arrow\">\n    <path class=\"displacy-arc\" id=\"arrow-b601e8a39a9d41a0b0a8422066c5ffc7-0-0\" stroke-width=\"2px\" d=\"M70,264.5 C70,177.0 215.0,177.0 215.0,264.5\" fill=\"none\" stroke=\"currentColor\"/>\n    <text dy=\"1.25em\" style=\"font-size: 0.8em; letter-spacing: 1px\">\n        <textPath xlink:href=\"#arrow-b601e8a39a9d41a0b0a8422066c5ffc7-0-0\" class=\"displacy-label\" startOffset=\"50%\" side=\"left\" fill=\"currentColor\" text-anchor=\"middle\">nsubj</textPath>\n    </text>\n    <path class=\"displacy-arrowhead\" d=\"M70,266.5 L62,254.5 78,254.5\" fill=\"currentColor\"/>\n</g>\n\n<g class=\"displacy-arrow\">\n    <path class=\"displacy-arc\" id=\"arrow-b601e8a39a9d41a0b0a8422066c5ffc7-0-1\" stroke-width=\"2px\" d=\"M420,264.5 C420,89.5 745.0,89.5 745.0,264.5\" fill=\"none\" stroke=\"currentColor\"/>\n    <text dy=\"1.25em\" style=\"font-size: 0.8em; letter-spacing: 1px\">\n        <textPath xlink:href=\"#arrow-b601e8a39a9d41a0b0a8422066c5ffc7-0-1\" class=\"displacy-label\" startOffset=\"50%\" side=\"left\" fill=\"currentColor\" text-anchor=\"middle\">det</textPath>\n    </text>\n    <path class=\"displacy-arrowhead\" d=\"M420,266.5 L412,254.5 428,254.5\" fill=\"currentColor\"/>\n</g>\n\n<g class=\"displacy-arrow\">\n    <path class=\"displacy-arc\" id=\"arrow-b601e8a39a9d41a0b0a8422066c5ffc7-0-2\" stroke-width=\"2px\" d=\"M595,264.5 C595,177.0 740.0,177.0 740.0,264.5\" fill=\"none\" stroke=\"currentColor\"/>\n    <text dy=\"1.25em\" style=\"font-size: 0.8em; letter-spacing: 1px\">\n        <textPath xlink:href=\"#arrow-b601e8a39a9d41a0b0a8422066c5ffc7-0-2\" class=\"displacy-label\" startOffset=\"50%\" side=\"left\" fill=\"currentColor\" text-anchor=\"middle\">amod</textPath>\n    </text>\n    <path class=\"displacy-arrowhead\" d=\"M595,266.5 L587,254.5 603,254.5\" fill=\"currentColor\"/>\n</g>\n\n<g class=\"displacy-arrow\">\n    <path class=\"displacy-arc\" id=\"arrow-b601e8a39a9d41a0b0a8422066c5ffc7-0-3\" stroke-width=\"2px\" d=\"M245,264.5 C245,2.0 750.0,2.0 750.0,264.5\" fill=\"none\" stroke=\"currentColor\"/>\n    <text dy=\"1.25em\" style=\"font-size: 0.8em; letter-spacing: 1px\">\n        <textPath xlink:href=\"#arrow-b601e8a39a9d41a0b0a8422066c5ffc7-0-3\" class=\"displacy-label\" startOffset=\"50%\" side=\"left\" fill=\"currentColor\" text-anchor=\"middle\">attr</textPath>\n    </text>\n    <path class=\"displacy-arrowhead\" d=\"M750.0,266.5 L758.0,254.5 742.0,254.5\" fill=\"currentColor\"/>\n</g>\n\n<g class=\"displacy-arrow\">\n    <path class=\"displacy-arc\" id=\"arrow-b601e8a39a9d41a0b0a8422066c5ffc7-0-4\" stroke-width=\"2px\" d=\"M770,264.5 C770,177.0 915.0,177.0 915.0,264.5\" fill=\"none\" stroke=\"currentColor\"/>\n    <text dy=\"1.25em\" style=\"font-size: 0.8em; letter-spacing: 1px\">\n        <textPath xlink:href=\"#arrow-b601e8a39a9d41a0b0a8422066c5ffc7-0-4\" class=\"displacy-label\" startOffset=\"50%\" side=\"left\" fill=\"currentColor\" text-anchor=\"middle\">prep</textPath>\n    </text>\n    <path class=\"displacy-arrowhead\" d=\"M915.0,266.5 L923.0,254.5 907.0,254.5\" fill=\"currentColor\"/>\n</g>\n\n<g class=\"displacy-arrow\">\n    <path class=\"displacy-arc\" id=\"arrow-b601e8a39a9d41a0b0a8422066c5ffc7-0-5\" stroke-width=\"2px\" d=\"M945,264.5 C945,177.0 1090.0,177.0 1090.0,264.5\" fill=\"none\" stroke=\"currentColor\"/>\n    <text dy=\"1.25em\" style=\"font-size: 0.8em; letter-spacing: 1px\">\n        <textPath xlink:href=\"#arrow-b601e8a39a9d41a0b0a8422066c5ffc7-0-5\" class=\"displacy-label\" startOffset=\"50%\" side=\"left\" fill=\"currentColor\" text-anchor=\"middle\">pobj</textPath>\n    </text>\n    <path class=\"displacy-arrowhead\" d=\"M1090.0,266.5 L1098.0,254.5 1082.0,254.5\" fill=\"currentColor\"/>\n</g>\n</svg></span>"
     },
     "metadata": {},
     "output_type": "display_data"
    }
   ]
  },
  {
   "cell_type": "code",
   "metadata": {
    "id": "gqMq7RN9CR1p",
    "colab": {
     "base_uri": "https://localhost:8080/",
     "height": 246
    },
    "executionInfo": {
     "status": "ok",
     "timestamp": 1668685933212,
     "user_tz": -60,
     "elapsed": 287,
     "user": {
      "displayName": "hslu clt",
      "userId": "00844546079669052102"
     }
    },
    "outputId": "18e25b0d-e033-4c58-eec1-bebe97db9b28"
   },
   "source": [
    "# Merge noun phrases into one token.\n",
    "displacy.render(doc, style=\"dep\", jupyter=True, options={'collapse_phrases': True})"
   ],
   "execution_count": 101,
   "outputs": [
    {
     "output_type": "display_data",
     "data": {
      "text/plain": [
       "<IPython.core.display.HTML object>"
      ],
      "text/html": [
       "<span class=\"tex2jax_ignore\"><svg xmlns=\"http://www.w3.org/2000/svg\" xmlns:xlink=\"http://www.w3.org/1999/xlink\" xml:lang=\"en\" id=\"2a201b2f624c406e8445dda63bdb8c43-0\" class=\"displacy\" width=\"925\" height=\"224.5\" direction=\"ltr\" style=\"max-width: none; height: 224.5px; color: #000000; background: #ffffff; font-family: Arial; direction: ltr\">\n",
       "<text class=\"displacy-token\" fill=\"currentColor\" text-anchor=\"middle\" y=\"134.5\">\n",
       "    <tspan class=\"displacy-word\" fill=\"currentColor\" x=\"50\">Lucerne</tspan>\n",
       "    <tspan class=\"displacy-tag\" dy=\"2em\" fill=\"currentColor\" x=\"50\">PROPN</tspan>\n",
       "</text>\n",
       "\n",
       "<text class=\"displacy-token\" fill=\"currentColor\" text-anchor=\"middle\" y=\"134.5\">\n",
       "    <tspan class=\"displacy-word\" fill=\"currentColor\" x=\"225\">is</tspan>\n",
       "    <tspan class=\"displacy-tag\" dy=\"2em\" fill=\"currentColor\" x=\"225\">AUX</tspan>\n",
       "</text>\n",
       "\n",
       "<text class=\"displacy-token\" fill=\"currentColor\" text-anchor=\"middle\" y=\"134.5\">\n",
       "    <tspan class=\"displacy-word\" fill=\"currentColor\" x=\"400\">a beautiful town</tspan>\n",
       "    <tspan class=\"displacy-tag\" dy=\"2em\" fill=\"currentColor\" x=\"400\">NOUN</tspan>\n",
       "</text>\n",
       "\n",
       "<text class=\"displacy-token\" fill=\"currentColor\" text-anchor=\"middle\" y=\"134.5\">\n",
       "    <tspan class=\"displacy-word\" fill=\"currentColor\" x=\"575\">in</tspan>\n",
       "    <tspan class=\"displacy-tag\" dy=\"2em\" fill=\"currentColor\" x=\"575\">ADP</tspan>\n",
       "</text>\n",
       "\n",
       "<text class=\"displacy-token\" fill=\"currentColor\" text-anchor=\"middle\" y=\"134.5\">\n",
       "    <tspan class=\"displacy-word\" fill=\"currentColor\" x=\"750\">Switzerland.</tspan>\n",
       "    <tspan class=\"displacy-tag\" dy=\"2em\" fill=\"currentColor\" x=\"750\">PROPN</tspan>\n",
       "</text>\n",
       "\n",
       "<g class=\"displacy-arrow\">\n",
       "    <path class=\"displacy-arc\" id=\"arrow-2a201b2f624c406e8445dda63bdb8c43-0-0\" stroke-width=\"2px\" d=\"M70,89.5 C70,2.0 225.0,2.0 225.0,89.5\" fill=\"none\" stroke=\"currentColor\"/>\n",
       "    <text dy=\"1.25em\" style=\"font-size: 0.8em; letter-spacing: 1px\">\n",
       "        <textPath xlink:href=\"#arrow-2a201b2f624c406e8445dda63bdb8c43-0-0\" class=\"displacy-label\" startOffset=\"50%\" side=\"left\" fill=\"currentColor\" text-anchor=\"middle\">nsubj</textPath>\n",
       "    </text>\n",
       "    <path class=\"displacy-arrowhead\" d=\"M70,91.5 L62,79.5 78,79.5\" fill=\"currentColor\"/>\n",
       "</g>\n",
       "\n",
       "<g class=\"displacy-arrow\">\n",
       "    <path class=\"displacy-arc\" id=\"arrow-2a201b2f624c406e8445dda63bdb8c43-0-1\" stroke-width=\"2px\" d=\"M245,89.5 C245,2.0 400.0,2.0 400.0,89.5\" fill=\"none\" stroke=\"currentColor\"/>\n",
       "    <text dy=\"1.25em\" style=\"font-size: 0.8em; letter-spacing: 1px\">\n",
       "        <textPath xlink:href=\"#arrow-2a201b2f624c406e8445dda63bdb8c43-0-1\" class=\"displacy-label\" startOffset=\"50%\" side=\"left\" fill=\"currentColor\" text-anchor=\"middle\">attr</textPath>\n",
       "    </text>\n",
       "    <path class=\"displacy-arrowhead\" d=\"M400.0,91.5 L408.0,79.5 392.0,79.5\" fill=\"currentColor\"/>\n",
       "</g>\n",
       "\n",
       "<g class=\"displacy-arrow\">\n",
       "    <path class=\"displacy-arc\" id=\"arrow-2a201b2f624c406e8445dda63bdb8c43-0-2\" stroke-width=\"2px\" d=\"M420,89.5 C420,2.0 575.0,2.0 575.0,89.5\" fill=\"none\" stroke=\"currentColor\"/>\n",
       "    <text dy=\"1.25em\" style=\"font-size: 0.8em; letter-spacing: 1px\">\n",
       "        <textPath xlink:href=\"#arrow-2a201b2f624c406e8445dda63bdb8c43-0-2\" class=\"displacy-label\" startOffset=\"50%\" side=\"left\" fill=\"currentColor\" text-anchor=\"middle\">prep</textPath>\n",
       "    </text>\n",
       "    <path class=\"displacy-arrowhead\" d=\"M575.0,91.5 L583.0,79.5 567.0,79.5\" fill=\"currentColor\"/>\n",
       "</g>\n",
       "\n",
       "<g class=\"displacy-arrow\">\n",
       "    <path class=\"displacy-arc\" id=\"arrow-2a201b2f624c406e8445dda63bdb8c43-0-3\" stroke-width=\"2px\" d=\"M595,89.5 C595,2.0 750.0,2.0 750.0,89.5\" fill=\"none\" stroke=\"currentColor\"/>\n",
       "    <text dy=\"1.25em\" style=\"font-size: 0.8em; letter-spacing: 1px\">\n",
       "        <textPath xlink:href=\"#arrow-2a201b2f624c406e8445dda63bdb8c43-0-3\" class=\"displacy-label\" startOffset=\"50%\" side=\"left\" fill=\"currentColor\" text-anchor=\"middle\">pobj</textPath>\n",
       "    </text>\n",
       "    <path class=\"displacy-arrowhead\" d=\"M750.0,91.5 L758.0,79.5 742.0,79.5\" fill=\"currentColor\"/>\n",
       "</g>\n",
       "</svg></span>"
      ]
     },
     "metadata": {}
    }
   ]
  },
  {
   "cell_type": "code",
   "execution_count": 140,
   "outputs": [
    {
     "data": {
      "text/plain": "'noun, proper singular'"
     },
     "execution_count": 140,
     "metadata": {},
     "output_type": "execute_result"
    }
   ],
   "source": [
    "spacy.explain(u'NNP')"
   ],
   "metadata": {
    "collapsed": false
   }
  },
  {
   "cell_type": "code",
   "metadata": {
    "id": "GYA-K5duGWEM",
    "colab": {
     "base_uri": "https://localhost:8080/",
     "height": 36
    },
    "executionInfo": {
     "status": "ok",
     "timestamp": 1668685967625,
     "user_tz": -60,
     "elapsed": 268,
     "user": {
      "displayName": "hslu clt",
      "userId": "00844546079669052102"
     }
    },
    "outputId": "a266f789-8a8a-4ed6-d5b0-2d259b4ac4fe"
   },
   "source": [
    "# Get a description for a given POS tag, dependency label or entity type\n",
    "spacy.explain(u'AUX')"
   ],
   "execution_count": 137,
   "outputs": [
    {
     "data": {
      "text/plain": "'auxiliary'"
     },
     "execution_count": 137,
     "metadata": {},
     "output_type": "execute_result"
    }
   ]
  },
  {
   "cell_type": "code",
   "metadata": {
    "id": "S_jhfLt-HCC3",
    "colab": {
     "base_uri": "https://localhost:8080/"
    },
    "executionInfo": {
     "status": "ok",
     "timestamp": 1668686059284,
     "user_tz": -60,
     "elapsed": 225,
     "user": {
      "displayName": "hslu clt",
      "userId": "00844546079669052102"
     }
    },
    "outputId": "b592ba48-4240-4d9b-c9f1-4a9370314edf"
   },
   "source": [
    "# Stop words\n",
    "stopwords = nlp.Defaults.stop_words\n",
    "\n",
    "# Default stop word list in Spacy\n",
    "print(len(stopwords))\n",
    "print(stopwords)"
   ],
   "execution_count": 143,
   "outputs": [
    {
     "name": "stdout",
     "output_type": "stream",
     "text": [
      "326\n",
      "{'thereupon', 'to', 'upon', 'via', 'call', 'same', 'hers', 'along', 'when', 'would', 'beforehand', 'myself', 'very', 'them', 'us', 'all', 'other', 'then', 'there', 'below', \"'d\", 'was', 'say', '’d', 'thence', 'will', '’m', 'part', 'except', 'elsewhere', 'keep', '‘re', 'within', 'whereby', 'fifteen', '‘d', 'during', 'either', 'down', 'former', 'none', 'such', 'up', 'top', 'though', 'without', 'whose', 'almost', 'does', 'mostly', 'whoever', 'due', 'wherever', 'noone', 'every', 'were', 'yours', 'you', 'several', '‘ll', 'everyone', 'since', 'see', 'we', 'she', 'no', 'our', 'often', 'so', 'hereby', 'above', 'because', 'indeed', 'thereafter', 'sometimes', 'move', 'for', 'whence', 'become', 'last', 'doing', 'however', 'yet', 'hundred', 'make', 'before', 'unless', '‘s', 'never', 'another', 'namely', '’ll', 'my', 'could', '‘ve', 'twenty', 'first', 'nor', 'are', 'an', 'into', 'one', 'over', 'own', 'which', 'whereas', 'here', 'already', 'something', 'i', 'cannot', 'formerly', 'be', 'herein', 'nevertheless', 'otherwise', 'than', 'done', 'mine', 'ca', '’re', 'once', 'everywhere', 'under', \"'ll\", 'how', 'always', 'who', 'against', 'whereupon', 'besides', 'your', 'her', 'full', 'give', 'after', 'front', 'anyway', 'the', \"'m\", 'anyhow', 'being', 'serious', 'using', 'moreover', 'may', 'empty', 'sixty', 'at', 'becoming', 'should', 'whither', 'thru', 'therein', 'whole', 'put', 'beside', '’ve', 'throughout', 'anyone', 'together', 'those', 'ten', 'even', 'eight', 'get', 'it', 'him', 'about', 'seeming', 'amount', 'others', 'many', 'anything', 'somewhere', 'can', 'few', 'a', 'he', 'ourselves', 'well', 'two', 'herself', 'least', 'their', 'too', 'but', 'ever', 'also', 'yourself', \"'s\", '’s', 'most', 'whereafter', 'itself', 'been', 'himself', \"n't\", 'less', 'whenever', 'whatever', 'of', 'twelve', 'four', 'onto', 'latter', 'they', 'with', 'not', 're', 'take', 'wherein', 'any', 'various', 'am', 'whom', 'becomes', 'whether', '‘m', 'n‘t', 'now', 'toward', 'off', 'hence', 'still', 'latterly', 'sometime', 'again', 'his', 'nothing', 'three', 'seems', 'six', 'some', 'thereby', 'used', 'among', 'afterwards', 'might', 'further', 'amongst', 'this', 'although', 'and', 'perhaps', 'anywhere', 'out', 'quite', 'across', 'became', 'eleven', 'seem', 'why', 'from', 'thus', 'nobody', 'yourselves', 'themselves', 'have', 'neither', 'therefore', 'these', \"'re\", 'each', 'by', 'next', 'made', 'on', 'did', 'if', 'back', 'fifty', 'beyond', 'just', 'regarding', \"'ve\", 'between', 'hereafter', 'is', 'alone', 'per', 'that', 'behind', 'really', 'must', 'n’t', 'around', 'ours', 'through', 'someone', 'me', 'more', 'in', 'nine', 'rather', 'or', 'seemed', 'meanwhile', 'had', 'hereupon', 'both', 'as', 'much', 'third', 'while', 'only', 'until', 'forty', 'bottom', 'enough', 'please', 'else', 'towards', 'has', 'do', 'side', 'five', 'nowhere', 'what', 'everything', 'somehow', 'show', 'its', 'where', 'name', 'go'}\n"
     ]
    }
   ]
  },
  {
   "cell_type": "code",
   "metadata": {
    "id": "y4U8bS3TMnGe",
    "colab": {
     "base_uri": "https://localhost:8080/"
    },
    "executionInfo": {
     "status": "ok",
     "timestamp": 1668686075527,
     "user_tz": -60,
     "elapsed": 244,
     "user": {
      "displayName": "hslu clt",
      "userId": "00844546079669052102"
     }
    },
    "outputId": "4a4d932e-ea2e-4817-d424-001af68593f1"
   },
   "source": [
    "# Check stop words in document\n",
    "for token in doc:\n",
    "    print(token.text, '\\n-->' , token.is_stop)"
   ],
   "execution_count": 104,
   "outputs": [
    {
     "output_type": "stream",
     "name": "stdout",
     "text": [
      "Lucerne \n",
      "--> False\n",
      "is \n",
      "--> True\n",
      "a \n",
      "--> True\n",
      "beautiful \n",
      "--> False\n",
      "town \n",
      "--> False\n",
      "in \n",
      "--> True\n",
      "Switzerland \n",
      "--> False\n",
      ". \n",
      "--> False\n"
     ]
    }
   ]
  },
  {
   "cell_type": "code",
   "metadata": {
    "id": "FCQjaTAUMzsl",
    "colab": {
     "base_uri": "https://localhost:8080/"
    },
    "executionInfo": {
     "status": "ok",
     "timestamp": 1668686167464,
     "user_tz": -60,
     "elapsed": 217,
     "user": {
      "displayName": "hslu clt",
      "userId": "00844546079669052102"
     }
    },
    "outputId": "46b9a2f3-1c1e-463f-9b50-c42862c98f3e"
   },
   "source": [
    "# Add stop words\n",
    "nlp.Defaults.stop_words |= {\"newstopword1\",\"newstopword2\"}\n",
    "nwords = [i for i in stopwords if(i.startswith('n'))]\n",
    "print(nwords)"
   ],
   "execution_count": 144,
   "outputs": [
    {
     "name": "stdout",
     "output_type": "stream",
     "text": [
      "['none', 'noone', 'no', 'never', 'namely', 'nor', 'newstopword1', 'nevertheless', \"n't\", 'not', 'n‘t', 'now', 'nothing', 'newstopword2', 'nobody', 'neither', 'next', 'n’t', 'nine', 'nowhere', 'name']\n"
     ]
    }
   ]
  },
  {
   "cell_type": "code",
   "metadata": {
    "id": "K5Kzd-s2NXwL",
    "colab": {
     "base_uri": "https://localhost:8080/"
    },
    "executionInfo": {
     "status": "ok",
     "timestamp": 1668686180898,
     "user_tz": -60,
     "elapsed": 241,
     "user": {
      "displayName": "hslu clt",
      "userId": "00844546079669052102"
     }
    },
    "outputId": "b6d769be-a168-426c-be2e-cf21455e7b7e"
   },
   "source": [
    "# Remove stop words from default list\n",
    "nlp.Defaults.stop_words -= {\"newstopword1\",\"newstopword2\"}\n",
    "nwords = [i for i in stopwords if(i.startswith('n'))]\n",
    "print(nwords)"
   ],
   "execution_count": 145,
   "outputs": [
    {
     "name": "stdout",
     "output_type": "stream",
     "text": [
      "['none', 'noone', 'no', 'never', 'namely', 'nor', 'nevertheless', \"n't\", 'not', 'n‘t', 'now', 'nothing', 'nobody', 'neither', 'next', 'n’t', 'nine', 'nowhere', 'name']\n"
     ]
    }
   ]
  },
  {
   "cell_type": "code",
   "metadata": {
    "id": "785go7OkO3Iz",
    "colab": {
     "base_uri": "https://localhost:8080/"
    },
    "executionInfo": {
     "status": "ok",
     "timestamp": 1668686195803,
     "user_tz": -60,
     "elapsed": 257,
     "user": {
      "displayName": "hslu clt",
      "userId": "00844546079669052102"
     }
    },
    "outputId": "ee8bcc89-ddb0-4460-f74a-e62953cad4e0"
   },
   "source": [
    "# Remove stop words from text\n",
    "sentence_wo_stops = []\n",
    "for token in doc:\n",
    "  if token.text in stopwords:\n",
    "    print('stop word \\t-->', token)\n",
    "  else:\n",
    "    print('function word \\t-->', token)\n",
    "    sentence_wo_stops.append(token.text)\n",
    "\n",
    "print('\\nThe sentence after stop word removal contains only content words:', ' '.join(sentence_wo_stops))"
   ],
   "execution_count": 146,
   "outputs": [
    {
     "name": "stdout",
     "output_type": "stream",
     "text": [
      "function word \t--> Lucerne\n",
      "stop word \t--> is\n",
      "stop word \t--> a\n",
      "function word \t--> beautiful\n",
      "function word \t--> town\n",
      "stop word \t--> in\n",
      "function word \t--> Switzerland\n",
      "function word \t--> .\n",
      "\n",
      "The sentence after stop word removal contains only content words: Lucerne beautiful town Switzerland .\n"
     ]
    }
   ]
  },
  {
   "cell_type": "markdown",
   "source": [
    "## Semantics"
   ],
   "metadata": {
    "id": "WptCjQNDZkBB"
   }
  },
  {
   "cell_type": "code",
   "metadata": {
    "id": "5zoMep-9XHas"
   },
   "source": [
    "s1_apple = nlp('She worked at Apple.')\n",
    "s2_apple = nlp('She ate an apple.')"
   ],
   "execution_count": 155,
   "outputs": []
  },
  {
   "cell_type": "code",
   "metadata": {
    "id": "Ol9QVmiXYciX",
    "colab": {
     "base_uri": "https://localhost:8080/",
     "height": 246
    },
    "executionInfo": {
     "status": "ok",
     "timestamp": 1668686404344,
     "user_tz": -60,
     "elapsed": 344,
     "user": {
      "displayName": "hslu clt",
      "userId": "00844546079669052102"
     }
    },
    "outputId": "398f33b4-1f1e-4ddf-9a44-857bae73c784"
   },
   "source": [
    "# WSD with POS\n",
    "displacy.render(s1_apple, style=\"dep\", jupyter=True, options={'fine_grained': False})"
   ],
   "execution_count": 156,
   "outputs": [
    {
     "data": {
      "text/plain": "<IPython.core.display.HTML object>",
      "text/html": "<span class=\"tex2jax_ignore\"><svg xmlns=\"http://www.w3.org/2000/svg\" xmlns:xlink=\"http://www.w3.org/1999/xlink\" xml:lang=\"en\" id=\"9615b687e5414f71a6f296ea063c433b-0\" class=\"displacy\" width=\"750\" height=\"224.5\" direction=\"ltr\" style=\"max-width: none; height: 224.5px; color: #000000; background: #ffffff; font-family: Arial; direction: ltr\">\n<text class=\"displacy-token\" fill=\"currentColor\" text-anchor=\"middle\" y=\"134.5\">\n    <tspan class=\"displacy-word\" fill=\"currentColor\" x=\"50\">She</tspan>\n    <tspan class=\"displacy-tag\" dy=\"2em\" fill=\"currentColor\" x=\"50\">PRON</tspan>\n</text>\n\n<text class=\"displacy-token\" fill=\"currentColor\" text-anchor=\"middle\" y=\"134.5\">\n    <tspan class=\"displacy-word\" fill=\"currentColor\" x=\"225\">worked</tspan>\n    <tspan class=\"displacy-tag\" dy=\"2em\" fill=\"currentColor\" x=\"225\">VERB</tspan>\n</text>\n\n<text class=\"displacy-token\" fill=\"currentColor\" text-anchor=\"middle\" y=\"134.5\">\n    <tspan class=\"displacy-word\" fill=\"currentColor\" x=\"400\">at</tspan>\n    <tspan class=\"displacy-tag\" dy=\"2em\" fill=\"currentColor\" x=\"400\">ADP</tspan>\n</text>\n\n<text class=\"displacy-token\" fill=\"currentColor\" text-anchor=\"middle\" y=\"134.5\">\n    <tspan class=\"displacy-word\" fill=\"currentColor\" x=\"575\">Apple.</tspan>\n    <tspan class=\"displacy-tag\" dy=\"2em\" fill=\"currentColor\" x=\"575\">PROPN</tspan>\n</text>\n\n<g class=\"displacy-arrow\">\n    <path class=\"displacy-arc\" id=\"arrow-9615b687e5414f71a6f296ea063c433b-0-0\" stroke-width=\"2px\" d=\"M70,89.5 C70,2.0 225.0,2.0 225.0,89.5\" fill=\"none\" stroke=\"currentColor\"/>\n    <text dy=\"1.25em\" style=\"font-size: 0.8em; letter-spacing: 1px\">\n        <textPath xlink:href=\"#arrow-9615b687e5414f71a6f296ea063c433b-0-0\" class=\"displacy-label\" startOffset=\"50%\" side=\"left\" fill=\"currentColor\" text-anchor=\"middle\">nsubj</textPath>\n    </text>\n    <path class=\"displacy-arrowhead\" d=\"M70,91.5 L62,79.5 78,79.5\" fill=\"currentColor\"/>\n</g>\n\n<g class=\"displacy-arrow\">\n    <path class=\"displacy-arc\" id=\"arrow-9615b687e5414f71a6f296ea063c433b-0-1\" stroke-width=\"2px\" d=\"M245,89.5 C245,2.0 400.0,2.0 400.0,89.5\" fill=\"none\" stroke=\"currentColor\"/>\n    <text dy=\"1.25em\" style=\"font-size: 0.8em; letter-spacing: 1px\">\n        <textPath xlink:href=\"#arrow-9615b687e5414f71a6f296ea063c433b-0-1\" class=\"displacy-label\" startOffset=\"50%\" side=\"left\" fill=\"currentColor\" text-anchor=\"middle\">prep</textPath>\n    </text>\n    <path class=\"displacy-arrowhead\" d=\"M400.0,91.5 L408.0,79.5 392.0,79.5\" fill=\"currentColor\"/>\n</g>\n\n<g class=\"displacy-arrow\">\n    <path class=\"displacy-arc\" id=\"arrow-9615b687e5414f71a6f296ea063c433b-0-2\" stroke-width=\"2px\" d=\"M420,89.5 C420,2.0 575.0,2.0 575.0,89.5\" fill=\"none\" stroke=\"currentColor\"/>\n    <text dy=\"1.25em\" style=\"font-size: 0.8em; letter-spacing: 1px\">\n        <textPath xlink:href=\"#arrow-9615b687e5414f71a6f296ea063c433b-0-2\" class=\"displacy-label\" startOffset=\"50%\" side=\"left\" fill=\"currentColor\" text-anchor=\"middle\">pobj</textPath>\n    </text>\n    <path class=\"displacy-arrowhead\" d=\"M575.0,91.5 L583.0,79.5 567.0,79.5\" fill=\"currentColor\"/>\n</g>\n</svg></span>"
     },
     "metadata": {},
     "output_type": "display_data"
    }
   ]
  },
  {
   "cell_type": "code",
   "metadata": {
    "id": "Tnn2RdzFYjVy",
    "colab": {
     "base_uri": "https://localhost:8080/",
     "height": 334
    },
    "executionInfo": {
     "status": "ok",
     "timestamp": 1668686416204,
     "user_tz": -60,
     "elapsed": 283,
     "user": {
      "displayName": "hslu clt",
      "userId": "00844546079669052102"
     }
    },
    "outputId": "839f6d2b-4272-412f-f96c-8c31d479c86a"
   },
   "source": [
    "# WSD with POS\n",
    "displacy.render(s2_apple, style=\"dep\", jupyter=True, options={'fine_grained': False})"
   ],
   "execution_count": 157,
   "outputs": [
    {
     "data": {
      "text/plain": "<IPython.core.display.HTML object>",
      "text/html": "<span class=\"tex2jax_ignore\"><svg xmlns=\"http://www.w3.org/2000/svg\" xmlns:xlink=\"http://www.w3.org/1999/xlink\" xml:lang=\"en\" id=\"6657fb40491e4db8ab8386477fa91c33-0\" class=\"displacy\" width=\"750\" height=\"312.0\" direction=\"ltr\" style=\"max-width: none; height: 312.0px; color: #000000; background: #ffffff; font-family: Arial; direction: ltr\">\n<text class=\"displacy-token\" fill=\"currentColor\" text-anchor=\"middle\" y=\"222.0\">\n    <tspan class=\"displacy-word\" fill=\"currentColor\" x=\"50\">She</tspan>\n    <tspan class=\"displacy-tag\" dy=\"2em\" fill=\"currentColor\" x=\"50\">PRON</tspan>\n</text>\n\n<text class=\"displacy-token\" fill=\"currentColor\" text-anchor=\"middle\" y=\"222.0\">\n    <tspan class=\"displacy-word\" fill=\"currentColor\" x=\"225\">ate</tspan>\n    <tspan class=\"displacy-tag\" dy=\"2em\" fill=\"currentColor\" x=\"225\">VERB</tspan>\n</text>\n\n<text class=\"displacy-token\" fill=\"currentColor\" text-anchor=\"middle\" y=\"222.0\">\n    <tspan class=\"displacy-word\" fill=\"currentColor\" x=\"400\">an</tspan>\n    <tspan class=\"displacy-tag\" dy=\"2em\" fill=\"currentColor\" x=\"400\">DET</tspan>\n</text>\n\n<text class=\"displacy-token\" fill=\"currentColor\" text-anchor=\"middle\" y=\"222.0\">\n    <tspan class=\"displacy-word\" fill=\"currentColor\" x=\"575\">apple.</tspan>\n    <tspan class=\"displacy-tag\" dy=\"2em\" fill=\"currentColor\" x=\"575\">NOUN</tspan>\n</text>\n\n<g class=\"displacy-arrow\">\n    <path class=\"displacy-arc\" id=\"arrow-6657fb40491e4db8ab8386477fa91c33-0-0\" stroke-width=\"2px\" d=\"M70,177.0 C70,89.5 220.0,89.5 220.0,177.0\" fill=\"none\" stroke=\"currentColor\"/>\n    <text dy=\"1.25em\" style=\"font-size: 0.8em; letter-spacing: 1px\">\n        <textPath xlink:href=\"#arrow-6657fb40491e4db8ab8386477fa91c33-0-0\" class=\"displacy-label\" startOffset=\"50%\" side=\"left\" fill=\"currentColor\" text-anchor=\"middle\">nsubj</textPath>\n    </text>\n    <path class=\"displacy-arrowhead\" d=\"M70,179.0 L62,167.0 78,167.0\" fill=\"currentColor\"/>\n</g>\n\n<g class=\"displacy-arrow\">\n    <path class=\"displacy-arc\" id=\"arrow-6657fb40491e4db8ab8386477fa91c33-0-1\" stroke-width=\"2px\" d=\"M420,177.0 C420,89.5 570.0,89.5 570.0,177.0\" fill=\"none\" stroke=\"currentColor\"/>\n    <text dy=\"1.25em\" style=\"font-size: 0.8em; letter-spacing: 1px\">\n        <textPath xlink:href=\"#arrow-6657fb40491e4db8ab8386477fa91c33-0-1\" class=\"displacy-label\" startOffset=\"50%\" side=\"left\" fill=\"currentColor\" text-anchor=\"middle\">det</textPath>\n    </text>\n    <path class=\"displacy-arrowhead\" d=\"M420,179.0 L412,167.0 428,167.0\" fill=\"currentColor\"/>\n</g>\n\n<g class=\"displacy-arrow\">\n    <path class=\"displacy-arc\" id=\"arrow-6657fb40491e4db8ab8386477fa91c33-0-2\" stroke-width=\"2px\" d=\"M245,177.0 C245,2.0 575.0,2.0 575.0,177.0\" fill=\"none\" stroke=\"currentColor\"/>\n    <text dy=\"1.25em\" style=\"font-size: 0.8em; letter-spacing: 1px\">\n        <textPath xlink:href=\"#arrow-6657fb40491e4db8ab8386477fa91c33-0-2\" class=\"displacy-label\" startOffset=\"50%\" side=\"left\" fill=\"currentColor\" text-anchor=\"middle\">dobj</textPath>\n    </text>\n    <path class=\"displacy-arrowhead\" d=\"M575.0,179.0 L583.0,167.0 567.0,167.0\" fill=\"currentColor\"/>\n</g>\n</svg></span>"
     },
     "metadata": {},
     "output_type": "display_data"
    }
   ]
  },
  {
   "cell_type": "code",
   "metadata": {
    "id": "Jb-99mFRaJ5l",
    "executionInfo": {
     "status": "ok",
     "timestamp": 1668686577788,
     "user_tz": -60,
     "elapsed": 267,
     "user": {
      "displayName": "hslu clt",
      "userId": "00844546079669052102"
     }
    }
   },
   "source": [
    "s1_java = nlp('She worked in Java.')\n",
    "s2_java = nlp('She codes in Java.')"
   ],
   "execution_count": 158,
   "outputs": []
  },
  {
   "cell_type": "code",
   "metadata": {
    "id": "stAuTuinaVvn",
    "colab": {
     "base_uri": "https://localhost:8080/",
     "height": 246
    },
    "executionInfo": {
     "status": "ok",
     "timestamp": 1668686587343,
     "user_tz": -60,
     "elapsed": 212,
     "user": {
      "displayName": "hslu clt",
      "userId": "00844546079669052102"
     }
    },
    "outputId": "52cf9d4b-39c3-49fe-9c79-cb885b057e05"
   },
   "source": [
    "displacy.render(s1_java, style=\"dep\", jupyter=True, options={'fine_grained': True})"
   ],
   "execution_count": 159,
   "outputs": [
    {
     "data": {
      "text/plain": "<IPython.core.display.HTML object>",
      "text/html": "<span class=\"tex2jax_ignore\"><svg xmlns=\"http://www.w3.org/2000/svg\" xmlns:xlink=\"http://www.w3.org/1999/xlink\" xml:lang=\"en\" id=\"61effb18ea6a498f886b8c9996cbb225-0\" class=\"displacy\" width=\"750\" height=\"224.5\" direction=\"ltr\" style=\"max-width: none; height: 224.5px; color: #000000; background: #ffffff; font-family: Arial; direction: ltr\">\n<text class=\"displacy-token\" fill=\"currentColor\" text-anchor=\"middle\" y=\"134.5\">\n    <tspan class=\"displacy-word\" fill=\"currentColor\" x=\"50\">She</tspan>\n    <tspan class=\"displacy-tag\" dy=\"2em\" fill=\"currentColor\" x=\"50\">PRP</tspan>\n</text>\n\n<text class=\"displacy-token\" fill=\"currentColor\" text-anchor=\"middle\" y=\"134.5\">\n    <tspan class=\"displacy-word\" fill=\"currentColor\" x=\"225\">worked</tspan>\n    <tspan class=\"displacy-tag\" dy=\"2em\" fill=\"currentColor\" x=\"225\">VBD</tspan>\n</text>\n\n<text class=\"displacy-token\" fill=\"currentColor\" text-anchor=\"middle\" y=\"134.5\">\n    <tspan class=\"displacy-word\" fill=\"currentColor\" x=\"400\">in</tspan>\n    <tspan class=\"displacy-tag\" dy=\"2em\" fill=\"currentColor\" x=\"400\">IN</tspan>\n</text>\n\n<text class=\"displacy-token\" fill=\"currentColor\" text-anchor=\"middle\" y=\"134.5\">\n    <tspan class=\"displacy-word\" fill=\"currentColor\" x=\"575\">Java.</tspan>\n    <tspan class=\"displacy-tag\" dy=\"2em\" fill=\"currentColor\" x=\"575\">NNP</tspan>\n</text>\n\n<g class=\"displacy-arrow\">\n    <path class=\"displacy-arc\" id=\"arrow-61effb18ea6a498f886b8c9996cbb225-0-0\" stroke-width=\"2px\" d=\"M70,89.5 C70,2.0 225.0,2.0 225.0,89.5\" fill=\"none\" stroke=\"currentColor\"/>\n    <text dy=\"1.25em\" style=\"font-size: 0.8em; letter-spacing: 1px\">\n        <textPath xlink:href=\"#arrow-61effb18ea6a498f886b8c9996cbb225-0-0\" class=\"displacy-label\" startOffset=\"50%\" side=\"left\" fill=\"currentColor\" text-anchor=\"middle\">nsubj</textPath>\n    </text>\n    <path class=\"displacy-arrowhead\" d=\"M70,91.5 L62,79.5 78,79.5\" fill=\"currentColor\"/>\n</g>\n\n<g class=\"displacy-arrow\">\n    <path class=\"displacy-arc\" id=\"arrow-61effb18ea6a498f886b8c9996cbb225-0-1\" stroke-width=\"2px\" d=\"M245,89.5 C245,2.0 400.0,2.0 400.0,89.5\" fill=\"none\" stroke=\"currentColor\"/>\n    <text dy=\"1.25em\" style=\"font-size: 0.8em; letter-spacing: 1px\">\n        <textPath xlink:href=\"#arrow-61effb18ea6a498f886b8c9996cbb225-0-1\" class=\"displacy-label\" startOffset=\"50%\" side=\"left\" fill=\"currentColor\" text-anchor=\"middle\">prep</textPath>\n    </text>\n    <path class=\"displacy-arrowhead\" d=\"M400.0,91.5 L408.0,79.5 392.0,79.5\" fill=\"currentColor\"/>\n</g>\n\n<g class=\"displacy-arrow\">\n    <path class=\"displacy-arc\" id=\"arrow-61effb18ea6a498f886b8c9996cbb225-0-2\" stroke-width=\"2px\" d=\"M420,89.5 C420,2.0 575.0,2.0 575.0,89.5\" fill=\"none\" stroke=\"currentColor\"/>\n    <text dy=\"1.25em\" style=\"font-size: 0.8em; letter-spacing: 1px\">\n        <textPath xlink:href=\"#arrow-61effb18ea6a498f886b8c9996cbb225-0-2\" class=\"displacy-label\" startOffset=\"50%\" side=\"left\" fill=\"currentColor\" text-anchor=\"middle\">pobj</textPath>\n    </text>\n    <path class=\"displacy-arrowhead\" d=\"M575.0,91.5 L583.0,79.5 567.0,79.5\" fill=\"currentColor\"/>\n</g>\n</svg></span>"
     },
     "metadata": {},
     "output_type": "display_data"
    }
   ]
  },
  {
   "cell_type": "code",
   "metadata": {
    "id": "qQ92DU1raWkS",
    "colab": {
     "base_uri": "https://localhost:8080/",
     "height": 246
    },
    "executionInfo": {
     "status": "ok",
     "timestamp": 1668686591756,
     "user_tz": -60,
     "elapsed": 246,
     "user": {
      "displayName": "hslu clt",
      "userId": "00844546079669052102"
     }
    },
    "outputId": "9713e890-36fa-49f3-dcc2-4fc4a2791d83"
   },
   "source": [
    "displacy.render(s2_java, style=\"dep\", jupyter=True, options={'fine_grained': True})"
   ],
   "execution_count": 160,
   "outputs": [
    {
     "data": {
      "text/plain": "<IPython.core.display.HTML object>",
      "text/html": "<span class=\"tex2jax_ignore\"><svg xmlns=\"http://www.w3.org/2000/svg\" xmlns:xlink=\"http://www.w3.org/1999/xlink\" xml:lang=\"en\" id=\"0d7cfab879c6486b86c8b6edb161f7c5-0\" class=\"displacy\" width=\"750\" height=\"224.5\" direction=\"ltr\" style=\"max-width: none; height: 224.5px; color: #000000; background: #ffffff; font-family: Arial; direction: ltr\">\n<text class=\"displacy-token\" fill=\"currentColor\" text-anchor=\"middle\" y=\"134.5\">\n    <tspan class=\"displacy-word\" fill=\"currentColor\" x=\"50\">She</tspan>\n    <tspan class=\"displacy-tag\" dy=\"2em\" fill=\"currentColor\" x=\"50\">PRP</tspan>\n</text>\n\n<text class=\"displacy-token\" fill=\"currentColor\" text-anchor=\"middle\" y=\"134.5\">\n    <tspan class=\"displacy-word\" fill=\"currentColor\" x=\"225\">codes</tspan>\n    <tspan class=\"displacy-tag\" dy=\"2em\" fill=\"currentColor\" x=\"225\">VBZ</tspan>\n</text>\n\n<text class=\"displacy-token\" fill=\"currentColor\" text-anchor=\"middle\" y=\"134.5\">\n    <tspan class=\"displacy-word\" fill=\"currentColor\" x=\"400\">in</tspan>\n    <tspan class=\"displacy-tag\" dy=\"2em\" fill=\"currentColor\" x=\"400\">IN</tspan>\n</text>\n\n<text class=\"displacy-token\" fill=\"currentColor\" text-anchor=\"middle\" y=\"134.5\">\n    <tspan class=\"displacy-word\" fill=\"currentColor\" x=\"575\">Java.</tspan>\n    <tspan class=\"displacy-tag\" dy=\"2em\" fill=\"currentColor\" x=\"575\">NNP</tspan>\n</text>\n\n<g class=\"displacy-arrow\">\n    <path class=\"displacy-arc\" id=\"arrow-0d7cfab879c6486b86c8b6edb161f7c5-0-0\" stroke-width=\"2px\" d=\"M70,89.5 C70,2.0 225.0,2.0 225.0,89.5\" fill=\"none\" stroke=\"currentColor\"/>\n    <text dy=\"1.25em\" style=\"font-size: 0.8em; letter-spacing: 1px\">\n        <textPath xlink:href=\"#arrow-0d7cfab879c6486b86c8b6edb161f7c5-0-0\" class=\"displacy-label\" startOffset=\"50%\" side=\"left\" fill=\"currentColor\" text-anchor=\"middle\">nsubj</textPath>\n    </text>\n    <path class=\"displacy-arrowhead\" d=\"M70,91.5 L62,79.5 78,79.5\" fill=\"currentColor\"/>\n</g>\n\n<g class=\"displacy-arrow\">\n    <path class=\"displacy-arc\" id=\"arrow-0d7cfab879c6486b86c8b6edb161f7c5-0-1\" stroke-width=\"2px\" d=\"M245,89.5 C245,2.0 400.0,2.0 400.0,89.5\" fill=\"none\" stroke=\"currentColor\"/>\n    <text dy=\"1.25em\" style=\"font-size: 0.8em; letter-spacing: 1px\">\n        <textPath xlink:href=\"#arrow-0d7cfab879c6486b86c8b6edb161f7c5-0-1\" class=\"displacy-label\" startOffset=\"50%\" side=\"left\" fill=\"currentColor\" text-anchor=\"middle\">prep</textPath>\n    </text>\n    <path class=\"displacy-arrowhead\" d=\"M400.0,91.5 L408.0,79.5 392.0,79.5\" fill=\"currentColor\"/>\n</g>\n\n<g class=\"displacy-arrow\">\n    <path class=\"displacy-arc\" id=\"arrow-0d7cfab879c6486b86c8b6edb161f7c5-0-2\" stroke-width=\"2px\" d=\"M420,89.5 C420,2.0 575.0,2.0 575.0,89.5\" fill=\"none\" stroke=\"currentColor\"/>\n    <text dy=\"1.25em\" style=\"font-size: 0.8em; letter-spacing: 1px\">\n        <textPath xlink:href=\"#arrow-0d7cfab879c6486b86c8b6edb161f7c5-0-2\" class=\"displacy-label\" startOffset=\"50%\" side=\"left\" fill=\"currentColor\" text-anchor=\"middle\">pobj</textPath>\n    </text>\n    <path class=\"displacy-arrowhead\" d=\"M575.0,91.5 L583.0,79.5 567.0,79.5\" fill=\"currentColor\"/>\n</g>\n</svg></span>"
     },
     "metadata": {},
     "output_type": "display_data"
    }
   ]
  },
  {
   "cell_type": "code",
   "execution_count": null,
   "outputs": [],
   "source": [],
   "metadata": {
    "collapsed": false
   }
  }
 ]
}
