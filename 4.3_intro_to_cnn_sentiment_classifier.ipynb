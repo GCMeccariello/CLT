{
 "cells": [
  {
   "cell_type": "markdown",
   "metadata": {
    "id": "CA3VUz4jq0fi"
   },
   "source": [
    "# Reviews classification\n",
    "\n",
    "In this notebook, we will address the problem of text classification (movie reviews) and reproduce the CNN proposed by [Kim et al. (2014)](https://arxiv.org/pdf/1408.5882.pdf). A [follow-up work](https://arxiv.org/pdf/1510.03820.pdf) discusses the practical aspects."
   ]
  },
  {
   "cell_type": "markdown",
   "metadata": {
    "id": "TpBWhGeVyTlf"
   },
   "source": [
    "Before starting, let's verify that we have a GPU available. If not, please change the runtime type **Runtime -> change runtime type -> hardware accelerator -> GPU**."
   ]
  },
  {
   "cell_type": "code",
   "execution_count": 1,
   "metadata": {
    "colab": {
     "base_uri": "https://localhost:8080/"
    },
    "id": "mlEnjjXkq39a",
    "outputId": "56609b0a-6742-46e2-803f-39651a608e82"
   },
   "outputs": [
    {
     "name": "stdout",
     "output_type": "stream",
     "text": [
      "zsh:1: command not found: nvidia-smi\r\n"
     ]
    }
   ],
   "source": [
    "!nvidia-smi"
   ]
  },
  {
   "cell_type": "markdown",
   "metadata": {
    "id": "STBr_1UkwYSc"
   },
   "source": [
    "# Read and split data"
   ]
  },
  {
   "cell_type": "markdown",
   "metadata": {
    "id": "ipbRdXx_rcYP"
   },
   "source": [
    "Let's download the official dataset and see some examples"
   ]
  },
  {
   "cell_type": "code",
   "execution_count": 2,
   "metadata": {
    "colab": {
     "base_uri": "https://localhost:8080/"
    },
    "id": "pshj5uDlrf39",
    "outputId": "ee57a7e6-9fbd-4b15-83d3-073fed8690d6"
   },
   "outputs": [
    {
     "name": "stdout",
     "output_type": "stream",
     "text": [
      "zsh:1: no matches found: rt-polaritydata*\r\n",
      "zsh:1: command not found: wget\r\n",
      "tar: Error opening archive: Failed to open 'rt-polaritydata.tar.gz'\r\n",
      "mv: rename rt-polaritydata/rt-polarity.neg to neg_reviews.txt: No such file or directory\r\n",
      "mv: rename rt-polaritydata/rt-polarity.pos to pos_reviews.txt: No such file or directory\r\n"
     ]
    }
   ],
   "source": [
    "!rm rt-polaritydata*\n",
    "!wget https://www.cs.cornell.edu/people/pabo/movie-review-data/rt-polaritydata.tar.gz\n",
    "!tar -xzvf rt-polaritydata.tar.gz\n",
    "!mv rt-polaritydata/rt-polarity.neg neg_reviews.txt\n",
    "!mv rt-polaritydata/rt-polarity.pos pos_reviews.txt"
   ]
  },
  {
   "cell_type": "code",
   "execution_count": null,
   "metadata": {
    "colab": {
     "base_uri": "https://localhost:8080/"
    },
    "id": "3EIndFDlsAd7",
    "outputId": "7ae9e554-31ef-469d-cac8-55f375bd9fad"
   },
   "outputs": [
    {
     "output_type": "stream",
     "name": "stdout",
     "text": [
      "neg_reviews.txt  rt-polaritydata\t\t rt-polaritydata.tar.gz\n",
      "pos_reviews.txt  rt-polaritydata.README.1.0.txt  sample_data\n"
     ]
    }
   ],
   "source": [
    "!ls"
   ]
  },
  {
   "cell_type": "code",
   "execution_count": null,
   "metadata": {
    "colab": {
     "base_uri": "https://localhost:8080/"
    },
    "id": "41Dz6Xvsr2kV",
    "outputId": "c57f3a1c-b421-4aa2-dbdb-85eec99b60bf"
   },
   "outputs": [
    {
     "output_type": "stream",
     "name": "stdout",
     "text": [
      "5331 pos reviews\n",
      "['the', 'rock', 'is', 'destined', 'to', 'be', 'the', '21st', \"century's\", 'new', '\"', 'conan', '\"', 'and', 'that', \"he's\", 'going', 'to', 'make', 'a', 'splash', 'even', 'greater', 'than', 'arnold', 'schwarzenegger', ',', 'jean-claud', 'van', 'damme', 'or', 'steven', 'segal', '.']\n",
      "['the', 'gorgeously', 'elaborate', 'continuation', 'of', '\"', 'the', 'lord', 'of', 'the', 'rings', '\"', 'trilogy', 'is', 'so', 'huge', 'that', 'a', 'column', 'of', 'words', 'cannot', 'adequately', 'describe', 'co-writer/director', 'peter', \"jackson's\", 'expanded', 'vision', 'of', 'j', '.', 'r', '.', 'r', '.', \"tolkien's\", 'middle-earth', '.']\n",
      "\n",
      "5331 neg reviews\n",
      "['simplistic', ',', 'silly', 'and', 'tedious', '.']\n",
      "[\"it's\", 'so', 'laddish', 'and', 'juvenile', ',', 'only', 'teenage', 'boys', 'could', 'possibly', 'find', 'it', 'funny', '.']\n",
      "\n"
     ]
    }
   ],
   "source": [
    "reviews = {'pos': [],\n",
    "           'neg': [],\n",
    "           }\n",
    "\n",
    "# Iterate over the dataset, tokenize and store the sentiment\n",
    "for sentiment in reviews.keys():\n",
    "  with open('{}_reviews.txt'.format(sentiment), 'r', encoding='latin-1') as fp:\n",
    "    for line in fp:\n",
    "      line = line.strip()\n",
    "      if line != '':\n",
    "        tokens = line.lower().split()\n",
    "        reviews[sentiment].append(tokens)\n",
    "  \n",
    "  print(len(reviews[sentiment]), '{} reviews'.format(sentiment))\n",
    "  print(reviews[sentiment][0])\n",
    "  print(reviews[sentiment][1])\n",
    "  print()"
   ]
  },
  {
   "cell_type": "markdown",
   "metadata": {
    "id": "72LlN3IVs-WF"
   },
   "source": [
    "The data is already preprocessed (e.g., tokenized), so there is no need for additional work. Let's prepare the label for each review. We assume that the label is binary where 1 means that the review is positive and 0 negative."
   ]
  },
  {
   "cell_type": "code",
   "execution_count": null,
   "metadata": {
    "colab": {
     "base_uri": "https://localhost:8080/"
    },
    "id": "YkQ_ZfP7tXVn",
    "outputId": "72892b68-e10e-4ab2-94f6-07b08ef9f6e9"
   },
   "outputs": [
    {
     "output_type": "execute_result",
     "data": {
      "text/plain": [
       "10662"
      ]
     },
     "metadata": {},
     "execution_count": 5
    }
   ],
   "source": [
    "reviews_original = [{'tokens': review, 'sentiment':1, 'text': ' '.join(review)} for review in reviews['pos']] + \\\n",
    "                   [{'tokens': review, 'sentiment':0, 'text': ' '.join(review)} for review in reviews['neg']]\n",
    "len(reviews_original)"
   ]
  },
  {
   "cell_type": "markdown",
   "metadata": {
    "id": "C8t7iGfmtqYo"
   },
   "source": [
    "Before spliting the data into training, validation, and testing, it is a good practice to set all the random seeds for reproducibility purposes."
   ]
  },
  {
   "cell_type": "code",
   "execution_count": null,
   "metadata": {
    "id": "XHmmdsj_uTJi"
   },
   "outputs": [],
   "source": [
    "import numpy as np\n",
    "import math\n",
    "import random\n",
    "import copy\n",
    "import tqdm\n",
    "import torch\n",
    "import torch.nn as nn\n",
    "import torch.nn.functional as F"
   ]
  },
  {
   "cell_type": "code",
   "execution_count": null,
   "metadata": {
    "id": "B4FTEuXnux13"
   },
   "outputs": [],
   "source": [
    "# Set seeds for reproducibility\n",
    "SEED = 42\n",
    "torch.manual_seed(SEED)\n",
    "random.seed(SEED)\n",
    "np.random.seed(SEED)\n",
    "\n",
    "# We make a deep copy of the reviews and shuffle the data for the train, val, test split!\n",
    "data = copy.deepcopy(reviews_original)\n",
    "random.shuffle(data)\n",
    "\n",
    "# We define how to split the data\n",
    "split_train = int(len(data) * 0.8)\n",
    "split_val = (len(data) - split_train) // 2\n",
    "split_test = len(data) - split_train - split_val\n",
    "\n",
    "train_data = data[:split_train]\n",
    "data = data[split_train:]\n",
    "\n",
    "val_data = data[:split_val]\n",
    "data = data[split_val:]\n",
    "\n",
    "test_data = data\n",
    "\n",
    "# Sanity check\n",
    "assert len(train_data + val_data + test_data) == len(reviews_original)\n",
    "assert len(set((' '.join(sample['tokens']), sample['sentiment']) for sample in (train_data + val_data + test_data))) == len(reviews_original)"
   ]
  },
  {
   "cell_type": "code",
   "execution_count": null,
   "metadata": {
    "colab": {
     "base_uri": "https://localhost:8080/"
    },
    "id": "EszJseS4vjte",
    "outputId": "6d939922-f829-4654-c697-0cb50cb1ae4f"
   },
   "outputs": [
    {
     "output_type": "execute_result",
     "data": {
      "text/plain": [
       "(8529, 1066, 1067)"
      ]
     },
     "metadata": {},
     "execution_count": 8
    }
   ],
   "source": [
    "len(train_data), len(val_data), len(test_data) "
   ]
  },
  {
   "cell_type": "code",
   "execution_count": null,
   "metadata": {
    "colab": {
     "base_uri": "https://localhost:8080/"
    },
    "id": "xYhhfeHdvqD0",
    "outputId": "20afc22e-09cc-415a-eaab-63716df5b36e"
   },
   "outputs": [
    {
     "output_type": "execute_result",
     "data": {
      "text/plain": [
       "10662"
      ]
     },
     "metadata": {},
     "execution_count": 9
    }
   ],
   "source": [
    "len(reviews_original)"
   ]
  },
  {
   "cell_type": "markdown",
   "metadata": {
    "id": "r580XWHXyrAO"
   },
   "source": [
    "# Build the vocabulary and word embedding matrix\n",
    "\n",
    "We now have all our data. Let's build the vocabulary and prepare the word-embeddings for the next steps."
   ]
  },
  {
   "cell_type": "code",
   "execution_count": null,
   "metadata": {
    "colab": {
     "base_uri": "https://localhost:8080/"
    },
    "id": "cM3qh6Tdv0WR",
    "outputId": "f8246287-0539-4649-cb78-0a5f5f7431bd"
   },
   "outputs": [
    {
     "output_type": "execute_result",
     "data": {
      "text/plain": [
       "19056"
      ]
     },
     "metadata": {},
     "execution_count": 10
    }
   ],
   "source": [
    "vocabulary = set()\n",
    "\n",
    "for sample in train_data: # Pay attention we only use the training set!\n",
    "  for token in sample['tokens']:\n",
    "    vocabulary.add(token)\n",
    "len(vocabulary)"
   ]
  },
  {
   "cell_type": "markdown",
   "metadata": {
    "id": "wHbreCx90KIl"
   },
   "source": [
    "In this case, we do not have too many words so there is no need to filter/reduce the vocabulary (< 30k is usually good enough). Typically, we could use a frequency approach and removes words appearing less than X times."
   ]
  },
  {
   "cell_type": "code",
   "execution_count": null,
   "metadata": {
    "colab": {
     "base_uri": "https://localhost:8080/"
    },
    "id": "Ywtf0r7Uz54m",
    "outputId": "c84f79ab-e3c9-446d-a24e-f4395a0b054e"
   },
   "outputs": [
    {
     "output_type": "execute_result",
     "data": {
      "text/plain": [
       "{'_PAD_': 0,\n",
       " '_UNK_': 1,\n",
       " 'triumphant': 2,\n",
       " 'potemkin': 3,\n",
       " 'beresford': 4,\n",
       " 'amounts': 5,\n",
       " 'reprehensible': 6,\n",
       " 'urgently': 7,\n",
       " 'goliath': 8,\n",
       " 'employment': 9,\n",
       " 'pleasures': 10,\n",
       " 'memória': 11,\n",
       " 'irvine': 12,\n",
       " 'undergo': 13,\n",
       " 'plympton': 14,\n",
       " 'kaige': 15,\n",
       " 'saga': 16,\n",
       " 'geek': 17,\n",
       " \"white's\": 18,\n",
       " 'faultlessly': 19,\n",
       " 'frenetic': 20,\n",
       " 'loyalty': 21,\n",
       " 'injustices': 22,\n",
       " 'hades': 23,\n",
       " 'reworking': 24,\n",
       " 'foster': 25,\n",
       " 'densest': 26,\n",
       " 'impressionistic': 27,\n",
       " 'attachment': 28,\n",
       " 'ice-t': 29,\n",
       " 'caso': 30,\n",
       " '60': 31,\n",
       " 'sisterhood': 32,\n",
       " 'bastions': 33,\n",
       " 'trimming': 34,\n",
       " 'piscopo': 35,\n",
       " 'confrontation': 36,\n",
       " 'entrance': 37,\n",
       " 'adorns': 38,\n",
       " \"taymor's\": 39,\n",
       " \"'ethnic\": 40,\n",
       " 'self-discovery': 41,\n",
       " 'fill-in-': 42,\n",
       " 'gasp-inducing': 43,\n",
       " 'classify': 44,\n",
       " 'surrounding': 45,\n",
       " 'third-best': 46,\n",
       " 'likened': 47,\n",
       " 'exceed': 48,\n",
       " 'gender': 49,\n",
       " 'reading': 50,\n",
       " 'collide': 51,\n",
       " 'workplace': 52,\n",
       " 'ghostbusters': 53,\n",
       " \"'qatsi'\": 54,\n",
       " 'wwf': 55,\n",
       " 'casey': 56,\n",
       " 'markedly': 57,\n",
       " 'expand': 58,\n",
       " 'has': 59,\n",
       " '95-minute': 60,\n",
       " \"canada's\": 61,\n",
       " 'immensely': 62,\n",
       " 'bias': 63,\n",
       " 'cases': 64,\n",
       " 'unsatisfactorily': 65,\n",
       " 'argentine': 66,\n",
       " 'conquers': 67,\n",
       " 'careless': 68,\n",
       " 'super-powers': 69,\n",
       " 'outsiders': 70,\n",
       " 'has]': 71,\n",
       " 'self-revealing': 72,\n",
       " 'contender': 73,\n",
       " 'rah-rah': 74,\n",
       " 'flourishes': 75,\n",
       " 'undercut': 76,\n",
       " 'acquainted': 77,\n",
       " 'futuristic': 78,\n",
       " 'sur': 79,\n",
       " 'pinch': 80,\n",
       " 'enables': 81,\n",
       " 'corruscating': 82,\n",
       " 'proceedings': 83,\n",
       " 'suspend': 84,\n",
       " 'barrage': 85,\n",
       " 'recent': 86,\n",
       " 'under-inspired': 87,\n",
       " '[frei]': 88,\n",
       " 'lord': 89,\n",
       " 'charade': 90,\n",
       " '20th': 91,\n",
       " 'careful': 92,\n",
       " 'belgian': 93,\n",
       " 'sweaty-palmed': 94,\n",
       " 'respect': 95,\n",
       " 'tatters': 96,\n",
       " 'janine': 97,\n",
       " 'than-likely': 98,\n",
       " 'face': 99,\n",
       " \"leguizamo's\": 100,\n",
       " 'yourselves': 101,\n",
       " 'romp': 102,\n",
       " 'represent': 103,\n",
       " 'dramedy': 104,\n",
       " 'investing': 105,\n",
       " 'accompanies': 106,\n",
       " 'r-rated': 107,\n",
       " 'gloriously': 108,\n",
       " 'buddy': 109,\n",
       " 'co-dependence': 110,\n",
       " 'jargon': 111,\n",
       " 'crystallize': 112,\n",
       " 'startled': 113,\n",
       " 'pop-cyber': 114,\n",
       " 'unfilmable': 115,\n",
       " 'tenet': 116,\n",
       " 'artless': 117,\n",
       " 'enormous': 118,\n",
       " 'insights': 119,\n",
       " 'metropolis': 120,\n",
       " 'chore': 121,\n",
       " 'pore': 122,\n",
       " 'nebrida': 123,\n",
       " 'uproar': 124,\n",
       " 'assignment': 125,\n",
       " 'crumb': 126,\n",
       " 'teen-targeted': 127,\n",
       " 'foreground': 128,\n",
       " 'lopez': 129,\n",
       " 'set-piece': 130,\n",
       " 'cameras': 131,\n",
       " 'perfunctory': 132,\n",
       " \"tuxedo's\": 133,\n",
       " 'christian-themed': 134,\n",
       " 'mckay': 135,\n",
       " 'low-heat': 136,\n",
       " 'decade': 137,\n",
       " 'ecclesiastes': 138,\n",
       " 'complacency': 139,\n",
       " 'destin': 140,\n",
       " 'gender-war': 141,\n",
       " 'camouflaged': 142,\n",
       " 'launch': 143,\n",
       " 'petter': 144,\n",
       " 'initiation': 145,\n",
       " 'giggly': 146,\n",
       " \"bridge'\": 147,\n",
       " 'photographed': 148,\n",
       " 'test': 149,\n",
       " 'coaster': 150,\n",
       " 'naturalistic': 151,\n",
       " 'teeming': 152,\n",
       " 'flynn': 153,\n",
       " 'conflicted': 154,\n",
       " 'astonishingly': 155,\n",
       " 'cuteness': 156,\n",
       " \"nohe's\": 157,\n",
       " 'malapropisms': 158,\n",
       " 'frontier': 159,\n",
       " 'gone': 160,\n",
       " 'salt-of-the-earth': 161,\n",
       " 'imbecilic': 162,\n",
       " 'occupation': 163,\n",
       " 'hit-and-miss': 164,\n",
       " 'uncertainty': 165,\n",
       " 'supplied': 166,\n",
       " 'hinges': 167,\n",
       " 'drizzle': 168,\n",
       " 'intelligent': 169,\n",
       " 'adherence': 170,\n",
       " 'thornberrys': 171,\n",
       " \"'dog'\": 172,\n",
       " 'household': 173,\n",
       " \"dass's\": 174,\n",
       " 'incomplete': 175,\n",
       " 'corner': 176,\n",
       " 'dawson': 177,\n",
       " 'wasabi': 178,\n",
       " 'devote': 179,\n",
       " 'dabbles': 180,\n",
       " 'heartrending': 181,\n",
       " \"'there\": 182,\n",
       " \"newfoundland's\": 183,\n",
       " 'review': 184,\n",
       " 'objective': 185,\n",
       " 'onscreen': 186,\n",
       " 'short-story': 187,\n",
       " 'there': 188,\n",
       " 'dangerfield': 189,\n",
       " 'inviting': 190,\n",
       " 'christ': 191,\n",
       " 'protracted': 192,\n",
       " 'walt': 193,\n",
       " 'comeback': 194,\n",
       " 'marmite': 195,\n",
       " 'moderately': 196,\n",
       " 'variable': 197,\n",
       " 'unmistakably': 198,\n",
       " '1953': 199,\n",
       " 'graphically': 200,\n",
       " 'floppy': 201,\n",
       " \"part'\": 202,\n",
       " 'amateur': 203,\n",
       " 'aspect': 204,\n",
       " 'passion': 205,\n",
       " 'vistas': 206,\n",
       " 'wannabe-hip': 207,\n",
       " 'whirlwind': 208,\n",
       " 'hoped': 209,\n",
       " 'alert': 210,\n",
       " 'nerve': 211,\n",
       " 'leash--far': 212,\n",
       " 'dramatically': 213,\n",
       " 'tantalizes': 214,\n",
       " 'celebration': 215,\n",
       " 'shedding': 216,\n",
       " 'creepiness': 217,\n",
       " 'freudianism': 218,\n",
       " 'bailly': 219,\n",
       " '1': 220,\n",
       " 'ravishing': 221,\n",
       " 'watstein': 222,\n",
       " 'relied': 223,\n",
       " 'observe': 224,\n",
       " 'horror-comedy': 225,\n",
       " 'whiney': 226,\n",
       " 'officially': 227,\n",
       " 'moldy': 228,\n",
       " 'disneyland': 229,\n",
       " 'mean-spirited': 230,\n",
       " 'mournfully': 231,\n",
       " 'pg-13-rated': 232,\n",
       " 'proving': 233,\n",
       " 'carnivore': 234,\n",
       " 'expressing': 235,\n",
       " 'anew': 236,\n",
       " 'principle': 237,\n",
       " 'plastered': 238,\n",
       " 'carmichael': 239,\n",
       " 'jolly': 240,\n",
       " 'actuada': 241,\n",
       " 'unit': 242,\n",
       " 'insouciance': 243,\n",
       " 'é': 244,\n",
       " 'indifference': 245,\n",
       " 'describe': 246,\n",
       " 'thoughtlessly': 247,\n",
       " 'deathbed': 248,\n",
       " 'freeway': 249,\n",
       " 'relates': 250,\n",
       " 'breadth': 251,\n",
       " 'flinch': 252,\n",
       " 'morgan': 253,\n",
       " 'axis': 254,\n",
       " '1873': 255,\n",
       " 'hélène': 256,\n",
       " 'point-to-point': 257,\n",
       " 'stasis': 258,\n",
       " 'ascension': 259,\n",
       " 'irrelevancy': 260,\n",
       " 'blame': 261,\n",
       " 'trashy': 262,\n",
       " '7th': 263,\n",
       " 'join': 264,\n",
       " 'peter': 265,\n",
       " 'promising': 266,\n",
       " 'democracie': 267,\n",
       " 'stiletto-stomps': 268,\n",
       " 'dragged': 269,\n",
       " 'velma': 270,\n",
       " 'starts': 271,\n",
       " 'dudsville': 272,\n",
       " 'skating': 273,\n",
       " 'kindred': 274,\n",
       " 'asked': 275,\n",
       " 'brio': 276,\n",
       " 'fears': 277,\n",
       " 'recycling': 278,\n",
       " 'gloom': 279,\n",
       " 'wars': 280,\n",
       " 'teacher': 281,\n",
       " 'atreve': 282,\n",
       " '79-minute': 283,\n",
       " 'crawls': 284,\n",
       " 'awkwardly': 285,\n",
       " 'reaches': 286,\n",
       " 'square': 287,\n",
       " 'hits': 288,\n",
       " 'sandbox': 289,\n",
       " 'comprehensible': 290,\n",
       " 'quality': 291,\n",
       " 'affected': 292,\n",
       " 'amistad': 293,\n",
       " 'del': 294,\n",
       " 'nonsense': 295,\n",
       " 'curtsy': 296,\n",
       " 'presque': 297,\n",
       " 'counter': 298,\n",
       " 'vaudeville': 299,\n",
       " 'lengua': 300,\n",
       " 'hepburn': 301,\n",
       " 'invincible': 302,\n",
       " 'hackery': 303,\n",
       " '\"': 304,\n",
       " 'strictly': 305,\n",
       " 'pale': 306,\n",
       " 'peep': 307,\n",
       " 'shaky': 308,\n",
       " 'hallucinatory': 309,\n",
       " \"novel's\": 310,\n",
       " 'viciously': 311,\n",
       " 'justifying': 312,\n",
       " 'esoteric': 313,\n",
       " \"year's\": 314,\n",
       " 'shamelessly': 315,\n",
       " 'demand': 316,\n",
       " 'resistance': 317,\n",
       " 'python': 318,\n",
       " 'ken': 319,\n",
       " 'waif': 320,\n",
       " 'furious--': 321,\n",
       " 'rehashed': 322,\n",
       " 'alternates': 323,\n",
       " 'adrian': 324,\n",
       " 'fueling': 325,\n",
       " 'bender': 326,\n",
       " 'stirs': 327,\n",
       " \"michele's\": 328,\n",
       " 'digest': 329,\n",
       " 'worried': 330,\n",
       " 'plant': 331,\n",
       " 'banter-filled': 332,\n",
       " 'thornier': 333,\n",
       " 'ticket': 334,\n",
       " 'grub': 335,\n",
       " 'unnerve': 336,\n",
       " 'departments': 337,\n",
       " 'landing': 338,\n",
       " 'modern': 339,\n",
       " 'exhaustion': 340,\n",
       " 'literary': 341,\n",
       " 'bang': 342,\n",
       " \"meyjes's\": 343,\n",
       " 'unspool': 344,\n",
       " 'meanders': 345,\n",
       " 'extreme-sports': 346,\n",
       " 'clients': 347,\n",
       " 'supplies': 348,\n",
       " 'davis': 349,\n",
       " 'underlined': 350,\n",
       " 'slathered': 351,\n",
       " 'aim': 352,\n",
       " 'degrades': 353,\n",
       " 'phantasms': 354,\n",
       " 'clarify': 355,\n",
       " 'obscure': 356,\n",
       " 'sweet': 357,\n",
       " 'emptiness': 358,\n",
       " 'poetic': 359,\n",
       " 'single-mindedly': 360,\n",
       " 'tech-geeks': 361,\n",
       " 'stumblebum': 362,\n",
       " 'warnings': 363,\n",
       " 'judges': 364,\n",
       " 'minimal': 365,\n",
       " 'avarice': 366,\n",
       " \"holofcener's\": 367,\n",
       " 'concentrate': 368,\n",
       " 'balance': 369,\n",
       " 'copycat': 370,\n",
       " 'blisteringly': 371,\n",
       " 'sorry': 372,\n",
       " 'tickled': 373,\n",
       " 'incompetent': 374,\n",
       " 'adam': 375,\n",
       " \"project's\": 376,\n",
       " 'coldest': 377,\n",
       " \"i'd\": 378,\n",
       " 'transgressive': 379,\n",
       " 'naked': 380,\n",
       " 'aerial': 381,\n",
       " 'reel/real': 382,\n",
       " 'rendering': 383,\n",
       " 'dusty': 384,\n",
       " 'labored': 385,\n",
       " 'amateurishly': 386,\n",
       " 'gruesome': 387,\n",
       " 'longo': 388,\n",
       " 'spaniel-eyed': 389,\n",
       " 'commendable': 390,\n",
       " 'uncomfortably': 391,\n",
       " \"hadn't\": 392,\n",
       " 'puke': 393,\n",
       " 'blade-thin': 394,\n",
       " 'mind': 395,\n",
       " 'seattle': 396,\n",
       " 'impossible': 397,\n",
       " 'xmas': 398,\n",
       " 'hard-driving': 399,\n",
       " 'demonstrating': 400,\n",
       " 'real-life': 401,\n",
       " 'reedy': 402,\n",
       " 'represents': 403,\n",
       " 'b-flick': 404,\n",
       " 'animal': 405,\n",
       " 'ballplayer': 406,\n",
       " 'frisk': 407,\n",
       " \"showtime's\": 408,\n",
       " 'investigator': 409,\n",
       " 'generate': 410,\n",
       " 'saddam': 411,\n",
       " 'gets': 412,\n",
       " 'lighting': 413,\n",
       " 'sorely': 414,\n",
       " 'cornball': 415,\n",
       " 'thick': 416,\n",
       " 'machismo': 417,\n",
       " 'cliches': 418,\n",
       " 'actorly': 419,\n",
       " 'stephen': 420,\n",
       " 'conventions': 421,\n",
       " 'webcast': 422,\n",
       " 'stacks': 423,\n",
       " '20-car': 424,\n",
       " 'femme': 425,\n",
       " 'grosses': 426,\n",
       " 'assert': 427,\n",
       " 'silbersteins': 428,\n",
       " '[stephen]': 429,\n",
       " \"'orphans'\": 430,\n",
       " 'allegiance': 431,\n",
       " 'ningún': 432,\n",
       " 'sustenance': 433,\n",
       " \"orwell's\": 434,\n",
       " 'hedonistic': 435,\n",
       " 'justice': 436,\n",
       " 'affability': 437,\n",
       " 'stoked': 438,\n",
       " 'warned': 439,\n",
       " 'nostalgic': 440,\n",
       " 'manners': 441,\n",
       " 'earned': 442,\n",
       " 'mentioned': 443,\n",
       " 'elvis': 444,\n",
       " 'spy': 445,\n",
       " 'drab': 446,\n",
       " 'learn': 447,\n",
       " 'seagal': 448,\n",
       " 'middle-aged': 449,\n",
       " 'wildlife': 450,\n",
       " 'diver': 451,\n",
       " 'fred': 452,\n",
       " 'gorefests': 453,\n",
       " 'dust-caked': 454,\n",
       " 'retread': 455,\n",
       " 'loser': 456,\n",
       " 'discloses': 457,\n",
       " 'anxieties': 458,\n",
       " 'sleep': 459,\n",
       " 'likes': 460,\n",
       " 'b-ball': 461,\n",
       " 'inauthentic': 462,\n",
       " 'longley': 463,\n",
       " 'wordy': 464,\n",
       " 'martial': 465,\n",
       " 'penchant': 466,\n",
       " 'bradbury': 467,\n",
       " '[opening]': 468,\n",
       " 'hash': 469,\n",
       " 'coping': 470,\n",
       " 'deportment': 471,\n",
       " \"macdowell's\": 472,\n",
       " 'ballhaus': 473,\n",
       " 'ho-tep': 474,\n",
       " 'avenges': 475,\n",
       " 'indulgence': 476,\n",
       " \"bad'\": 477,\n",
       " 'stewart': 478,\n",
       " 'yep': 479,\n",
       " 'telegraphs': 480,\n",
       " 'separates': 481,\n",
       " 'frustration': 482,\n",
       " 'intelligentsia': 483,\n",
       " 'ring': 484,\n",
       " 'tediously': 485,\n",
       " 'flowery': 486,\n",
       " 'capricious': 487,\n",
       " 'worked': 488,\n",
       " 'surfer': 489,\n",
       " 'puts': 490,\n",
       " 'tackles': 491,\n",
       " 'wondrously': 492,\n",
       " 'restatement': 493,\n",
       " \"ming-liang's\": 494,\n",
       " 'slapdash': 495,\n",
       " '1960s': 496,\n",
       " \"group's\": 497,\n",
       " \"sandler's\": 498,\n",
       " 'smoking': 499,\n",
       " 'survived': 500,\n",
       " 'cooler': 501,\n",
       " 'instability': 502,\n",
       " \"'best\": 503,\n",
       " 'browning': 504,\n",
       " 'steadfast': 505,\n",
       " '300': 506,\n",
       " 'contributed': 507,\n",
       " \"gibson's\": 508,\n",
       " 'past': 509,\n",
       " 'jesse': 510,\n",
       " 'overplayed': 511,\n",
       " 'bullseye': 512,\n",
       " 'photographer': 513,\n",
       " \"lieutenant's\": 514,\n",
       " 'crit': 515,\n",
       " 'philippe': 516,\n",
       " 'exceptional': 517,\n",
       " 'larded': 518,\n",
       " 'explode': 519,\n",
       " 'relief': 520,\n",
       " 'freud': 521,\n",
       " 'fellow': 522,\n",
       " 'rom-com': 523,\n",
       " 'miramax': 524,\n",
       " 'health': 525,\n",
       " \"novak's\": 526,\n",
       " 'lifts': 527,\n",
       " 'padded': 528,\n",
       " '50': 529,\n",
       " 'spinning': 530,\n",
       " 'barbershop': 531,\n",
       " 'mary-louise': 532,\n",
       " 'regimes': 533,\n",
       " '2001': 534,\n",
       " 'distant': 535,\n",
       " \"'goodfellas'\": 536,\n",
       " 'writhing': 537,\n",
       " 'reaffirming': 538,\n",
       " 'thoughtfulness': 539,\n",
       " 'handling': 540,\n",
       " 'hitler-study': 541,\n",
       " 'stumbles': 542,\n",
       " 'daphne': 543,\n",
       " 'galinsky': 544,\n",
       " 'disappears': 545,\n",
       " 'picaresque': 546,\n",
       " 'switches': 547,\n",
       " 'fateful': 548,\n",
       " '-': 549,\n",
       " 'awake': 550,\n",
       " 'flash': 551,\n",
       " 'clone-gag': 552,\n",
       " 'taught': 553,\n",
       " 'dabbling': 554,\n",
       " 'didactic': 555,\n",
       " 'cultures': 556,\n",
       " 'inspirado': 557,\n",
       " 'self-reflexive': 558,\n",
       " 'dependence': 559,\n",
       " 'tundra': 560,\n",
       " 'peor': 561,\n",
       " 'reduce': 562,\n",
       " 'tub': 563,\n",
       " \"aisle's\": 564,\n",
       " 'ill-starred': 565,\n",
       " 'upper': 566,\n",
       " 'positions': 567,\n",
       " 'deliver': 568,\n",
       " 'holm': 569,\n",
       " 'severed': 570,\n",
       " 'families': 571,\n",
       " 'figuring': 572,\n",
       " 'painful': 573,\n",
       " 'crock': 574,\n",
       " 'versus': 575,\n",
       " 'making': 576,\n",
       " 'moments': 577,\n",
       " 'refresh': 578,\n",
       " 'routinely': 579,\n",
       " \"shadyac's\": 580,\n",
       " 'cannes': 581,\n",
       " 'ten': 582,\n",
       " 'metaphysical': 583,\n",
       " 'e-graveyard': 584,\n",
       " 'worldview': 585,\n",
       " \"'hannibal'\": 586,\n",
       " \"'a\": 587,\n",
       " 'hoffman': 588,\n",
       " 'directors': 589,\n",
       " 'meetings': 590,\n",
       " 'laurel': 591,\n",
       " 'tinkering': 592,\n",
       " 'destined': 593,\n",
       " 'downbeat': 594,\n",
       " 'contenders': 595,\n",
       " 'keeps': 596,\n",
       " 'numbness': 597,\n",
       " '[as': 598,\n",
       " 'rhythm': 599,\n",
       " 'juliette': 600,\n",
       " 'presiding': 601,\n",
       " 'earthly': 602,\n",
       " 'ill-advised': 603,\n",
       " \"bow's\": 604,\n",
       " 'russo': 605,\n",
       " 'catastrophic': 606,\n",
       " 'taymor': 607,\n",
       " 'writer-actor': 608,\n",
       " 'margarita': 609,\n",
       " 'giannini': 610,\n",
       " 'hymn': 611,\n",
       " 'prosthetic': 612,\n",
       " 'amiability': 613,\n",
       " 'small-scale': 614,\n",
       " 'choice': 615,\n",
       " 'danny': 616,\n",
       " 'cinemas': 617,\n",
       " 'draws': 618,\n",
       " 'unaffected': 619,\n",
       " 'ofrece': 620,\n",
       " 'liberal': 621,\n",
       " 'leontine': 622,\n",
       " 'wish-fulfilling': 623,\n",
       " 'puffery': 624,\n",
       " 'spain': 625,\n",
       " \"jones's\": 626,\n",
       " 'revitalize': 627,\n",
       " 'ex-marine': 628,\n",
       " 'insult': 629,\n",
       " 'in-the-ring': 630,\n",
       " 'regain': 631,\n",
       " 'port-of-call': 632,\n",
       " 'fun': 633,\n",
       " 'desires': 634,\n",
       " 's&m': 635,\n",
       " \"week's\": 636,\n",
       " 'code-talk': 637,\n",
       " 'anti-kieslowski': 638,\n",
       " \"'love\": 639,\n",
       " 'salacious': 640,\n",
       " 'uneasy': 641,\n",
       " 'provocateur': 642,\n",
       " 'brawn': 643,\n",
       " 'dv': 644,\n",
       " 'christians': 645,\n",
       " 'weaves': 646,\n",
       " 'bodies': 647,\n",
       " 'fills': 648,\n",
       " 'mattered': 649,\n",
       " 'precollegiate': 650,\n",
       " 'gil': 651,\n",
       " 'pretentious': 652,\n",
       " 'renown': 653,\n",
       " 'dullest': 654,\n",
       " 'wanes': 655,\n",
       " 'bare-bones': 656,\n",
       " '-after': 657,\n",
       " 'pack': 658,\n",
       " 'creepy': 659,\n",
       " 'sisters': 660,\n",
       " 'crush': 661,\n",
       " 'beings': 662,\n",
       " 'scenic': 663,\n",
       " 'iconic': 664,\n",
       " 'rudd': 665,\n",
       " 'refers': 666,\n",
       " 'ramis': 667,\n",
       " '170': 668,\n",
       " '1933': 669,\n",
       " \"'60s\": 670,\n",
       " 'limitations': 671,\n",
       " 'dramatics': 672,\n",
       " 'butterflies': 673,\n",
       " 'friends': 674,\n",
       " 'frightful': 675,\n",
       " 'referred': 676,\n",
       " 'teachers': 677,\n",
       " 'boston': 678,\n",
       " '2-day': 679,\n",
       " '[tries]': 680,\n",
       " 'bitter': 681,\n",
       " 'naïve': 682,\n",
       " 'knew': 683,\n",
       " 'indelible': 684,\n",
       " 'abound': 685,\n",
       " 'bodily': 686,\n",
       " 'poking': 687,\n",
       " 'unseemly': 688,\n",
       " 'normally': 689,\n",
       " \"child's\": 690,\n",
       " 'resume': 691,\n",
       " 'oddly': 692,\n",
       " 'windtalkers': 693,\n",
       " 'deny': 694,\n",
       " 'reinvention': 695,\n",
       " 'susan': 696,\n",
       " 'noticeably': 697,\n",
       " 'rouse': 698,\n",
       " 'religious': 699,\n",
       " 'purport': 700,\n",
       " 'outshined': 701,\n",
       " \"villeneuve's\": 702,\n",
       " 'wonders': 703,\n",
       " 'messenger': 704,\n",
       " \"life-at-arm's-length\": 705,\n",
       " 'prevalence': 706,\n",
       " 'narcissistic': 707,\n",
       " 'gothic': 708,\n",
       " 'brainy': 709,\n",
       " 'misogynistic': 710,\n",
       " 'wound': 711,\n",
       " 'petrovich': 712,\n",
       " 'sums': 713,\n",
       " 'outlandish': 714,\n",
       " 'fisk': 715,\n",
       " 'australia': 716,\n",
       " 'jennifer': 717,\n",
       " 'shorts': 718,\n",
       " 'cracked': 719,\n",
       " 'perceptions': 720,\n",
       " 'stepford': 721,\n",
       " 'exquisite': 722,\n",
       " 'reacting': 723,\n",
       " 'yes': 724,\n",
       " 'shuck-and-jive': 725,\n",
       " 'applies': 726,\n",
       " 'insomnia': 727,\n",
       " 'instead': 728,\n",
       " 'crafted': 729,\n",
       " \"'evelyn\": 730,\n",
       " 'reimagine': 731,\n",
       " 'byways': 732,\n",
       " 'below': 733,\n",
       " 'villains': 734,\n",
       " 'astoundingly': 735,\n",
       " 'august': 736,\n",
       " 'backdrops': 737,\n",
       " \"[t]here's\": 738,\n",
       " 'desolation': 739,\n",
       " 'francophiles': 740,\n",
       " 'visionary': 741,\n",
       " 'sentimentality': 742,\n",
       " 'log': 743,\n",
       " 'titillating': 744,\n",
       " 'julianne': 745,\n",
       " \"early-'80s\": 746,\n",
       " 'ascertain': 747,\n",
       " 'boring': 748,\n",
       " 'highlight': 749,\n",
       " \"[gayton's\": 750,\n",
       " 'tub-thumpingly': 751,\n",
       " 'reads': 752,\n",
       " 'receives': 753,\n",
       " 'wishful': 754,\n",
       " 'mildly': 755,\n",
       " 'lau': 756,\n",
       " 'intentions': 757,\n",
       " \"here's\": 758,\n",
       " 'skins': 759,\n",
       " \"greene's\": 760,\n",
       " 'excursion': 761,\n",
       " 'instilled': 762,\n",
       " 'student': 763,\n",
       " 'evening': 764,\n",
       " 'graced': 765,\n",
       " 'tendentious': 766,\n",
       " 'appetites': 767,\n",
       " 'brawny': 768,\n",
       " 'flight': 769,\n",
       " 'campus': 770,\n",
       " 'ballet': 771,\n",
       " '1958': 772,\n",
       " 'debases': 773,\n",
       " \"'bowling\": 774,\n",
       " 'jon': 775,\n",
       " 'jabs': 776,\n",
       " 'devastation': 777,\n",
       " 'combining': 778,\n",
       " 'guiltless': 779,\n",
       " 'reminded': 780,\n",
       " 'toast': 781,\n",
       " 'she': 782,\n",
       " 'simultaneously': 783,\n",
       " 'my': 784,\n",
       " 'faster': 785,\n",
       " 'preemptive': 786,\n",
       " 'stupider': 787,\n",
       " 'frankenstein-like': 788,\n",
       " 'apenas': 789,\n",
       " 'ladles': 790,\n",
       " 'golden': 791,\n",
       " 'deemed': 792,\n",
       " 'suffocating': 793,\n",
       " 'receive': 794,\n",
       " 'ton': 795,\n",
       " 'resorts': 796,\n",
       " 'ingenuity': 797,\n",
       " 'camera-work': 798,\n",
       " 'well-timed': 799,\n",
       " 'flame': 800,\n",
       " 'dependent': 801,\n",
       " 'argument': 802,\n",
       " 'community': 803,\n",
       " 'abderrahmane': 804,\n",
       " 'brink': 805,\n",
       " 'cal': 806,\n",
       " \"'cherish'\": 807,\n",
       " 'caruso': 808,\n",
       " 'chaplin': 809,\n",
       " 'bloodwork': 810,\n",
       " 'perverse': 811,\n",
       " 'independence': 812,\n",
       " '[watts]': 813,\n",
       " 'brunt': 814,\n",
       " 'enters': 815,\n",
       " 'serry': 816,\n",
       " 'lags': 817,\n",
       " 'spontaneous': 818,\n",
       " 'pays': 819,\n",
       " 'sip': 820,\n",
       " 'vittorio': 821,\n",
       " 'manhood': 822,\n",
       " 'effects]': 823,\n",
       " 'someplace': 824,\n",
       " 'quivering': 825,\n",
       " 'antithesis': 826,\n",
       " 'shoddy': 827,\n",
       " 'drek': 828,\n",
       " 'memories': 829,\n",
       " '[scherfig]': 830,\n",
       " 'premises': 831,\n",
       " '163': 832,\n",
       " 'shoes': 833,\n",
       " 'well-crafted': 834,\n",
       " 'limit': 835,\n",
       " 'pandered': 836,\n",
       " \"album's\": 837,\n",
       " 'characteristically': 838,\n",
       " 'barlow': 839,\n",
       " '[allen]': 840,\n",
       " 'israeli': 841,\n",
       " 'idiosyncratic': 842,\n",
       " 'modernizes': 843,\n",
       " 'germanic': 844,\n",
       " 'conjures': 845,\n",
       " 'angel': 846,\n",
       " 'bloodstream': 847,\n",
       " 'redundant': 848,\n",
       " 'neat': 849,\n",
       " 'correct': 850,\n",
       " 'nasty': 851,\n",
       " 'pointless': 852,\n",
       " 'freshness': 853,\n",
       " 'decrepitude': 854,\n",
       " 'barris': 855,\n",
       " 'oily': 856,\n",
       " 'cinephile': 857,\n",
       " 'subsided': 858,\n",
       " 'situation': 859,\n",
       " 'experienced': 860,\n",
       " 'dreaming': 861,\n",
       " \"so-bad-it's-funny\": 862,\n",
       " 'credibility': 863,\n",
       " 'dutiful': 864,\n",
       " 'labute': 865,\n",
       " 'incisive': 866,\n",
       " 'allowing': 867,\n",
       " 'jazzes': 868,\n",
       " 'betty': 869,\n",
       " 'reserving': 870,\n",
       " 'hail': 871,\n",
       " 'colosal': 872,\n",
       " 'day': 873,\n",
       " 'spunk': 874,\n",
       " 'liberally': 875,\n",
       " 'suffused': 876,\n",
       " 'thin': 877,\n",
       " 'convinced': 878,\n",
       " 'statements': 879,\n",
       " 'mimetic': 880,\n",
       " 'engaged': 881,\n",
       " 'muddy': 882,\n",
       " 'tortuous': 883,\n",
       " 'ingeniously': 884,\n",
       " 'twilight': 885,\n",
       " 'tumult': 886,\n",
       " 'analgesic': 887,\n",
       " 'cockamamie': 888,\n",
       " 'mushes': 889,\n",
       " 'estrogen-free': 890,\n",
       " 'uruk-hai': 891,\n",
       " 'crudely': 892,\n",
       " 'sampler': 893,\n",
       " 'faux-contemporary': 894,\n",
       " 'therapy': 895,\n",
       " 'garden': 896,\n",
       " 'sorriest': 897,\n",
       " 'car-wreck': 898,\n",
       " 'deseos': 899,\n",
       " 'mirth': 900,\n",
       " \"charles'\": 901,\n",
       " 'bushels': 902,\n",
       " 'massacres': 903,\n",
       " 'monsterous': 904,\n",
       " 'practice': 905,\n",
       " 'adventues': 906,\n",
       " 'glitches': 907,\n",
       " 'gone-to-pot': 908,\n",
       " 'richness': 909,\n",
       " 'online': 910,\n",
       " 'spunky': 911,\n",
       " 'unceasing': 912,\n",
       " 'hit-': 913,\n",
       " 'the': 914,\n",
       " 'spy-vs': 915,\n",
       " 'adaptation': 916,\n",
       " 'noodle': 917,\n",
       " 'impossibly': 918,\n",
       " 'better': 919,\n",
       " 'treats': 920,\n",
       " 'dubious': 921,\n",
       " 'mosaic': 922,\n",
       " \"2002's\": 923,\n",
       " 'spiced': 924,\n",
       " 'ya': 925,\n",
       " 'lucy': 926,\n",
       " 'heck': 927,\n",
       " 'absurdity': 928,\n",
       " 'sounded': 929,\n",
       " 'sources': 930,\n",
       " 'frustratingly': 931,\n",
       " \"jacobson's\": 932,\n",
       " 'prominent': 933,\n",
       " 'flatfooted': 934,\n",
       " \"humankind's\": 935,\n",
       " '48': 936,\n",
       " 'kilmer&#8217': 937,\n",
       " \"merchant's\": 938,\n",
       " 'extremely': 939,\n",
       " 'partway': 940,\n",
       " 'account': 941,\n",
       " 'indoctrinated': 942,\n",
       " 'fetishes': 943,\n",
       " 'unrelentingly': 944,\n",
       " 'iron': 945,\n",
       " 'obsession': 946,\n",
       " 'another': 947,\n",
       " 'accuse': 948,\n",
       " 'divide': 949,\n",
       " 'articulates': 950,\n",
       " 'independent-community': 951,\n",
       " 'derek': 952,\n",
       " \"frei's\": 953,\n",
       " 'toasts': 954,\n",
       " 'openly': 955,\n",
       " 'accurate': 956,\n",
       " 'dense': 957,\n",
       " 'freeman': 958,\n",
       " 'elect': 959,\n",
       " 'stuttering': 960,\n",
       " \"reader's\": 961,\n",
       " 'gowns': 962,\n",
       " \"farmer's\": 963,\n",
       " 'closet': 964,\n",
       " 'dishonest': 965,\n",
       " 'urge': 966,\n",
       " 'disappointments': 967,\n",
       " 'oriental': 968,\n",
       " 'comparisons': 969,\n",
       " 'professionalism': 970,\n",
       " 'psychic': 971,\n",
       " 'telephone': 972,\n",
       " 'pandemonium': 973,\n",
       " 'slapping': 974,\n",
       " 'practically': 975,\n",
       " 'dialog': 976,\n",
       " 'veterans': 977,\n",
       " 'sturdy': 978,\n",
       " 'mordantly': 979,\n",
       " \"dragon'\": 980,\n",
       " 'combatants': 981,\n",
       " 'storm': 982,\n",
       " 'aspiration': 983,\n",
       " 'entree': 984,\n",
       " 'pryce': 985,\n",
       " 'disparate': 986,\n",
       " 'termina': 987,\n",
       " 'aloft': 988,\n",
       " 'period': 989,\n",
       " 'putters': 990,\n",
       " 'crème': 991,\n",
       " \"story'\": 992,\n",
       " 'ghoulish': 993,\n",
       " 'paulette': 994,\n",
       " 'reasonably': 995,\n",
       " 'vicarious': 996,\n",
       " 'akin': 997,\n",
       " 'torture': 998,\n",
       " '[the': 999,\n",
       " ...}"
      ]
     },
     "metadata": {},
     "execution_count": 11
    }
   ],
   "source": [
    "# Create the mappindg word - index and vice-versa\n",
    "word2idx = {'_PAD_': 0, '_UNK_': 1}\n",
    "for word in vocabulary:\n",
    "  word2idx[word] = len(word2idx)\n",
    "idx2word = {idx:word for word, idx in word2idx.items()}\n",
    "word2idx"
   ]
  },
  {
   "cell_type": "code",
   "execution_count": null,
   "metadata": {
    "colab": {
     "base_uri": "https://localhost:8080/"
    },
    "id": "BeD41kya1WJA",
    "outputId": "81430bda-350e-4141-e89a-ed457f5fd487"
   },
   "outputs": [
    {
     "output_type": "execute_result",
     "data": {
      "text/plain": [
       "{0: '_PAD_',\n",
       " 1: '_UNK_',\n",
       " 2: 'triumphant',\n",
       " 3: 'potemkin',\n",
       " 4: 'beresford',\n",
       " 5: 'amounts',\n",
       " 6: 'reprehensible',\n",
       " 7: 'urgently',\n",
       " 8: 'goliath',\n",
       " 9: 'employment',\n",
       " 10: 'pleasures',\n",
       " 11: 'memória',\n",
       " 12: 'irvine',\n",
       " 13: 'undergo',\n",
       " 14: 'plympton',\n",
       " 15: 'kaige',\n",
       " 16: 'saga',\n",
       " 17: 'geek',\n",
       " 18: \"white's\",\n",
       " 19: 'faultlessly',\n",
       " 20: 'frenetic',\n",
       " 21: 'loyalty',\n",
       " 22: 'injustices',\n",
       " 23: 'hades',\n",
       " 24: 'reworking',\n",
       " 25: 'foster',\n",
       " 26: 'densest',\n",
       " 27: 'impressionistic',\n",
       " 28: 'attachment',\n",
       " 29: 'ice-t',\n",
       " 30: 'caso',\n",
       " 31: '60',\n",
       " 32: 'sisterhood',\n",
       " 33: 'bastions',\n",
       " 34: 'trimming',\n",
       " 35: 'piscopo',\n",
       " 36: 'confrontation',\n",
       " 37: 'entrance',\n",
       " 38: 'adorns',\n",
       " 39: \"taymor's\",\n",
       " 40: \"'ethnic\",\n",
       " 41: 'self-discovery',\n",
       " 42: 'fill-in-',\n",
       " 43: 'gasp-inducing',\n",
       " 44: 'classify',\n",
       " 45: 'surrounding',\n",
       " 46: 'third-best',\n",
       " 47: 'likened',\n",
       " 48: 'exceed',\n",
       " 49: 'gender',\n",
       " 50: 'reading',\n",
       " 51: 'collide',\n",
       " 52: 'workplace',\n",
       " 53: 'ghostbusters',\n",
       " 54: \"'qatsi'\",\n",
       " 55: 'wwf',\n",
       " 56: 'casey',\n",
       " 57: 'markedly',\n",
       " 58: 'expand',\n",
       " 59: 'has',\n",
       " 60: '95-minute',\n",
       " 61: \"canada's\",\n",
       " 62: 'immensely',\n",
       " 63: 'bias',\n",
       " 64: 'cases',\n",
       " 65: 'unsatisfactorily',\n",
       " 66: 'argentine',\n",
       " 67: 'conquers',\n",
       " 68: 'careless',\n",
       " 69: 'super-powers',\n",
       " 70: 'outsiders',\n",
       " 71: 'has]',\n",
       " 72: 'self-revealing',\n",
       " 73: 'contender',\n",
       " 74: 'rah-rah',\n",
       " 75: 'flourishes',\n",
       " 76: 'undercut',\n",
       " 77: 'acquainted',\n",
       " 78: 'futuristic',\n",
       " 79: 'sur',\n",
       " 80: 'pinch',\n",
       " 81: 'enables',\n",
       " 82: 'corruscating',\n",
       " 83: 'proceedings',\n",
       " 84: 'suspend',\n",
       " 85: 'barrage',\n",
       " 86: 'recent',\n",
       " 87: 'under-inspired',\n",
       " 88: '[frei]',\n",
       " 89: 'lord',\n",
       " 90: 'charade',\n",
       " 91: '20th',\n",
       " 92: 'careful',\n",
       " 93: 'belgian',\n",
       " 94: 'sweaty-palmed',\n",
       " 95: 'respect',\n",
       " 96: 'tatters',\n",
       " 97: 'janine',\n",
       " 98: 'than-likely',\n",
       " 99: 'face',\n",
       " 100: \"leguizamo's\",\n",
       " 101: 'yourselves',\n",
       " 102: 'romp',\n",
       " 103: 'represent',\n",
       " 104: 'dramedy',\n",
       " 105: 'investing',\n",
       " 106: 'accompanies',\n",
       " 107: 'r-rated',\n",
       " 108: 'gloriously',\n",
       " 109: 'buddy',\n",
       " 110: 'co-dependence',\n",
       " 111: 'jargon',\n",
       " 112: 'crystallize',\n",
       " 113: 'startled',\n",
       " 114: 'pop-cyber',\n",
       " 115: 'unfilmable',\n",
       " 116: 'tenet',\n",
       " 117: 'artless',\n",
       " 118: 'enormous',\n",
       " 119: 'insights',\n",
       " 120: 'metropolis',\n",
       " 121: 'chore',\n",
       " 122: 'pore',\n",
       " 123: 'nebrida',\n",
       " 124: 'uproar',\n",
       " 125: 'assignment',\n",
       " 126: 'crumb',\n",
       " 127: 'teen-targeted',\n",
       " 128: 'foreground',\n",
       " 129: 'lopez',\n",
       " 130: 'set-piece',\n",
       " 131: 'cameras',\n",
       " 132: 'perfunctory',\n",
       " 133: \"tuxedo's\",\n",
       " 134: 'christian-themed',\n",
       " 135: 'mckay',\n",
       " 136: 'low-heat',\n",
       " 137: 'decade',\n",
       " 138: 'ecclesiastes',\n",
       " 139: 'complacency',\n",
       " 140: 'destin',\n",
       " 141: 'gender-war',\n",
       " 142: 'camouflaged',\n",
       " 143: 'launch',\n",
       " 144: 'petter',\n",
       " 145: 'initiation',\n",
       " 146: 'giggly',\n",
       " 147: \"bridge'\",\n",
       " 148: 'photographed',\n",
       " 149: 'test',\n",
       " 150: 'coaster',\n",
       " 151: 'naturalistic',\n",
       " 152: 'teeming',\n",
       " 153: 'flynn',\n",
       " 154: 'conflicted',\n",
       " 155: 'astonishingly',\n",
       " 156: 'cuteness',\n",
       " 157: \"nohe's\",\n",
       " 158: 'malapropisms',\n",
       " 159: 'frontier',\n",
       " 160: 'gone',\n",
       " 161: 'salt-of-the-earth',\n",
       " 162: 'imbecilic',\n",
       " 163: 'occupation',\n",
       " 164: 'hit-and-miss',\n",
       " 165: 'uncertainty',\n",
       " 166: 'supplied',\n",
       " 167: 'hinges',\n",
       " 168: 'drizzle',\n",
       " 169: 'intelligent',\n",
       " 170: 'adherence',\n",
       " 171: 'thornberrys',\n",
       " 172: \"'dog'\",\n",
       " 173: 'household',\n",
       " 174: \"dass's\",\n",
       " 175: 'incomplete',\n",
       " 176: 'corner',\n",
       " 177: 'dawson',\n",
       " 178: 'wasabi',\n",
       " 179: 'devote',\n",
       " 180: 'dabbles',\n",
       " 181: 'heartrending',\n",
       " 182: \"'there\",\n",
       " 183: \"newfoundland's\",\n",
       " 184: 'review',\n",
       " 185: 'objective',\n",
       " 186: 'onscreen',\n",
       " 187: 'short-story',\n",
       " 188: 'there',\n",
       " 189: 'dangerfield',\n",
       " 190: 'inviting',\n",
       " 191: 'christ',\n",
       " 192: 'protracted',\n",
       " 193: 'walt',\n",
       " 194: 'comeback',\n",
       " 195: 'marmite',\n",
       " 196: 'moderately',\n",
       " 197: 'variable',\n",
       " 198: 'unmistakably',\n",
       " 199: '1953',\n",
       " 200: 'graphically',\n",
       " 201: 'floppy',\n",
       " 202: \"part'\",\n",
       " 203: 'amateur',\n",
       " 204: 'aspect',\n",
       " 205: 'passion',\n",
       " 206: 'vistas',\n",
       " 207: 'wannabe-hip',\n",
       " 208: 'whirlwind',\n",
       " 209: 'hoped',\n",
       " 210: 'alert',\n",
       " 211: 'nerve',\n",
       " 212: 'leash--far',\n",
       " 213: 'dramatically',\n",
       " 214: 'tantalizes',\n",
       " 215: 'celebration',\n",
       " 216: 'shedding',\n",
       " 217: 'creepiness',\n",
       " 218: 'freudianism',\n",
       " 219: 'bailly',\n",
       " 220: '1',\n",
       " 221: 'ravishing',\n",
       " 222: 'watstein',\n",
       " 223: 'relied',\n",
       " 224: 'observe',\n",
       " 225: 'horror-comedy',\n",
       " 226: 'whiney',\n",
       " 227: 'officially',\n",
       " 228: 'moldy',\n",
       " 229: 'disneyland',\n",
       " 230: 'mean-spirited',\n",
       " 231: 'mournfully',\n",
       " 232: 'pg-13-rated',\n",
       " 233: 'proving',\n",
       " 234: 'carnivore',\n",
       " 235: 'expressing',\n",
       " 236: 'anew',\n",
       " 237: 'principle',\n",
       " 238: 'plastered',\n",
       " 239: 'carmichael',\n",
       " 240: 'jolly',\n",
       " 241: 'actuada',\n",
       " 242: 'unit',\n",
       " 243: 'insouciance',\n",
       " 244: 'é',\n",
       " 245: 'indifference',\n",
       " 246: 'describe',\n",
       " 247: 'thoughtlessly',\n",
       " 248: 'deathbed',\n",
       " 249: 'freeway',\n",
       " 250: 'relates',\n",
       " 251: 'breadth',\n",
       " 252: 'flinch',\n",
       " 253: 'morgan',\n",
       " 254: 'axis',\n",
       " 255: '1873',\n",
       " 256: 'hélène',\n",
       " 257: 'point-to-point',\n",
       " 258: 'stasis',\n",
       " 259: 'ascension',\n",
       " 260: 'irrelevancy',\n",
       " 261: 'blame',\n",
       " 262: 'trashy',\n",
       " 263: '7th',\n",
       " 264: 'join',\n",
       " 265: 'peter',\n",
       " 266: 'promising',\n",
       " 267: 'democracie',\n",
       " 268: 'stiletto-stomps',\n",
       " 269: 'dragged',\n",
       " 270: 'velma',\n",
       " 271: 'starts',\n",
       " 272: 'dudsville',\n",
       " 273: 'skating',\n",
       " 274: 'kindred',\n",
       " 275: 'asked',\n",
       " 276: 'brio',\n",
       " 277: 'fears',\n",
       " 278: 'recycling',\n",
       " 279: 'gloom',\n",
       " 280: 'wars',\n",
       " 281: 'teacher',\n",
       " 282: 'atreve',\n",
       " 283: '79-minute',\n",
       " 284: 'crawls',\n",
       " 285: 'awkwardly',\n",
       " 286: 'reaches',\n",
       " 287: 'square',\n",
       " 288: 'hits',\n",
       " 289: 'sandbox',\n",
       " 290: 'comprehensible',\n",
       " 291: 'quality',\n",
       " 292: 'affected',\n",
       " 293: 'amistad',\n",
       " 294: 'del',\n",
       " 295: 'nonsense',\n",
       " 296: 'curtsy',\n",
       " 297: 'presque',\n",
       " 298: 'counter',\n",
       " 299: 'vaudeville',\n",
       " 300: 'lengua',\n",
       " 301: 'hepburn',\n",
       " 302: 'invincible',\n",
       " 303: 'hackery',\n",
       " 304: '\"',\n",
       " 305: 'strictly',\n",
       " 306: 'pale',\n",
       " 307: 'peep',\n",
       " 308: 'shaky',\n",
       " 309: 'hallucinatory',\n",
       " 310: \"novel's\",\n",
       " 311: 'viciously',\n",
       " 312: 'justifying',\n",
       " 313: 'esoteric',\n",
       " 314: \"year's\",\n",
       " 315: 'shamelessly',\n",
       " 316: 'demand',\n",
       " 317: 'resistance',\n",
       " 318: 'python',\n",
       " 319: 'ken',\n",
       " 320: 'waif',\n",
       " 321: 'furious--',\n",
       " 322: 'rehashed',\n",
       " 323: 'alternates',\n",
       " 324: 'adrian',\n",
       " 325: 'fueling',\n",
       " 326: 'bender',\n",
       " 327: 'stirs',\n",
       " 328: \"michele's\",\n",
       " 329: 'digest',\n",
       " 330: 'worried',\n",
       " 331: 'plant',\n",
       " 332: 'banter-filled',\n",
       " 333: 'thornier',\n",
       " 334: 'ticket',\n",
       " 335: 'grub',\n",
       " 336: 'unnerve',\n",
       " 337: 'departments',\n",
       " 338: 'landing',\n",
       " 339: 'modern',\n",
       " 340: 'exhaustion',\n",
       " 341: 'literary',\n",
       " 342: 'bang',\n",
       " 343: \"meyjes's\",\n",
       " 344: 'unspool',\n",
       " 345: 'meanders',\n",
       " 346: 'extreme-sports',\n",
       " 347: 'clients',\n",
       " 348: 'supplies',\n",
       " 349: 'davis',\n",
       " 350: 'underlined',\n",
       " 351: 'slathered',\n",
       " 352: 'aim',\n",
       " 353: 'degrades',\n",
       " 354: 'phantasms',\n",
       " 355: 'clarify',\n",
       " 356: 'obscure',\n",
       " 357: 'sweet',\n",
       " 358: 'emptiness',\n",
       " 359: 'poetic',\n",
       " 360: 'single-mindedly',\n",
       " 361: 'tech-geeks',\n",
       " 362: 'stumblebum',\n",
       " 363: 'warnings',\n",
       " 364: 'judges',\n",
       " 365: 'minimal',\n",
       " 366: 'avarice',\n",
       " 367: \"holofcener's\",\n",
       " 368: 'concentrate',\n",
       " 369: 'balance',\n",
       " 370: 'copycat',\n",
       " 371: 'blisteringly',\n",
       " 372: 'sorry',\n",
       " 373: 'tickled',\n",
       " 374: 'incompetent',\n",
       " 375: 'adam',\n",
       " 376: \"project's\",\n",
       " 377: 'coldest',\n",
       " 378: \"i'd\",\n",
       " 379: 'transgressive',\n",
       " 380: 'naked',\n",
       " 381: 'aerial',\n",
       " 382: 'reel/real',\n",
       " 383: 'rendering',\n",
       " 384: 'dusty',\n",
       " 385: 'labored',\n",
       " 386: 'amateurishly',\n",
       " 387: 'gruesome',\n",
       " 388: 'longo',\n",
       " 389: 'spaniel-eyed',\n",
       " 390: 'commendable',\n",
       " 391: 'uncomfortably',\n",
       " 392: \"hadn't\",\n",
       " 393: 'puke',\n",
       " 394: 'blade-thin',\n",
       " 395: 'mind',\n",
       " 396: 'seattle',\n",
       " 397: 'impossible',\n",
       " 398: 'xmas',\n",
       " 399: 'hard-driving',\n",
       " 400: 'demonstrating',\n",
       " 401: 'real-life',\n",
       " 402: 'reedy',\n",
       " 403: 'represents',\n",
       " 404: 'b-flick',\n",
       " 405: 'animal',\n",
       " 406: 'ballplayer',\n",
       " 407: 'frisk',\n",
       " 408: \"showtime's\",\n",
       " 409: 'investigator',\n",
       " 410: 'generate',\n",
       " 411: 'saddam',\n",
       " 412: 'gets',\n",
       " 413: 'lighting',\n",
       " 414: 'sorely',\n",
       " 415: 'cornball',\n",
       " 416: 'thick',\n",
       " 417: 'machismo',\n",
       " 418: 'cliches',\n",
       " 419: 'actorly',\n",
       " 420: 'stephen',\n",
       " 421: 'conventions',\n",
       " 422: 'webcast',\n",
       " 423: 'stacks',\n",
       " 424: '20-car',\n",
       " 425: 'femme',\n",
       " 426: 'grosses',\n",
       " 427: 'assert',\n",
       " 428: 'silbersteins',\n",
       " 429: '[stephen]',\n",
       " 430: \"'orphans'\",\n",
       " 431: 'allegiance',\n",
       " 432: 'ningún',\n",
       " 433: 'sustenance',\n",
       " 434: \"orwell's\",\n",
       " 435: 'hedonistic',\n",
       " 436: 'justice',\n",
       " 437: 'affability',\n",
       " 438: 'stoked',\n",
       " 439: 'warned',\n",
       " 440: 'nostalgic',\n",
       " 441: 'manners',\n",
       " 442: 'earned',\n",
       " 443: 'mentioned',\n",
       " 444: 'elvis',\n",
       " 445: 'spy',\n",
       " 446: 'drab',\n",
       " 447: 'learn',\n",
       " 448: 'seagal',\n",
       " 449: 'middle-aged',\n",
       " 450: 'wildlife',\n",
       " 451: 'diver',\n",
       " 452: 'fred',\n",
       " 453: 'gorefests',\n",
       " 454: 'dust-caked',\n",
       " 455: 'retread',\n",
       " 456: 'loser',\n",
       " 457: 'discloses',\n",
       " 458: 'anxieties',\n",
       " 459: 'sleep',\n",
       " 460: 'likes',\n",
       " 461: 'b-ball',\n",
       " 462: 'inauthentic',\n",
       " 463: 'longley',\n",
       " 464: 'wordy',\n",
       " 465: 'martial',\n",
       " 466: 'penchant',\n",
       " 467: 'bradbury',\n",
       " 468: '[opening]',\n",
       " 469: 'hash',\n",
       " 470: 'coping',\n",
       " 471: 'deportment',\n",
       " 472: \"macdowell's\",\n",
       " 473: 'ballhaus',\n",
       " 474: 'ho-tep',\n",
       " 475: 'avenges',\n",
       " 476: 'indulgence',\n",
       " 477: \"bad'\",\n",
       " 478: 'stewart',\n",
       " 479: 'yep',\n",
       " 480: 'telegraphs',\n",
       " 481: 'separates',\n",
       " 482: 'frustration',\n",
       " 483: 'intelligentsia',\n",
       " 484: 'ring',\n",
       " 485: 'tediously',\n",
       " 486: 'flowery',\n",
       " 487: 'capricious',\n",
       " 488: 'worked',\n",
       " 489: 'surfer',\n",
       " 490: 'puts',\n",
       " 491: 'tackles',\n",
       " 492: 'wondrously',\n",
       " 493: 'restatement',\n",
       " 494: \"ming-liang's\",\n",
       " 495: 'slapdash',\n",
       " 496: '1960s',\n",
       " 497: \"group's\",\n",
       " 498: \"sandler's\",\n",
       " 499: 'smoking',\n",
       " 500: 'survived',\n",
       " 501: 'cooler',\n",
       " 502: 'instability',\n",
       " 503: \"'best\",\n",
       " 504: 'browning',\n",
       " 505: 'steadfast',\n",
       " 506: '300',\n",
       " 507: 'contributed',\n",
       " 508: \"gibson's\",\n",
       " 509: 'past',\n",
       " 510: 'jesse',\n",
       " 511: 'overplayed',\n",
       " 512: 'bullseye',\n",
       " 513: 'photographer',\n",
       " 514: \"lieutenant's\",\n",
       " 515: 'crit',\n",
       " 516: 'philippe',\n",
       " 517: 'exceptional',\n",
       " 518: 'larded',\n",
       " 519: 'explode',\n",
       " 520: 'relief',\n",
       " 521: 'freud',\n",
       " 522: 'fellow',\n",
       " 523: 'rom-com',\n",
       " 524: 'miramax',\n",
       " 525: 'health',\n",
       " 526: \"novak's\",\n",
       " 527: 'lifts',\n",
       " 528: 'padded',\n",
       " 529: '50',\n",
       " 530: 'spinning',\n",
       " 531: 'barbershop',\n",
       " 532: 'mary-louise',\n",
       " 533: 'regimes',\n",
       " 534: '2001',\n",
       " 535: 'distant',\n",
       " 536: \"'goodfellas'\",\n",
       " 537: 'writhing',\n",
       " 538: 'reaffirming',\n",
       " 539: 'thoughtfulness',\n",
       " 540: 'handling',\n",
       " 541: 'hitler-study',\n",
       " 542: 'stumbles',\n",
       " 543: 'daphne',\n",
       " 544: 'galinsky',\n",
       " 545: 'disappears',\n",
       " 546: 'picaresque',\n",
       " 547: 'switches',\n",
       " 548: 'fateful',\n",
       " 549: '-',\n",
       " 550: 'awake',\n",
       " 551: 'flash',\n",
       " 552: 'clone-gag',\n",
       " 553: 'taught',\n",
       " 554: 'dabbling',\n",
       " 555: 'didactic',\n",
       " 556: 'cultures',\n",
       " 557: 'inspirado',\n",
       " 558: 'self-reflexive',\n",
       " 559: 'dependence',\n",
       " 560: 'tundra',\n",
       " 561: 'peor',\n",
       " 562: 'reduce',\n",
       " 563: 'tub',\n",
       " 564: \"aisle's\",\n",
       " 565: 'ill-starred',\n",
       " 566: 'upper',\n",
       " 567: 'positions',\n",
       " 568: 'deliver',\n",
       " 569: 'holm',\n",
       " 570: 'severed',\n",
       " 571: 'families',\n",
       " 572: 'figuring',\n",
       " 573: 'painful',\n",
       " 574: 'crock',\n",
       " 575: 'versus',\n",
       " 576: 'making',\n",
       " 577: 'moments',\n",
       " 578: 'refresh',\n",
       " 579: 'routinely',\n",
       " 580: \"shadyac's\",\n",
       " 581: 'cannes',\n",
       " 582: 'ten',\n",
       " 583: 'metaphysical',\n",
       " 584: 'e-graveyard',\n",
       " 585: 'worldview',\n",
       " 586: \"'hannibal'\",\n",
       " 587: \"'a\",\n",
       " 588: 'hoffman',\n",
       " 589: 'directors',\n",
       " 590: 'meetings',\n",
       " 591: 'laurel',\n",
       " 592: 'tinkering',\n",
       " 593: 'destined',\n",
       " 594: 'downbeat',\n",
       " 595: 'contenders',\n",
       " 596: 'keeps',\n",
       " 597: 'numbness',\n",
       " 598: '[as',\n",
       " 599: 'rhythm',\n",
       " 600: 'juliette',\n",
       " 601: 'presiding',\n",
       " 602: 'earthly',\n",
       " 603: 'ill-advised',\n",
       " 604: \"bow's\",\n",
       " 605: 'russo',\n",
       " 606: 'catastrophic',\n",
       " 607: 'taymor',\n",
       " 608: 'writer-actor',\n",
       " 609: 'margarita',\n",
       " 610: 'giannini',\n",
       " 611: 'hymn',\n",
       " 612: 'prosthetic',\n",
       " 613: 'amiability',\n",
       " 614: 'small-scale',\n",
       " 615: 'choice',\n",
       " 616: 'danny',\n",
       " 617: 'cinemas',\n",
       " 618: 'draws',\n",
       " 619: 'unaffected',\n",
       " 620: 'ofrece',\n",
       " 621: 'liberal',\n",
       " 622: 'leontine',\n",
       " 623: 'wish-fulfilling',\n",
       " 624: 'puffery',\n",
       " 625: 'spain',\n",
       " 626: \"jones's\",\n",
       " 627: 'revitalize',\n",
       " 628: 'ex-marine',\n",
       " 629: 'insult',\n",
       " 630: 'in-the-ring',\n",
       " 631: 'regain',\n",
       " 632: 'port-of-call',\n",
       " 633: 'fun',\n",
       " 634: 'desires',\n",
       " 635: 's&m',\n",
       " 636: \"week's\",\n",
       " 637: 'code-talk',\n",
       " 638: 'anti-kieslowski',\n",
       " 639: \"'love\",\n",
       " 640: 'salacious',\n",
       " 641: 'uneasy',\n",
       " 642: 'provocateur',\n",
       " 643: 'brawn',\n",
       " 644: 'dv',\n",
       " 645: 'christians',\n",
       " 646: 'weaves',\n",
       " 647: 'bodies',\n",
       " 648: 'fills',\n",
       " 649: 'mattered',\n",
       " 650: 'precollegiate',\n",
       " 651: 'gil',\n",
       " 652: 'pretentious',\n",
       " 653: 'renown',\n",
       " 654: 'dullest',\n",
       " 655: 'wanes',\n",
       " 656: 'bare-bones',\n",
       " 657: '-after',\n",
       " 658: 'pack',\n",
       " 659: 'creepy',\n",
       " 660: 'sisters',\n",
       " 661: 'crush',\n",
       " 662: 'beings',\n",
       " 663: 'scenic',\n",
       " 664: 'iconic',\n",
       " 665: 'rudd',\n",
       " 666: 'refers',\n",
       " 667: 'ramis',\n",
       " 668: '170',\n",
       " 669: '1933',\n",
       " 670: \"'60s\",\n",
       " 671: 'limitations',\n",
       " 672: 'dramatics',\n",
       " 673: 'butterflies',\n",
       " 674: 'friends',\n",
       " 675: 'frightful',\n",
       " 676: 'referred',\n",
       " 677: 'teachers',\n",
       " 678: 'boston',\n",
       " 679: '2-day',\n",
       " 680: '[tries]',\n",
       " 681: 'bitter',\n",
       " 682: 'naïve',\n",
       " 683: 'knew',\n",
       " 684: 'indelible',\n",
       " 685: 'abound',\n",
       " 686: 'bodily',\n",
       " 687: 'poking',\n",
       " 688: 'unseemly',\n",
       " 689: 'normally',\n",
       " 690: \"child's\",\n",
       " 691: 'resume',\n",
       " 692: 'oddly',\n",
       " 693: 'windtalkers',\n",
       " 694: 'deny',\n",
       " 695: 'reinvention',\n",
       " 696: 'susan',\n",
       " 697: 'noticeably',\n",
       " 698: 'rouse',\n",
       " 699: 'religious',\n",
       " 700: 'purport',\n",
       " 701: 'outshined',\n",
       " 702: \"villeneuve's\",\n",
       " 703: 'wonders',\n",
       " 704: 'messenger',\n",
       " 705: \"life-at-arm's-length\",\n",
       " 706: 'prevalence',\n",
       " 707: 'narcissistic',\n",
       " 708: 'gothic',\n",
       " 709: 'brainy',\n",
       " 710: 'misogynistic',\n",
       " 711: 'wound',\n",
       " 712: 'petrovich',\n",
       " 713: 'sums',\n",
       " 714: 'outlandish',\n",
       " 715: 'fisk',\n",
       " 716: 'australia',\n",
       " 717: 'jennifer',\n",
       " 718: 'shorts',\n",
       " 719: 'cracked',\n",
       " 720: 'perceptions',\n",
       " 721: 'stepford',\n",
       " 722: 'exquisite',\n",
       " 723: 'reacting',\n",
       " 724: 'yes',\n",
       " 725: 'shuck-and-jive',\n",
       " 726: 'applies',\n",
       " 727: 'insomnia',\n",
       " 728: 'instead',\n",
       " 729: 'crafted',\n",
       " 730: \"'evelyn\",\n",
       " 731: 'reimagine',\n",
       " 732: 'byways',\n",
       " 733: 'below',\n",
       " 734: 'villains',\n",
       " 735: 'astoundingly',\n",
       " 736: 'august',\n",
       " 737: 'backdrops',\n",
       " 738: \"[t]here's\",\n",
       " 739: 'desolation',\n",
       " 740: 'francophiles',\n",
       " 741: 'visionary',\n",
       " 742: 'sentimentality',\n",
       " 743: 'log',\n",
       " 744: 'titillating',\n",
       " 745: 'julianne',\n",
       " 746: \"early-'80s\",\n",
       " 747: 'ascertain',\n",
       " 748: 'boring',\n",
       " 749: 'highlight',\n",
       " 750: \"[gayton's\",\n",
       " 751: 'tub-thumpingly',\n",
       " 752: 'reads',\n",
       " 753: 'receives',\n",
       " 754: 'wishful',\n",
       " 755: 'mildly',\n",
       " 756: 'lau',\n",
       " 757: 'intentions',\n",
       " 758: \"here's\",\n",
       " 759: 'skins',\n",
       " 760: \"greene's\",\n",
       " 761: 'excursion',\n",
       " 762: 'instilled',\n",
       " 763: 'student',\n",
       " 764: 'evening',\n",
       " 765: 'graced',\n",
       " 766: 'tendentious',\n",
       " 767: 'appetites',\n",
       " 768: 'brawny',\n",
       " 769: 'flight',\n",
       " 770: 'campus',\n",
       " 771: 'ballet',\n",
       " 772: '1958',\n",
       " 773: 'debases',\n",
       " 774: \"'bowling\",\n",
       " 775: 'jon',\n",
       " 776: 'jabs',\n",
       " 777: 'devastation',\n",
       " 778: 'combining',\n",
       " 779: 'guiltless',\n",
       " 780: 'reminded',\n",
       " 781: 'toast',\n",
       " 782: 'she',\n",
       " 783: 'simultaneously',\n",
       " 784: 'my',\n",
       " 785: 'faster',\n",
       " 786: 'preemptive',\n",
       " 787: 'stupider',\n",
       " 788: 'frankenstein-like',\n",
       " 789: 'apenas',\n",
       " 790: 'ladles',\n",
       " 791: 'golden',\n",
       " 792: 'deemed',\n",
       " 793: 'suffocating',\n",
       " 794: 'receive',\n",
       " 795: 'ton',\n",
       " 796: 'resorts',\n",
       " 797: 'ingenuity',\n",
       " 798: 'camera-work',\n",
       " 799: 'well-timed',\n",
       " 800: 'flame',\n",
       " 801: 'dependent',\n",
       " 802: 'argument',\n",
       " 803: 'community',\n",
       " 804: 'abderrahmane',\n",
       " 805: 'brink',\n",
       " 806: 'cal',\n",
       " 807: \"'cherish'\",\n",
       " 808: 'caruso',\n",
       " 809: 'chaplin',\n",
       " 810: 'bloodwork',\n",
       " 811: 'perverse',\n",
       " 812: 'independence',\n",
       " 813: '[watts]',\n",
       " 814: 'brunt',\n",
       " 815: 'enters',\n",
       " 816: 'serry',\n",
       " 817: 'lags',\n",
       " 818: 'spontaneous',\n",
       " 819: 'pays',\n",
       " 820: 'sip',\n",
       " 821: 'vittorio',\n",
       " 822: 'manhood',\n",
       " 823: 'effects]',\n",
       " 824: 'someplace',\n",
       " 825: 'quivering',\n",
       " 826: 'antithesis',\n",
       " 827: 'shoddy',\n",
       " 828: 'drek',\n",
       " 829: 'memories',\n",
       " 830: '[scherfig]',\n",
       " 831: 'premises',\n",
       " 832: '163',\n",
       " 833: 'shoes',\n",
       " 834: 'well-crafted',\n",
       " 835: 'limit',\n",
       " 836: 'pandered',\n",
       " 837: \"album's\",\n",
       " 838: 'characteristically',\n",
       " 839: 'barlow',\n",
       " 840: '[allen]',\n",
       " 841: 'israeli',\n",
       " 842: 'idiosyncratic',\n",
       " 843: 'modernizes',\n",
       " 844: 'germanic',\n",
       " 845: 'conjures',\n",
       " 846: 'angel',\n",
       " 847: 'bloodstream',\n",
       " 848: 'redundant',\n",
       " 849: 'neat',\n",
       " 850: 'correct',\n",
       " 851: 'nasty',\n",
       " 852: 'pointless',\n",
       " 853: 'freshness',\n",
       " 854: 'decrepitude',\n",
       " 855: 'barris',\n",
       " 856: 'oily',\n",
       " 857: 'cinephile',\n",
       " 858: 'subsided',\n",
       " 859: 'situation',\n",
       " 860: 'experienced',\n",
       " 861: 'dreaming',\n",
       " 862: \"so-bad-it's-funny\",\n",
       " 863: 'credibility',\n",
       " 864: 'dutiful',\n",
       " 865: 'labute',\n",
       " 866: 'incisive',\n",
       " 867: 'allowing',\n",
       " 868: 'jazzes',\n",
       " 869: 'betty',\n",
       " 870: 'reserving',\n",
       " 871: 'hail',\n",
       " 872: 'colosal',\n",
       " 873: 'day',\n",
       " 874: 'spunk',\n",
       " 875: 'liberally',\n",
       " 876: 'suffused',\n",
       " 877: 'thin',\n",
       " 878: 'convinced',\n",
       " 879: 'statements',\n",
       " 880: 'mimetic',\n",
       " 881: 'engaged',\n",
       " 882: 'muddy',\n",
       " 883: 'tortuous',\n",
       " 884: 'ingeniously',\n",
       " 885: 'twilight',\n",
       " 886: 'tumult',\n",
       " 887: 'analgesic',\n",
       " 888: 'cockamamie',\n",
       " 889: 'mushes',\n",
       " 890: 'estrogen-free',\n",
       " 891: 'uruk-hai',\n",
       " 892: 'crudely',\n",
       " 893: 'sampler',\n",
       " 894: 'faux-contemporary',\n",
       " 895: 'therapy',\n",
       " 896: 'garden',\n",
       " 897: 'sorriest',\n",
       " 898: 'car-wreck',\n",
       " 899: 'deseos',\n",
       " 900: 'mirth',\n",
       " 901: \"charles'\",\n",
       " 902: 'bushels',\n",
       " 903: 'massacres',\n",
       " 904: 'monsterous',\n",
       " 905: 'practice',\n",
       " 906: 'adventues',\n",
       " 907: 'glitches',\n",
       " 908: 'gone-to-pot',\n",
       " 909: 'richness',\n",
       " 910: 'online',\n",
       " 911: 'spunky',\n",
       " 912: 'unceasing',\n",
       " 913: 'hit-',\n",
       " 914: 'the',\n",
       " 915: 'spy-vs',\n",
       " 916: 'adaptation',\n",
       " 917: 'noodle',\n",
       " 918: 'impossibly',\n",
       " 919: 'better',\n",
       " 920: 'treats',\n",
       " 921: 'dubious',\n",
       " 922: 'mosaic',\n",
       " 923: \"2002's\",\n",
       " 924: 'spiced',\n",
       " 925: 'ya',\n",
       " 926: 'lucy',\n",
       " 927: 'heck',\n",
       " 928: 'absurdity',\n",
       " 929: 'sounded',\n",
       " 930: 'sources',\n",
       " 931: 'frustratingly',\n",
       " 932: \"jacobson's\",\n",
       " 933: 'prominent',\n",
       " 934: 'flatfooted',\n",
       " 935: \"humankind's\",\n",
       " 936: '48',\n",
       " 937: 'kilmer&#8217',\n",
       " 938: \"merchant's\",\n",
       " 939: 'extremely',\n",
       " 940: 'partway',\n",
       " 941: 'account',\n",
       " 942: 'indoctrinated',\n",
       " 943: 'fetishes',\n",
       " 944: 'unrelentingly',\n",
       " 945: 'iron',\n",
       " 946: 'obsession',\n",
       " 947: 'another',\n",
       " 948: 'accuse',\n",
       " 949: 'divide',\n",
       " 950: 'articulates',\n",
       " 951: 'independent-community',\n",
       " 952: 'derek',\n",
       " 953: \"frei's\",\n",
       " 954: 'toasts',\n",
       " 955: 'openly',\n",
       " 956: 'accurate',\n",
       " 957: 'dense',\n",
       " 958: 'freeman',\n",
       " 959: 'elect',\n",
       " 960: 'stuttering',\n",
       " 961: \"reader's\",\n",
       " 962: 'gowns',\n",
       " 963: \"farmer's\",\n",
       " 964: 'closet',\n",
       " 965: 'dishonest',\n",
       " 966: 'urge',\n",
       " 967: 'disappointments',\n",
       " 968: 'oriental',\n",
       " 969: 'comparisons',\n",
       " 970: 'professionalism',\n",
       " 971: 'psychic',\n",
       " 972: 'telephone',\n",
       " 973: 'pandemonium',\n",
       " 974: 'slapping',\n",
       " 975: 'practically',\n",
       " 976: 'dialog',\n",
       " 977: 'veterans',\n",
       " 978: 'sturdy',\n",
       " 979: 'mordantly',\n",
       " 980: \"dragon'\",\n",
       " 981: 'combatants',\n",
       " 982: 'storm',\n",
       " 983: 'aspiration',\n",
       " 984: 'entree',\n",
       " 985: 'pryce',\n",
       " 986: 'disparate',\n",
       " 987: 'termina',\n",
       " 988: 'aloft',\n",
       " 989: 'period',\n",
       " 990: 'putters',\n",
       " 991: 'crème',\n",
       " 992: \"story'\",\n",
       " 993: 'ghoulish',\n",
       " 994: 'paulette',\n",
       " 995: 'reasonably',\n",
       " 996: 'vicarious',\n",
       " 997: 'akin',\n",
       " 998: 'torture',\n",
       " 999: '[the',\n",
       " ...}"
      ]
     },
     "metadata": {},
     "execution_count": 12
    }
   ],
   "source": [
    "idx2word"
   ]
  },
  {
   "cell_type": "code",
   "execution_count": null,
   "metadata": {
    "colab": {
     "base_uri": "https://localhost:8080/"
    },
    "id": "bH_RIESb1ajT",
    "outputId": "5c77ab2b-8fa7-46f5-993f-c0dd682e8079"
   },
   "outputs": [
    {
     "output_type": "stream",
     "name": "stdout",
     "text": [
      "--2022-11-30 21:47:27--  https://nlp.stanford.edu/data/glove.6B.zip\n",
      "Resolving nlp.stanford.edu (nlp.stanford.edu)... 171.64.67.140\n",
      "Connecting to nlp.stanford.edu (nlp.stanford.edu)|171.64.67.140|:443... connected.\n",
      "HTTP request sent, awaiting response... 301 Moved Permanently\n",
      "Location: https://downloads.cs.stanford.edu/nlp/data/glove.6B.zip [following]\n",
      "--2022-11-30 21:47:28--  https://downloads.cs.stanford.edu/nlp/data/glove.6B.zip\n",
      "Resolving downloads.cs.stanford.edu (downloads.cs.stanford.edu)... 171.64.64.22\n",
      "Connecting to downloads.cs.stanford.edu (downloads.cs.stanford.edu)|171.64.64.22|:443... connected.\n",
      "HTTP request sent, awaiting response... 200 OK\n",
      "Length: 862182613 (822M) [application/zip]\n",
      "Saving to: ‘glove.6B.zip’\n",
      "\n",
      "glove.6B.zip        100%[===================>] 822.24M  4.98MB/s    in 2m 43s  \n",
      "\n",
      "2022-11-30 21:50:11 (5.05 MB/s) - ‘glove.6B.zip’ saved [862182613/862182613]\n",
      "\n",
      "Archive:  glove.6B.zip\n",
      "  inflating: glove.6B.50d.txt        \n",
      "  inflating: glove.6B.100d.txt       \n",
      "  inflating: glove.6B.200d.txt       \n",
      "  inflating: glove.6B.300d.txt       \n"
     ]
    }
   ],
   "source": [
    "!wget https://nlp.stanford.edu/data/glove.6B.zip\n",
    "!unzip glove.6B.zip"
   ]
  },
  {
   "cell_type": "code",
   "execution_count": null,
   "metadata": {
    "id": "a8IkGOLN2Slt"
   },
   "outputs": [],
   "source": [
    "# Easier to load with gensim\n",
    "WORD_DIM = 300\n",
    "from gensim.models import KeyedVectors\n",
    "#word2vec = KeyedVectors.load_word2vec_format('GoogleNews-vectors-negative300.bin', binary=True)\n",
    "\n",
    "# Glove\n",
    "from gensim.scripts.glove2word2vec import glove2word2vec\n",
    "_ = glove2word2vec('glove.6B.300d.txt', 'glove.6B.300d_w2v.txt')\n",
    "word2vec = KeyedVectors.load_word2vec_format('glove.6B.300d_w2v.txt', binary=False)"
   ]
  },
  {
   "cell_type": "code",
   "execution_count": null,
   "metadata": {
    "colab": {
     "base_uri": "https://localhost:8080/"
    },
    "id": "L1SWIzV54Eue",
    "outputId": "96317b66-5a4d-4318-e4e1-1c251df25b6a"
   },
   "outputs": [
    {
     "output_type": "execute_result",
     "data": {
      "text/plain": [
       "(19058, 300)"
      ]
     },
     "metadata": {},
     "execution_count": 15
    }
   ],
   "source": [
    "# Now we create the word embedding matrix and copy from word2vec embeddings!\n",
    "\n",
    "# Initialize randomly the word embedding matrix\n",
    "word_embeddings = np.random.rand(len(word2idx), WORD_DIM)\n",
    "\n",
    "# Set the values to 0 for padding\n",
    "word_embeddings[word2idx['_PAD_']] = np.zeros(WORD_DIM)\n",
    "\n",
    "# Copy from word2vec\n",
    "for word in vocabulary:\n",
    "  if word in word2vec:\n",
    "    word_embeddings[word2idx[word], :] = word2vec[word]\n",
    "word_embeddings.shape"
   ]
  },
  {
   "cell_type": "markdown",
   "metadata": {
    "id": "9Wvk5VJQ5_Lm"
   },
   "source": [
    "# Process the data.\n",
    "\n",
    "Now, we can add the word embedding indeces to our data to be fed to the model. Let's see what is there so far."
   ]
  },
  {
   "cell_type": "code",
   "execution_count": null,
   "metadata": {
    "colab": {
     "base_uri": "https://localhost:8080/"
    },
    "id": "XDL1cLZ34-oW",
    "outputId": "e54a3021-57fe-4316-bf71-f602c754b8ec"
   },
   "outputs": [
    {
     "output_type": "execute_result",
     "data": {
      "text/plain": [
       "{'tokens': ['chicago',\n",
       "  'is',\n",
       "  ',',\n",
       "  'in',\n",
       "  'many',\n",
       "  'ways',\n",
       "  ',',\n",
       "  'an',\n",
       "  'admirable',\n",
       "  'achievement',\n",
       "  '.'],\n",
       " 'sentiment': 1,\n",
       " 'text': 'chicago is , in many ways , an admirable achievement .'}"
      ]
     },
     "metadata": {},
     "execution_count": 16
    }
   ],
   "source": [
    "train_data[0]"
   ]
  },
  {
   "cell_type": "markdown",
   "metadata": {
    "id": "nyuE6DgK7Tcb"
   },
   "source": [
    "Good. Let's add an attribute `word_idx` to all samples. In case a word is unknown, we will simply replace it with the work \"_UNK_\"."
   ]
  },
  {
   "cell_type": "code",
   "execution_count": null,
   "metadata": {
    "id": "49cTpBM37QS6"
   },
   "outputs": [],
   "source": [
    "# We add the word indeces to all data splits\n",
    "for split_data in [train_data, val_data, test_data]:\n",
    "  for sample in split_data:\n",
    "    sample['word_idx'] = []\n",
    "    for token in sample['tokens']:\n",
    "      # If a word is not in our vocabulary, we put the UNK token instead\n",
    "      sample['word_idx'].append(word2idx[token] if token in word2idx else word2idx['_UNK_'])"
   ]
  },
  {
   "cell_type": "markdown",
   "metadata": {
    "id": "nXhp3Ew07-Uw"
   },
   "source": [
    "Great! We are nearly there. The last problem to address is to have the same length for the reviews. A simple way is to pad each sample until reaching the maximum length.\n",
    "\n",
    "Let's see what is the longest review so far."
   ]
  },
  {
   "cell_type": "code",
   "execution_count": null,
   "metadata": {
    "colab": {
     "base_uri": "https://localhost:8080/"
    },
    "id": "kl3lXGJf7xxn",
    "outputId": "aa5706cd-0269-46c2-8d8e-10b0fc49deab"
   },
   "outputs": [
    {
     "output_type": "execute_result",
     "data": {
      "text/plain": [
       "(59, 51, 51)"
      ]
     },
     "metadata": {},
     "execution_count": 18
    }
   ],
   "source": [
    "max(len(sample['tokens']) for sample in train_data), \\\n",
    "max(len(sample['tokens']) for sample in val_data), \\\n",
    "max(len(sample['tokens']) for sample in test_data)"
   ]
  },
  {
   "cell_type": "markdown",
   "metadata": {
    "id": "1Yjzpl2k8Sfp"
   },
   "source": [
    "Now, the last step is to pad all reviews to 59 tokens!"
   ]
  },
  {
   "cell_type": "code",
   "execution_count": null,
   "metadata": {
    "id": "oFPsuGcH73G-"
   },
   "outputs": [],
   "source": [
    "PAD_LENGTH = 59\n",
    "\n",
    "for split_data in [train_data, val_data, test_data]:\n",
    "  for sample in split_data:\n",
    "    while len(sample['word_idx']) < PAD_LENGTH:\n",
    "      sample['word_idx'].append(word2idx['_PAD_'])\n",
    "    \n",
    "    # Sanity check\n",
    "    assert len(sample['word_idx']) == PAD_LENGTH"
   ]
  },
  {
   "cell_type": "code",
   "execution_count": null,
   "metadata": {
    "colab": {
     "base_uri": "https://localhost:8080/"
    },
    "id": "H8r9871x8htn",
    "outputId": "fe23fdde-be1a-454b-d577-8445a16e482a"
   },
   "outputs": [
    {
     "output_type": "execute_result",
     "data": {
      "text/plain": [
       "{'tokens': ['chicago',\n",
       "  'is',\n",
       "  ',',\n",
       "  'in',\n",
       "  'many',\n",
       "  'ways',\n",
       "  ',',\n",
       "  'an',\n",
       "  'admirable',\n",
       "  'achievement',\n",
       "  '.'],\n",
       " 'sentiment': 1,\n",
       " 'text': 'chicago is , in many ways , an admirable achievement .',\n",
       " 'word_idx': [16999,\n",
       "  8038,\n",
       "  18200,\n",
       "  5620,\n",
       "  16846,\n",
       "  2080,\n",
       "  18200,\n",
       "  12941,\n",
       "  14495,\n",
       "  12057,\n",
       "  5654,\n",
       "  0,\n",
       "  0,\n",
       "  0,\n",
       "  0,\n",
       "  0,\n",
       "  0,\n",
       "  0,\n",
       "  0,\n",
       "  0,\n",
       "  0,\n",
       "  0,\n",
       "  0,\n",
       "  0,\n",
       "  0,\n",
       "  0,\n",
       "  0,\n",
       "  0,\n",
       "  0,\n",
       "  0,\n",
       "  0,\n",
       "  0,\n",
       "  0,\n",
       "  0,\n",
       "  0,\n",
       "  0,\n",
       "  0,\n",
       "  0,\n",
       "  0,\n",
       "  0,\n",
       "  0,\n",
       "  0,\n",
       "  0,\n",
       "  0,\n",
       "  0,\n",
       "  0,\n",
       "  0,\n",
       "  0,\n",
       "  0,\n",
       "  0,\n",
       "  0,\n",
       "  0,\n",
       "  0,\n",
       "  0,\n",
       "  0,\n",
       "  0,\n",
       "  0,\n",
       "  0,\n",
       "  0]}"
      ]
     },
     "metadata": {},
     "execution_count": 20
    }
   ],
   "source": [
    "train_data[0]"
   ]
  },
  {
   "cell_type": "markdown",
   "metadata": {
    "id": "y8xNT-oD92kP"
   },
   "source": [
    "# Modeling\n",
    "\n",
    "Now we can start designing our model. In Kim et al. 2014, the authors proposed the following one: \n",
    "\n",
    "![image.png](data:image/png;base64,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)"
   ]
  },
  {
   "cell_type": "markdown",
   "metadata": {
    "id": "f-4zDjkA-Nrp"
   },
   "source": [
    "For the details, we will implement the \"CNN-static\" model:\n",
    "- Static word embedding from word2vec with 300 dimensions (not fine-tuned)\n",
    "- 100 filters/kernel/features map for each window size of 3,4,5 (i.e., n-grams)\n",
    "- Max pooling to reduce the size followed by a projection layer to the output\n",
    "- Dropout of 50%\n",
    "- L2 weight"
   ]
  },
  {
   "cell_type": "code",
   "execution_count": null,
   "metadata": {
    "id": "rMryBnYn8rF-"
   },
   "outputs": [],
   "source": [
    "class CNN(nn.Module):\n",
    "    def __init__(self, input_size, dropout, filter_num, classes_num, words_num):\n",
    "        super(CNN, self).__init__()\n",
    "\n",
    "        self.embedding = nn.Embedding(num_embeddings=words_num, embedding_dim=input_size)\n",
    "\n",
    "        # We create the convolution layers\n",
    "        self.conv_3 = nn.Conv1d(in_channels=input_size, out_channels=filter_num, kernel_size=3)\n",
    "        self.conv_4 = nn.Conv1d(in_channels=input_size, out_channels=filter_num, kernel_size=4)\n",
    "        self.conv_5 = nn.Conv1d(in_channels=input_size, out_channels=filter_num, kernel_size=5)       \n",
    "        self.convs = [(self.conv_3, 3), \n",
    "                      (self.conv_4, 4),\n",
    "                      (self.conv_5, 5),\n",
    "                      ]\n",
    "\n",
    "        self.dropout = nn.Dropout(dropout)\n",
    "        self.activation = nn.Tanh()\n",
    "\n",
    "        # The last layer to compute the probabilities for the output classes\n",
    "        self.final_layer = nn.Linear(in_features=len(self.convs) * filter_num, out_features=classes_num)\n",
    "        \n",
    "    def forward(self, x):\n",
    "        x = self.embedding(x) # Convert into word embeddings\n",
    "        x = torch.transpose(x, 1, 2) # Switch X to (Batch, Embed, Length) --> CF Doc https://pytorch.org/docs/stable/generated/torch.nn.Conv1d.html?highlight=conv1d#torch.nn.Conv1d\n",
    "        x = self.dropout(x)\n",
    "\n",
    "        output = []\n",
    "        for conv, kernel_size in self.convs:\n",
    "            # To have consistent dimension output, we always pad the input\n",
    "            padded_activ = F.pad(x, pad=(kernel_size - 1, 0), mode='constant', value=0) #BxDx(L+K-1)\n",
    "\n",
    "            # We do the convolution followed by an activation function\n",
    "            result = self.activation(conv(padded_activ))\n",
    "\n",
    "            # We max-pool\n",
    "            result = F.max_pool1d(result, result.size(2)).squeeze(-1) #BxD\n",
    "            \n",
    "            # We store the result and move to the next convolution\n",
    "            output.append(result)\n",
    "\n",
    "        # concat across channels -> 3 x result.size(2)\n",
    "        output = torch.cat(output, 1)\n",
    "        output = self.dropout(output)\n",
    "        \n",
    "        # Compute the log probabilities. We do not compute the probabilities with Softmax because depending the loss function, we might require unnormalized or probabilities.\n",
    "        # Worst case, we can always apply F.softmax(output, dim=-1) later.\n",
    "        logits = self.final_layer(output)\n",
    "        return logits"
   ]
  },
  {
   "cell_type": "markdown",
   "metadata": {
    "id": "m5hPUwZKB16W"
   },
   "source": [
    "Let's see if our model can compute a foward pass"
   ]
  },
  {
   "cell_type": "code",
   "execution_count": null,
   "metadata": {
    "colab": {
     "base_uri": "https://localhost:8080/"
    },
    "id": "T5MkMxsgBjiS",
    "outputId": "36143905-46b4-478c-dbe8-01fef40e3662"
   },
   "outputs": [
    {
     "output_type": "execute_result",
     "data": {
      "text/plain": [
       "tensor([[0, 1, 2, 3, 4, 5]])"
      ]
     },
     "metadata": {},
     "execution_count": 22
    }
   ],
   "source": [
    "# Example of a batch=1 and 6 word indeces\n",
    "input = torch.tensor([[0,1,2,3,4,5]])\n",
    "input"
   ]
  },
  {
   "cell_type": "code",
   "execution_count": null,
   "metadata": {
    "colab": {
     "base_uri": "https://localhost:8080/"
    },
    "id": "4zvOOdBRBizW",
    "outputId": "7bbcede6-7475-4c56-fb08-63492ca746f2"
   },
   "outputs": [
    {
     "output_type": "execute_result",
     "data": {
      "text/plain": [
       "tensor([[0.4311, 0.5689]], grad_fn=<SoftmaxBackward0>)"
      ]
     },
     "metadata": {},
     "execution_count": 23
    }
   ],
   "source": [
    "cnn = CNN(input_size=300, dropout=0.5, filter_num=100, classes_num=2, words_num=6)\n",
    "logits = cnn(input)\n",
    "F.softmax(logits, dim=-1)"
   ]
  },
  {
   "cell_type": "markdown",
   "metadata": {
    "id": "t0WMstuWEHJb"
   },
   "source": [
    "Great! The model seems to work and is able to compute the sentiment probability of a document."
   ]
  },
  {
   "cell_type": "markdown",
   "metadata": {
    "id": "8gTdnlKKF3IP"
   },
   "source": [
    "# Loss function\n",
    "\n",
    "What is the loss to use to optimize the model? Because we are doing binary text classification, the most natural one is to use the [cross entropy loss](https://pytorch.org/docs/stable/generated/torch.nn.CrossEntropyLoss.html?highlight=cross%20entropy#torch.nn.CrossEntropyLoss). Let's see some examples"
   ]
  },
  {
   "cell_type": "code",
   "execution_count": null,
   "metadata": {
    "id": "4LmhTi97CEMI"
   },
   "outputs": [],
   "source": [
    "criterion = nn.CrossEntropyLoss(reduction='none')"
   ]
  },
  {
   "cell_type": "markdown",
   "metadata": {
    "id": "rAAqdWWTK7eW"
   },
   "source": [
    "If you lookt at the documentation, it is written that CrossEntropyLoss takes as input **unnormalized** data! (i.e., NOT probabilities).\n",
    "\n",
    "Let's see what happens if we feed directly probabilities"
   ]
  },
  {
   "cell_type": "code",
   "execution_count": null,
   "metadata": {
    "colab": {
     "base_uri": "https://localhost:8080/"
    },
    "id": "BQ_jGk76GTEf",
    "outputId": "9fb2a5c4-59bb-4bf3-9dac-027f96636e83"
   },
   "outputs": [
    {
     "output_type": "execute_result",
     "data": {
      "text/plain": [
       "tensor([0.3133, 0.4741, 0.6931, 0.9741, 1.2987])"
      ]
     },
     "metadata": {},
     "execution_count": 25
    }
   ],
   "source": [
    "pred = torch.tensor([[0.0, 1.0], [0.25, 0.75], [0.5, 0.5], [0.75, 0.25], [0.99, 0.01]]) # Assumed this has been computed by a model\n",
    "gold = torch.tensor([ 1       ,   1          , 1         ,  1          ,  1]) # The targets: everything must be positive\n",
    "F.cross_entropy(pred, gold, reduction='none')"
   ]
  },
  {
   "cell_type": "markdown",
   "metadata": {
    "id": "mrlp3nPtLLRS"
   },
   "source": [
    "We note that the loss is not 0 when the prediction is correct but 0.3133! However, if we \"unnormalize\" the data (solely for illustration purposes), we observe that the results make sense"
   ]
  },
  {
   "cell_type": "code",
   "execution_count": null,
   "metadata": {
    "colab": {
     "base_uri": "https://localhost:8080/"
    },
    "id": "s5lqBCszG8HS",
    "outputId": "d8ced19a-80f0-4b1c-d723-adf9fa00ef27"
   },
   "outputs": [
    {
     "output_type": "execute_result",
     "data": {
      "text/plain": [
       "tensor([-0.0000, 0.2877, 0.6931, 1.3863, 4.6052])"
      ]
     },
     "metadata": {},
     "execution_count": 26
    }
   ],
   "source": [
    "def inv_softmax(x):\n",
    "  return x.log() + math.log(10.)\n",
    "\n",
    "pred = inv_softmax(torch.tensor([[0.0, 1.0], [0.25, 0.75], [0.5, 0.5], [0.75, 0.25], [0.99, 0.01]])) # Assumed this has been computed by a model\n",
    "gold = torch.tensor([ 1       ,   1          , 1         ,  1          ,  1]) # The target: everything must be positive\n",
    "F.cross_entropy(pred, gold, reduction='none')"
   ]
  },
  {
   "cell_type": "markdown",
   "metadata": {
    "id": "iz-exqn5Lfm2"
   },
   "source": [
    "Indeed, when the prediction is correct, we obtain a loss of 0! and In the worst case, a loss of 4.6."
   ]
  },
  {
   "cell_type": "markdown",
   "metadata": {
    "id": "vbmA0mjGL2wW"
   },
   "source": [
    "# Metric\n",
    "\n",
    "As our task implies binary classification and the distribution of data is balanced originally, we can assume accuracy is a good enough metric."
   ]
  },
  {
   "cell_type": "code",
   "execution_count": null,
   "metadata": {
    "id": "e-3jCtXhMPC2"
   },
   "outputs": [],
   "source": [
    "from sklearn.metrics import accuracy_score\n",
    "def compute_accuracy(preds, golds):\n",
    "  return accuracy_score(preds, golds)"
   ]
  },
  {
   "cell_type": "markdown",
   "metadata": {
    "id": "3WSIfowKLpKS"
   },
   "source": [
    "# Putting all together\n",
    "\n",
    "We now have the model, the data, and the loss function. We are ready to implement the training loop."
   ]
  },
  {
   "cell_type": "code",
   "execution_count": null,
   "metadata": {
    "id": "CI85SjMoLbFN"
   },
   "outputs": [],
   "source": [
    "# We initialize our model\n",
    "model = CNN(input_size=300, dropout=0.5, filter_num=100, classes_num=2, words_num=len(word2idx))\n",
    "\n",
    "# Copy the word embedding matrix\n",
    "model.embedding.weight.data = torch.from_numpy(word_embeddings).float()\n",
    "model.embedding.weight.requires_grad = False # We do NOT want to fine-tune the word embedding"
   ]
  },
  {
   "cell_type": "code",
   "execution_count": null,
   "metadata": {
    "id": "PDVeO5kqM9mw"
   },
   "outputs": [],
   "source": [
    "# We initialize our optimizer to update the weights of the model\n",
    "optimizer = torch.optim.Adam(model.parameters(), lr=1e-4, weight_decay=1e-8) # L2 = weight_decay"
   ]
  },
  {
   "cell_type": "code",
   "execution_count": null,
   "metadata": {
    "id": "mSP-HtNDNK7p",
    "colab": {
     "base_uri": "https://localhost:8080/"
    },
    "outputId": "5c4ec78e-1b3f-4b28-dde3-dc6b665cdcc9"
   },
   "outputs": [
    {
     "output_type": "stream",
     "name": "stdout",
     "text": [
      "------------------------------------------------------------------------\n",
      "Epoch: 0\n"
     ]
    },
    {
     "output_type": "stream",
     "name": "stderr",
     "text": [
      "Training: 100%|██████████| 86/86 [00:07<00:00, 12.02it/s]\n",
      "Val: 100%|██████████| 11/11 [00:00<00:00, 296.18it/s]\n",
      "Test: 100%|██████████| 11/11 [00:00<00:00, 400.17it/s]\n"
     ]
    },
    {
     "output_type": "stream",
     "name": "stdout",
     "text": [
      "Train loss: 0.6950\n",
      "Val   loss: 0.6579\n",
      "Test  loss: 0.6641\n",
      "\n",
      "Val   Acc: 0.6820\n",
      "Test  Acc: 0.6284\n",
      "\n",
      "Best Epoch: 0, best val accuracy: 0.6820, test accuracy: 0.6284\n",
      "\n",
      "\n",
      "------------------------------------------------------------------------\n",
      "Epoch: 1\n"
     ]
    },
    {
     "output_type": "stream",
     "name": "stderr",
     "text": [
      "Training: 100%|██████████| 86/86 [00:00<00:00, 190.00it/s]\n",
      "Val: 100%|██████████| 11/11 [00:00<00:00, 386.33it/s]\n",
      "Test: 100%|██████████| 11/11 [00:00<00:00, 411.53it/s]\n"
     ]
    },
    {
     "output_type": "stream",
     "name": "stdout",
     "text": [
      "Train loss: 0.6646\n",
      "Val   loss: 0.6303\n",
      "Test  loss: 0.6412\n",
      "\n",
      "Val   Acc: 0.7139\n",
      "Test  Acc: 0.6652\n",
      "\n",
      "Best Epoch: 1, best val accuracy: 0.7139, test accuracy: 0.6652\n",
      "\n",
      "\n",
      "------------------------------------------------------------------------\n",
      "Epoch: 2\n"
     ]
    },
    {
     "output_type": "stream",
     "name": "stderr",
     "text": [
      "Training: 100%|██████████| 86/86 [00:00<00:00, 192.46it/s]\n",
      "Val: 100%|██████████| 11/11 [00:00<00:00, 400.98it/s]\n",
      "Test: 100%|██████████| 11/11 [00:00<00:00, 344.18it/s]\n"
     ]
    },
    {
     "output_type": "stream",
     "name": "stdout",
     "text": [
      "Train loss: 0.6441\n",
      "Val   loss: 0.6047\n",
      "Test  loss: 0.6193\n",
      "\n",
      "Val   Acc: 0.7425\n",
      "Test  Acc: 0.6947\n",
      "\n",
      "Best Epoch: 2, best val accuracy: 0.7425, test accuracy: 0.6947\n",
      "\n",
      "\n",
      "------------------------------------------------------------------------\n",
      "Epoch: 3\n"
     ]
    },
    {
     "output_type": "stream",
     "name": "stderr",
     "text": [
      "Training: 100%|██████████| 86/86 [00:00<00:00, 195.29it/s]\n",
      "Val: 100%|██████████| 11/11 [00:00<00:00, 397.25it/s]\n",
      "Test: 100%|██████████| 11/11 [00:00<00:00, 400.21it/s]\n"
     ]
    },
    {
     "output_type": "stream",
     "name": "stdout",
     "text": [
      "Train loss: 0.6193\n",
      "Val   loss: 0.5813\n",
      "Test  loss: 0.5980\n",
      "\n",
      "Val   Acc: 0.7580\n",
      "Test  Acc: 0.6956\n",
      "\n",
      "Best Epoch: 3, best val accuracy: 0.7580, test accuracy: 0.6956\n",
      "\n",
      "\n",
      "------------------------------------------------------------------------\n",
      "Epoch: 4\n"
     ]
    },
    {
     "output_type": "stream",
     "name": "stderr",
     "text": [
      "Training: 100%|██████████| 86/86 [00:00<00:00, 193.35it/s]\n",
      "Val: 100%|██████████| 11/11 [00:00<00:00, 398.43it/s]\n",
      "Test: 100%|██████████| 11/11 [00:00<00:00, 356.41it/s]\n"
     ]
    },
    {
     "output_type": "stream",
     "name": "stdout",
     "text": [
      "Train loss: 0.5996\n",
      "Val   loss: 0.5602\n",
      "Test  loss: 0.5787\n",
      "\n",
      "Val   Acc: 0.7544\n",
      "Test  Acc: 0.7042\n",
      "\n",
      "Best Epoch: 3, best val accuracy: 0.7580, test accuracy: 0.6956\n",
      "\n",
      "\n",
      "------------------------------------------------------------------------\n",
      "Epoch: 5\n"
     ]
    },
    {
     "output_type": "stream",
     "name": "stderr",
     "text": [
      "Training: 100%|██████████| 86/86 [00:00<00:00, 192.99it/s]\n",
      "Val: 100%|██████████| 11/11 [00:00<00:00, 379.39it/s]\n",
      "Test: 100%|██████████| 11/11 [00:00<00:00, 360.14it/s]\n"
     ]
    },
    {
     "output_type": "stream",
     "name": "stdout",
     "text": [
      "Train loss: 0.5805\n",
      "Val   loss: 0.5433\n",
      "Test  loss: 0.5621\n",
      "\n",
      "Val   Acc: 0.7485\n",
      "Test  Acc: 0.7124\n",
      "\n",
      "Best Epoch: 3, best val accuracy: 0.7580, test accuracy: 0.6956\n",
      "\n",
      "\n",
      "------------------------------------------------------------------------\n",
      "Epoch: 6\n"
     ]
    },
    {
     "output_type": "stream",
     "name": "stderr",
     "text": [
      "Training: 100%|██████████| 86/86 [00:00<00:00, 193.44it/s]\n",
      "Val: 100%|██████████| 11/11 [00:00<00:00, 366.20it/s]\n",
      "Test: 100%|██████████| 11/11 [00:00<00:00, 398.41it/s]\n"
     ]
    },
    {
     "output_type": "stream",
     "name": "stdout",
     "text": [
      "Train loss: 0.5616\n",
      "Val   loss: 0.5278\n",
      "Test  loss: 0.5485\n",
      "\n",
      "Val   Acc: 0.7544\n",
      "Test  Acc: 0.7097\n",
      "\n",
      "Best Epoch: 3, best val accuracy: 0.7580, test accuracy: 0.6956\n",
      "\n",
      "\n",
      "------------------------------------------------------------------------\n",
      "Epoch: 7\n"
     ]
    },
    {
     "output_type": "stream",
     "name": "stderr",
     "text": [
      "Training: 100%|██████████| 86/86 [00:00<00:00, 191.96it/s]\n",
      "Val: 100%|██████████| 11/11 [00:00<00:00, 374.48it/s]\n",
      "Test: 100%|██████████| 11/11 [00:00<00:00, 374.33it/s]\n"
     ]
    },
    {
     "output_type": "stream",
     "name": "stdout",
     "text": [
      "Train loss: 0.5477\n",
      "Val   loss: 0.5174\n",
      "Test  loss: 0.5378\n",
      "\n",
      "Val   Acc: 0.7580\n",
      "Test  Acc: 0.7183\n",
      "\n",
      "Best Epoch: 3, best val accuracy: 0.7580, test accuracy: 0.6956\n",
      "\n",
      "\n",
      "------------------------------------------------------------------------\n",
      "Epoch: 8\n"
     ]
    },
    {
     "output_type": "stream",
     "name": "stderr",
     "text": [
      "Training: 100%|██████████| 86/86 [00:00<00:00, 196.68it/s]\n",
      "Val: 100%|██████████| 11/11 [00:00<00:00, 362.30it/s]\n",
      "Test: 100%|██████████| 11/11 [00:00<00:00, 403.77it/s]\n"
     ]
    },
    {
     "output_type": "stream",
     "name": "stdout",
     "text": [
      "Train loss: 0.5356\n",
      "Val   loss: 0.5075\n",
      "Test  loss: 0.5283\n",
      "\n",
      "Val   Acc: 0.7575\n",
      "Test  Acc: 0.7201\n",
      "\n",
      "Best Epoch: 3, best val accuracy: 0.7580, test accuracy: 0.6956\n",
      "\n",
      "\n",
      "------------------------------------------------------------------------\n",
      "Epoch: 9\n"
     ]
    },
    {
     "output_type": "stream",
     "name": "stderr",
     "text": [
      "Training: 100%|██████████| 86/86 [00:00<00:00, 190.56it/s]\n",
      "Val: 100%|██████████| 11/11 [00:00<00:00, 385.64it/s]\n",
      "Test: 100%|██████████| 11/11 [00:00<00:00, 406.47it/s]\n"
     ]
    },
    {
     "output_type": "stream",
     "name": "stdout",
     "text": [
      "Train loss: 0.5264\n",
      "Val   loss: 0.5018\n",
      "Test  loss: 0.5223\n",
      "\n",
      "Val   Acc: 0.7557\n",
      "Test  Acc: 0.7260\n",
      "\n",
      "Best Epoch: 3, best val accuracy: 0.7580, test accuracy: 0.6956\n",
      "\n",
      "\n",
      "------------------------------------------------------------------------\n",
      "Epoch: 10\n"
     ]
    },
    {
     "output_type": "stream",
     "name": "stderr",
     "text": [
      "Training: 100%|██████████| 86/86 [00:00<00:00, 189.95it/s]\n",
      "Val: 100%|██████████| 11/11 [00:00<00:00, 376.44it/s]\n",
      "Test: 100%|██████████| 11/11 [00:00<00:00, 384.49it/s]\n"
     ]
    },
    {
     "output_type": "stream",
     "name": "stdout",
     "text": [
      "Train loss: 0.5197\n",
      "Val   loss: 0.4965\n",
      "Test  loss: 0.5163\n",
      "\n",
      "Val   Acc: 0.7539\n",
      "Test  Acc: 0.7274\n",
      "\n",
      "Best Epoch: 3, best val accuracy: 0.7580, test accuracy: 0.6956\n",
      "\n",
      "\n",
      "------------------------------------------------------------------------\n",
      "Epoch: 11\n"
     ]
    },
    {
     "output_type": "stream",
     "name": "stderr",
     "text": [
      "Training: 100%|██████████| 86/86 [00:00<00:00, 192.76it/s]\n",
      "Val: 100%|██████████| 11/11 [00:00<00:00, 398.36it/s]\n",
      "Test: 100%|██████████| 11/11 [00:00<00:00, 407.37it/s]\n"
     ]
    },
    {
     "output_type": "stream",
     "name": "stdout",
     "text": [
      "Train loss: 0.5166\n",
      "Val   loss: 0.4929\n",
      "Test  loss: 0.5125\n",
      "\n",
      "Val   Acc: 0.7566\n",
      "Test  Acc: 0.7360\n",
      "\n",
      "Best Epoch: 3, best val accuracy: 0.7580, test accuracy: 0.6956\n",
      "\n",
      "\n",
      "------------------------------------------------------------------------\n",
      "Epoch: 12\n"
     ]
    },
    {
     "output_type": "stream",
     "name": "stderr",
     "text": [
      "Training: 100%|██████████| 86/86 [00:00<00:00, 192.69it/s]\n",
      "Val: 100%|██████████| 11/11 [00:00<00:00, 388.67it/s]\n",
      "Test: 100%|██████████| 11/11 [00:00<00:00, 378.66it/s]\n"
     ]
    },
    {
     "output_type": "stream",
     "name": "stdout",
     "text": [
      "Train loss: 0.5083\n",
      "Val   loss: 0.4903\n",
      "Test  loss: 0.5090\n",
      "\n",
      "Val   Acc: 0.7639\n",
      "Test  Acc: 0.7374\n",
      "\n",
      "Best Epoch: 12, best val accuracy: 0.7639, test accuracy: 0.7374\n",
      "\n",
      "\n",
      "------------------------------------------------------------------------\n",
      "Epoch: 13\n"
     ]
    },
    {
     "output_type": "stream",
     "name": "stderr",
     "text": [
      "Training: 100%|██████████| 86/86 [00:00<00:00, 191.05it/s]\n",
      "Val: 100%|██████████| 11/11 [00:00<00:00, 401.85it/s]\n",
      "Test: 100%|██████████| 11/11 [00:00<00:00, 375.46it/s]\n"
     ]
    },
    {
     "output_type": "stream",
     "name": "stdout",
     "text": [
      "Train loss: 0.5001\n",
      "Val   loss: 0.4870\n",
      "Test  loss: 0.5054\n",
      "\n",
      "Val   Acc: 0.7684\n",
      "Test  Acc: 0.7406\n",
      "\n",
      "Best Epoch: 13, best val accuracy: 0.7684, test accuracy: 0.7406\n",
      "\n",
      "\n",
      "------------------------------------------------------------------------\n",
      "Epoch: 14\n"
     ]
    },
    {
     "output_type": "stream",
     "name": "stderr",
     "text": [
      "Training: 100%|██████████| 86/86 [00:00<00:00, 191.50it/s]\n",
      "Val: 100%|██████████| 11/11 [00:00<00:00, 405.33it/s]\n",
      "Test: 100%|██████████| 11/11 [00:00<00:00, 386.51it/s]\n"
     ]
    },
    {
     "output_type": "stream",
     "name": "stdout",
     "text": [
      "Train loss: 0.4959\n",
      "Val   loss: 0.4846\n",
      "Test  loss: 0.5021\n",
      "\n",
      "Val   Acc: 0.7652\n",
      "Test  Acc: 0.7424\n",
      "\n",
      "Best Epoch: 13, best val accuracy: 0.7684, test accuracy: 0.7406\n",
      "\n",
      "\n",
      "------------------------------------------------------------------------\n",
      "Epoch: 15\n"
     ]
    },
    {
     "output_type": "stream",
     "name": "stderr",
     "text": [
      "Training: 100%|██████████| 86/86 [00:00<00:00, 192.03it/s]\n",
      "Val: 100%|██████████| 11/11 [00:00<00:00, 392.07it/s]\n",
      "Test: 100%|██████████| 11/11 [00:00<00:00, 379.53it/s]\n"
     ]
    },
    {
     "output_type": "stream",
     "name": "stdout",
     "text": [
      "Train loss: 0.4906\n",
      "Val   loss: 0.4828\n",
      "Test  loss: 0.4999\n",
      "\n",
      "Val   Acc: 0.7648\n",
      "Test  Acc: 0.7383\n",
      "\n",
      "Best Epoch: 13, best val accuracy: 0.7684, test accuracy: 0.7406\n",
      "\n",
      "\n",
      "------------------------------------------------------------------------\n",
      "Epoch: 16\n"
     ]
    },
    {
     "output_type": "stream",
     "name": "stderr",
     "text": [
      "Training: 100%|██████████| 86/86 [00:00<00:00, 192.47it/s]\n",
      "Val: 100%|██████████| 11/11 [00:00<00:00, 380.53it/s]\n",
      "Test: 100%|██████████| 11/11 [00:00<00:00, 413.04it/s]\n"
     ]
    },
    {
     "output_type": "stream",
     "name": "stdout",
     "text": [
      "Train loss: 0.4865\n",
      "Val   loss: 0.4800\n",
      "Test  loss: 0.4968\n",
      "\n",
      "Val   Acc: 0.7648\n",
      "Test  Acc: 0.7401\n",
      "\n",
      "Best Epoch: 13, best val accuracy: 0.7684, test accuracy: 0.7406\n",
      "\n",
      "\n",
      "------------------------------------------------------------------------\n",
      "Epoch: 17\n"
     ]
    },
    {
     "output_type": "stream",
     "name": "stderr",
     "text": [
      "Training: 100%|██████████| 86/86 [00:00<00:00, 192.99it/s]\n",
      "Val: 100%|██████████| 11/11 [00:00<00:00, 389.50it/s]\n",
      "Test: 100%|██████████| 11/11 [00:00<00:00, 353.22it/s]\n"
     ]
    },
    {
     "output_type": "stream",
     "name": "stdout",
     "text": [
      "Train loss: 0.4846\n",
      "Val   loss: 0.4790\n",
      "Test  loss: 0.4943\n",
      "\n",
      "Val   Acc: 0.7629\n",
      "Test  Acc: 0.7429\n",
      "\n",
      "Best Epoch: 13, best val accuracy: 0.7684, test accuracy: 0.7406\n",
      "\n",
      "\n",
      "------------------------------------------------------------------------\n",
      "Epoch: 18\n"
     ]
    },
    {
     "output_type": "stream",
     "name": "stderr",
     "text": [
      "Training: 100%|██████████| 86/86 [00:00<00:00, 191.56it/s]\n",
      "Val: 100%|██████████| 11/11 [00:00<00:00, 363.51it/s]\n",
      "Test: 100%|██████████| 11/11 [00:00<00:00, 368.12it/s]\n"
     ]
    },
    {
     "output_type": "stream",
     "name": "stdout",
     "text": [
      "Train loss: 0.4793\n",
      "Val   loss: 0.4777\n",
      "Test  loss: 0.4915\n",
      "\n",
      "Val   Acc: 0.7611\n",
      "Test  Acc: 0.7465\n",
      "\n",
      "Best Epoch: 13, best val accuracy: 0.7684, test accuracy: 0.7406\n",
      "\n",
      "\n",
      "------------------------------------------------------------------------\n",
      "Epoch: 19\n"
     ]
    },
    {
     "output_type": "stream",
     "name": "stderr",
     "text": [
      "Training: 100%|██████████| 86/86 [00:00<00:00, 189.13it/s]\n",
      "Val: 100%|██████████| 11/11 [00:00<00:00, 389.31it/s]\n",
      "Test: 100%|██████████| 11/11 [00:00<00:00, 356.02it/s]\n"
     ]
    },
    {
     "output_type": "stream",
     "name": "stdout",
     "text": [
      "Train loss: 0.4795\n",
      "Val   loss: 0.4745\n",
      "Test  loss: 0.4892\n",
      "\n",
      "Val   Acc: 0.7662\n",
      "Test  Acc: 0.7501\n",
      "\n",
      "Best Epoch: 13, best val accuracy: 0.7684, test accuracy: 0.7406\n",
      "\n",
      "\n",
      "------------------------------------------------------------------------\n",
      "Epoch: 20\n"
     ]
    },
    {
     "output_type": "stream",
     "name": "stderr",
     "text": [
      "Training: 100%|██████████| 86/86 [00:00<00:00, 191.66it/s]\n",
      "Val: 100%|██████████| 11/11 [00:00<00:00, 381.34it/s]\n",
      "Test: 100%|██████████| 11/11 [00:00<00:00, 386.43it/s]\n"
     ]
    },
    {
     "output_type": "stream",
     "name": "stdout",
     "text": [
      "Train loss: 0.4754\n",
      "Val   loss: 0.4759\n",
      "Test  loss: 0.4877\n",
      "\n",
      "Val   Acc: 0.7602\n",
      "Test  Acc: 0.7438\n",
      "\n",
      "Best Epoch: 13, best val accuracy: 0.7684, test accuracy: 0.7406\n",
      "\n",
      "\n",
      "------------------------------------------------------------------------\n",
      "Epoch: 21\n"
     ]
    },
    {
     "output_type": "stream",
     "name": "stderr",
     "text": [
      "Training: 100%|██████████| 86/86 [00:00<00:00, 189.45it/s]\n",
      "Val: 100%|██████████| 11/11 [00:00<00:00, 398.67it/s]\n",
      "Test: 100%|██████████| 11/11 [00:00<00:00, 365.17it/s]\n"
     ]
    },
    {
     "output_type": "stream",
     "name": "stdout",
     "text": [
      "Train loss: 0.4720\n",
      "Val   loss: 0.4749\n",
      "Test  loss: 0.4865\n",
      "\n",
      "Val   Acc: 0.7593\n",
      "Test  Acc: 0.7456\n",
      "\n",
      "Best Epoch: 13, best val accuracy: 0.7684, test accuracy: 0.7406\n",
      "\n",
      "\n",
      "------------------------------------------------------------------------\n",
      "Epoch: 22\n"
     ]
    },
    {
     "output_type": "stream",
     "name": "stderr",
     "text": [
      "Training: 100%|██████████| 86/86 [00:00<00:00, 190.51it/s]\n",
      "Val: 100%|██████████| 11/11 [00:00<00:00, 366.15it/s]\n",
      "Test: 100%|██████████| 11/11 [00:00<00:00, 393.23it/s]\n"
     ]
    },
    {
     "output_type": "stream",
     "name": "stdout",
     "text": [
      "Train loss: 0.4666\n",
      "Val   loss: 0.4729\n",
      "Test  loss: 0.4852\n",
      "\n",
      "Val   Acc: 0.7666\n",
      "Test  Acc: 0.7479\n",
      "\n",
      "Best Epoch: 13, best val accuracy: 0.7684, test accuracy: 0.7406\n",
      "\n",
      "\n",
      "------------------------------------------------------------------------\n",
      "Epoch: 23\n"
     ]
    },
    {
     "output_type": "stream",
     "name": "stderr",
     "text": [
      "Training: 100%|██████████| 86/86 [00:00<00:00, 190.04it/s]\n",
      "Val: 100%|██████████| 11/11 [00:00<00:00, 359.48it/s]\n",
      "Test: 100%|██████████| 11/11 [00:00<00:00, 378.67it/s]\n"
     ]
    },
    {
     "output_type": "stream",
     "name": "stdout",
     "text": [
      "Train loss: 0.4599\n",
      "Val   loss: 0.4710\n",
      "Test  loss: 0.4832\n",
      "\n",
      "Val   Acc: 0.7630\n",
      "Test  Acc: 0.7510\n",
      "\n",
      "Best Epoch: 13, best val accuracy: 0.7684, test accuracy: 0.7406\n",
      "\n",
      "\n",
      "------------------------------------------------------------------------\n",
      "Epoch: 24\n"
     ]
    },
    {
     "output_type": "stream",
     "name": "stderr",
     "text": [
      "Training: 100%|██████████| 86/86 [00:00<00:00, 188.34it/s]\n",
      "Val: 100%|██████████| 11/11 [00:00<00:00, 377.20it/s]\n",
      "Test: 100%|██████████| 11/11 [00:00<00:00, 367.46it/s]\n"
     ]
    },
    {
     "output_type": "stream",
     "name": "stdout",
     "text": [
      "Train loss: 0.4551\n",
      "Val   loss: 0.4702\n",
      "Test  loss: 0.4814\n",
      "\n",
      "Val   Acc: 0.7612\n",
      "Test  Acc: 0.7501\n",
      "\n",
      "Best Epoch: 13, best val accuracy: 0.7684, test accuracy: 0.7406\n",
      "\n",
      "\n",
      "------------------------------------------------------------------------\n",
      "Epoch: 25\n"
     ]
    },
    {
     "output_type": "stream",
     "name": "stderr",
     "text": [
      "Training: 100%|██████████| 86/86 [00:00<00:00, 187.78it/s]\n",
      "Val: 100%|██████████| 11/11 [00:00<00:00, 391.06it/s]\n",
      "Test: 100%|██████████| 11/11 [00:00<00:00, 375.44it/s]\n"
     ]
    },
    {
     "output_type": "stream",
     "name": "stdout",
     "text": [
      "Train loss: 0.4606\n",
      "Val   loss: 0.4699\n",
      "Test  loss: 0.4803\n",
      "\n",
      "Val   Acc: 0.7630\n",
      "Test  Acc: 0.7556\n",
      "\n",
      "Best Epoch: 13, best val accuracy: 0.7684, test accuracy: 0.7406\n",
      "\n",
      "\n",
      "------------------------------------------------------------------------\n",
      "Epoch: 26\n"
     ]
    },
    {
     "output_type": "stream",
     "name": "stderr",
     "text": [
      "Training: 100%|██████████| 86/86 [00:00<00:00, 190.69it/s]\n",
      "Val: 100%|██████████| 11/11 [00:00<00:00, 391.70it/s]\n",
      "Test: 100%|██████████| 11/11 [00:00<00:00, 362.43it/s]\n"
     ]
    },
    {
     "output_type": "stream",
     "name": "stdout",
     "text": [
      "Train loss: 0.4489\n",
      "Val   loss: 0.4665\n",
      "Test  loss: 0.4791\n",
      "\n",
      "Val   Acc: 0.7707\n",
      "Test  Acc: 0.7533\n",
      "\n",
      "Best Epoch: 26, best val accuracy: 0.7707, test accuracy: 0.7533\n",
      "\n",
      "\n",
      "------------------------------------------------------------------------\n",
      "Epoch: 27\n"
     ]
    },
    {
     "output_type": "stream",
     "name": "stderr",
     "text": [
      "Training: 100%|██████████| 86/86 [00:00<00:00, 186.11it/s]\n",
      "Val: 100%|██████████| 11/11 [00:00<00:00, 397.52it/s]\n",
      "Test: 100%|██████████| 11/11 [00:00<00:00, 407.93it/s]\n"
     ]
    },
    {
     "output_type": "stream",
     "name": "stdout",
     "text": [
      "Train loss: 0.4587\n",
      "Val   loss: 0.4662\n",
      "Test  loss: 0.4780\n",
      "\n",
      "Val   Acc: 0.7685\n",
      "Test  Acc: 0.7574\n",
      "\n",
      "Best Epoch: 26, best val accuracy: 0.7707, test accuracy: 0.7533\n",
      "\n",
      "\n",
      "------------------------------------------------------------------------\n",
      "Epoch: 28\n"
     ]
    },
    {
     "output_type": "stream",
     "name": "stderr",
     "text": [
      "Training: 100%|██████████| 86/86 [00:00<00:00, 190.84it/s]\n",
      "Val: 100%|██████████| 11/11 [00:00<00:00, 386.06it/s]\n",
      "Test: 100%|██████████| 11/11 [00:00<00:00, 352.36it/s]\n"
     ]
    },
    {
     "output_type": "stream",
     "name": "stdout",
     "text": [
      "Train loss: 0.4422\n",
      "Val   loss: 0.4658\n",
      "Test  loss: 0.4772\n",
      "\n",
      "Val   Acc: 0.7689\n",
      "Test  Acc: 0.7583\n",
      "\n",
      "Best Epoch: 26, best val accuracy: 0.7707, test accuracy: 0.7533\n",
      "\n",
      "\n",
      "------------------------------------------------------------------------\n",
      "Epoch: 29\n"
     ]
    },
    {
     "output_type": "stream",
     "name": "stderr",
     "text": [
      "Training: 100%|██████████| 86/86 [00:00<00:00, 185.58it/s]\n",
      "Val: 100%|██████████| 11/11 [00:00<00:00, 365.85it/s]\n",
      "Test: 100%|██████████| 11/11 [00:00<00:00, 312.15it/s]\n"
     ]
    },
    {
     "output_type": "stream",
     "name": "stdout",
     "text": [
      "Train loss: 0.4456\n",
      "Val   loss: 0.4654\n",
      "Test  loss: 0.4768\n",
      "\n",
      "Val   Acc: 0.7680\n",
      "Test  Acc: 0.7592\n",
      "\n",
      "Best Epoch: 26, best val accuracy: 0.7707, test accuracy: 0.7533\n",
      "\n",
      "\n",
      "------------------------------------------------------------------------\n",
      "Epoch: 30\n"
     ]
    },
    {
     "output_type": "stream",
     "name": "stderr",
     "text": [
      "Training: 100%|██████████| 86/86 [00:00<00:00, 190.81it/s]\n",
      "Val: 100%|██████████| 11/11 [00:00<00:00, 370.94it/s]\n",
      "Test: 100%|██████████| 11/11 [00:00<00:00, 373.54it/s]\n"
     ]
    },
    {
     "output_type": "stream",
     "name": "stdout",
     "text": [
      "Train loss: 0.4406\n",
      "Val   loss: 0.4632\n",
      "Test  loss: 0.4757\n",
      "\n",
      "Val   Acc: 0.7726\n",
      "Test  Acc: 0.7624\n",
      "\n",
      "Best Epoch: 30, best val accuracy: 0.7726, test accuracy: 0.7624\n",
      "\n",
      "\n",
      "------------------------------------------------------------------------\n",
      "Epoch: 31\n"
     ]
    },
    {
     "output_type": "stream",
     "name": "stderr",
     "text": [
      "Training: 100%|██████████| 86/86 [00:00<00:00, 190.69it/s]\n",
      "Val: 100%|██████████| 11/11 [00:00<00:00, 385.30it/s]\n",
      "Test: 100%|██████████| 11/11 [00:00<00:00, 411.48it/s]\n"
     ]
    },
    {
     "output_type": "stream",
     "name": "stdout",
     "text": [
      "Train loss: 0.4396\n",
      "Val   loss: 0.4619\n",
      "Test  loss: 0.4754\n",
      "\n",
      "Val   Acc: 0.7785\n",
      "Test  Acc: 0.7642\n",
      "\n",
      "Best Epoch: 31, best val accuracy: 0.7785, test accuracy: 0.7642\n",
      "\n",
      "\n",
      "------------------------------------------------------------------------\n",
      "Epoch: 32\n"
     ]
    },
    {
     "output_type": "stream",
     "name": "stderr",
     "text": [
      "Training: 100%|██████████| 86/86 [00:00<00:00, 186.19it/s]\n",
      "Val: 100%|██████████| 11/11 [00:00<00:00, 382.69it/s]\n",
      "Test: 100%|██████████| 11/11 [00:00<00:00, 419.64it/s]\n"
     ]
    },
    {
     "output_type": "stream",
     "name": "stdout",
     "text": [
      "Train loss: 0.4383\n",
      "Val   loss: 0.4623\n",
      "Test  loss: 0.4742\n",
      "\n",
      "Val   Acc: 0.7762\n",
      "Test  Acc: 0.7633\n",
      "\n",
      "Best Epoch: 31, best val accuracy: 0.7785, test accuracy: 0.7642\n",
      "\n",
      "\n",
      "------------------------------------------------------------------------\n",
      "Epoch: 33\n"
     ]
    },
    {
     "output_type": "stream",
     "name": "stderr",
     "text": [
      "Training: 100%|██████████| 86/86 [00:00<00:00, 188.75it/s]\n",
      "Val: 100%|██████████| 11/11 [00:00<00:00, 385.88it/s]\n",
      "Test: 100%|██████████| 11/11 [00:00<00:00, 394.28it/s]\n"
     ]
    },
    {
     "output_type": "stream",
     "name": "stdout",
     "text": [
      "Train loss: 0.4335\n",
      "Val   loss: 0.4621\n",
      "Test  loss: 0.4736\n",
      "\n",
      "Val   Acc: 0.7831\n",
      "Test  Acc: 0.7669\n",
      "\n",
      "Best Epoch: 33, best val accuracy: 0.7831, test accuracy: 0.7669\n",
      "\n",
      "\n",
      "------------------------------------------------------------------------\n",
      "Epoch: 34\n"
     ]
    },
    {
     "output_type": "stream",
     "name": "stderr",
     "text": [
      "Training: 100%|██████████| 86/86 [00:00<00:00, 187.48it/s]\n",
      "Val: 100%|██████████| 11/11 [00:00<00:00, 377.61it/s]\n",
      "Test: 100%|██████████| 11/11 [00:00<00:00, 394.82it/s]\n"
     ]
    },
    {
     "output_type": "stream",
     "name": "stdout",
     "text": [
      "Train loss: 0.4262\n",
      "Val   loss: 0.4605\n",
      "Test  loss: 0.4737\n",
      "\n",
      "Val   Acc: 0.7821\n",
      "Test  Acc: 0.7615\n",
      "\n",
      "Best Epoch: 33, best val accuracy: 0.7831, test accuracy: 0.7669\n",
      "\n",
      "\n",
      "------------------------------------------------------------------------\n",
      "Epoch: 35\n"
     ]
    },
    {
     "output_type": "stream",
     "name": "stderr",
     "text": [
      "Training: 100%|██████████| 86/86 [00:00<00:00, 187.89it/s]\n",
      "Val: 100%|██████████| 11/11 [00:00<00:00, 363.40it/s]\n",
      "Test: 100%|██████████| 11/11 [00:00<00:00, 373.81it/s]\n"
     ]
    },
    {
     "output_type": "stream",
     "name": "stdout",
     "text": [
      "Train loss: 0.4262\n",
      "Val   loss: 0.4588\n",
      "Test  loss: 0.4731\n",
      "\n",
      "Val   Acc: 0.7776\n",
      "Test  Acc: 0.7683\n",
      "\n",
      "Best Epoch: 33, best val accuracy: 0.7831, test accuracy: 0.7669\n",
      "\n",
      "\n",
      "------------------------------------------------------------------------\n",
      "Epoch: 36\n"
     ]
    },
    {
     "output_type": "stream",
     "name": "stderr",
     "text": [
      "Training: 100%|██████████| 86/86 [00:00<00:00, 190.09it/s]\n",
      "Val: 100%|██████████| 11/11 [00:00<00:00, 399.19it/s]\n",
      "Test: 100%|██████████| 11/11 [00:00<00:00, 382.50it/s]\n"
     ]
    },
    {
     "output_type": "stream",
     "name": "stdout",
     "text": [
      "Train loss: 0.4168\n",
      "Val   loss: 0.4593\n",
      "Test  loss: 0.4732\n",
      "\n",
      "Val   Acc: 0.7762\n",
      "Test  Acc: 0.7615\n",
      "\n",
      "Best Epoch: 33, best val accuracy: 0.7831, test accuracy: 0.7669\n",
      "\n",
      "\n",
      "------------------------------------------------------------------------\n",
      "Epoch: 37\n"
     ]
    },
    {
     "output_type": "stream",
     "name": "stderr",
     "text": [
      "Training: 100%|██████████| 86/86 [00:00<00:00, 190.09it/s]\n",
      "Val: 100%|██████████| 11/11 [00:00<00:00, 386.10it/s]\n",
      "Test: 100%|██████████| 11/11 [00:00<00:00, 379.19it/s]\n"
     ]
    },
    {
     "output_type": "stream",
     "name": "stdout",
     "text": [
      "Train loss: 0.4234\n",
      "Val   loss: 0.4577\n",
      "Test  loss: 0.4715\n",
      "\n",
      "Val   Acc: 0.7812\n",
      "Test  Acc: 0.7669\n",
      "\n",
      "Best Epoch: 33, best val accuracy: 0.7831, test accuracy: 0.7669\n",
      "\n",
      "\n",
      "------------------------------------------------------------------------\n",
      "Epoch: 38\n"
     ]
    },
    {
     "output_type": "stream",
     "name": "stderr",
     "text": [
      "Training: 100%|██████████| 86/86 [00:00<00:00, 191.02it/s]\n",
      "Val: 100%|██████████| 11/11 [00:00<00:00, 364.01it/s]\n",
      "Test: 100%|██████████| 11/11 [00:00<00:00, 375.65it/s]\n"
     ]
    },
    {
     "output_type": "stream",
     "name": "stdout",
     "text": [
      "Train loss: 0.4151\n",
      "Val   loss: 0.4574\n",
      "Test  loss: 0.4712\n",
      "\n",
      "Val   Acc: 0.7831\n",
      "Test  Acc: 0.7656\n",
      "\n",
      "Best Epoch: 33, best val accuracy: 0.7831, test accuracy: 0.7669\n",
      "\n",
      "\n",
      "------------------------------------------------------------------------\n",
      "Epoch: 39\n"
     ]
    },
    {
     "output_type": "stream",
     "name": "stderr",
     "text": [
      "Training: 100%|██████████| 86/86 [00:00<00:00, 173.93it/s]\n",
      "Val: 100%|██████████| 11/11 [00:00<00:00, 328.99it/s]\n",
      "Test: 100%|██████████| 11/11 [00:00<00:00, 339.35it/s]\n"
     ]
    },
    {
     "output_type": "stream",
     "name": "stdout",
     "text": [
      "Train loss: 0.4164\n",
      "Val   loss: 0.4580\n",
      "Test  loss: 0.4697\n",
      "\n",
      "Val   Acc: 0.7844\n",
      "Test  Acc: 0.7683\n",
      "\n",
      "Best Epoch: 39, best val accuracy: 0.7844, test accuracy: 0.7683\n",
      "\n",
      "\n",
      "------------------------------------------------------------------------\n",
      "Epoch: 40\n"
     ]
    },
    {
     "output_type": "stream",
     "name": "stderr",
     "text": [
      "Training: 100%|██████████| 86/86 [00:00<00:00, 180.38it/s]\n",
      "Val: 100%|██████████| 11/11 [00:00<00:00, 289.91it/s]\n",
      "Test: 100%|██████████| 11/11 [00:00<00:00, 311.44it/s]\n"
     ]
    },
    {
     "output_type": "stream",
     "name": "stdout",
     "text": [
      "Train loss: 0.4083\n",
      "Val   loss: 0.4557\n",
      "Test  loss: 0.4680\n",
      "\n",
      "Val   Acc: 0.7821\n",
      "Test  Acc: 0.7715\n",
      "\n",
      "Best Epoch: 39, best val accuracy: 0.7844, test accuracy: 0.7683\n",
      "\n",
      "\n",
      "------------------------------------------------------------------------\n",
      "Epoch: 41\n"
     ]
    },
    {
     "output_type": "stream",
     "name": "stderr",
     "text": [
      "Training: 100%|██████████| 86/86 [00:00<00:00, 178.65it/s]\n",
      "Val: 100%|██████████| 11/11 [00:00<00:00, 286.12it/s]\n",
      "Test: 100%|██████████| 11/11 [00:00<00:00, 328.10it/s]\n"
     ]
    },
    {
     "output_type": "stream",
     "name": "stdout",
     "text": [
      "Train loss: 0.4161\n",
      "Val   loss: 0.4566\n",
      "Test  loss: 0.4685\n",
      "\n",
      "Val   Acc: 0.7858\n",
      "Test  Acc: 0.7688\n",
      "\n",
      "Best Epoch: 41, best val accuracy: 0.7858, test accuracy: 0.7688\n",
      "\n",
      "\n",
      "------------------------------------------------------------------------\n",
      "Epoch: 42\n"
     ]
    },
    {
     "output_type": "stream",
     "name": "stderr",
     "text": [
      "Training: 100%|██████████| 86/86 [00:00<00:00, 178.57it/s]\n",
      "Val: 100%|██████████| 11/11 [00:00<00:00, 322.40it/s]\n",
      "Test: 100%|██████████| 11/11 [00:00<00:00, 324.70it/s]\n"
     ]
    },
    {
     "output_type": "stream",
     "name": "stdout",
     "text": [
      "Train loss: 0.4126\n",
      "Val   loss: 0.4552\n",
      "Test  loss: 0.4680\n",
      "\n",
      "Val   Acc: 0.7908\n",
      "Test  Acc: 0.7710\n",
      "\n",
      "Best Epoch: 42, best val accuracy: 0.7908, test accuracy: 0.7710\n",
      "\n",
      "\n",
      "------------------------------------------------------------------------\n",
      "Epoch: 43\n"
     ]
    },
    {
     "output_type": "stream",
     "name": "stderr",
     "text": [
      "Training: 100%|██████████| 86/86 [00:00<00:00, 186.89it/s]\n",
      "Val: 100%|██████████| 11/11 [00:00<00:00, 355.88it/s]\n",
      "Test: 100%|██████████| 11/11 [00:00<00:00, 380.06it/s]\n"
     ]
    },
    {
     "output_type": "stream",
     "name": "stdout",
     "text": [
      "Train loss: 0.4011\n",
      "Val   loss: 0.4535\n",
      "Test  loss: 0.4666\n",
      "\n",
      "Val   Acc: 0.7858\n",
      "Test  Acc: 0.7756\n",
      "\n",
      "Best Epoch: 42, best val accuracy: 0.7908, test accuracy: 0.7710\n",
      "\n",
      "\n",
      "------------------------------------------------------------------------\n",
      "Epoch: 44\n"
     ]
    },
    {
     "output_type": "stream",
     "name": "stderr",
     "text": [
      "Training: 100%|██████████| 86/86 [00:00<00:00, 188.44it/s]\n",
      "Val: 100%|██████████| 11/11 [00:00<00:00, 365.38it/s]\n",
      "Test: 100%|██████████| 11/11 [00:00<00:00, 375.09it/s]\n"
     ]
    },
    {
     "output_type": "stream",
     "name": "stdout",
     "text": [
      "Train loss: 0.4004\n",
      "Val   loss: 0.4522\n",
      "Test  loss: 0.4669\n",
      "\n",
      "Val   Acc: 0.7863\n",
      "Test  Acc: 0.7774\n",
      "\n",
      "Best Epoch: 42, best val accuracy: 0.7908, test accuracy: 0.7710\n",
      "\n",
      "\n",
      "------------------------------------------------------------------------\n",
      "Epoch: 45\n"
     ]
    },
    {
     "output_type": "stream",
     "name": "stderr",
     "text": [
      "Training: 100%|██████████| 86/86 [00:00<00:00, 190.32it/s]\n",
      "Val: 100%|██████████| 11/11 [00:00<00:00, 388.89it/s]\n",
      "Test: 100%|██████████| 11/11 [00:00<00:00, 395.50it/s]\n"
     ]
    },
    {
     "output_type": "stream",
     "name": "stdout",
     "text": [
      "Train loss: 0.3985\n",
      "Val   loss: 0.4537\n",
      "Test  loss: 0.4660\n",
      "\n",
      "Val   Acc: 0.7849\n",
      "Test  Acc: 0.7774\n",
      "\n",
      "Best Epoch: 42, best val accuracy: 0.7908, test accuracy: 0.7710\n",
      "\n",
      "\n",
      "------------------------------------------------------------------------\n",
      "Epoch: 46\n"
     ]
    },
    {
     "output_type": "stream",
     "name": "stderr",
     "text": [
      "Training: 100%|██████████| 86/86 [00:00<00:00, 187.32it/s]\n",
      "Val: 100%|██████████| 11/11 [00:00<00:00, 384.17it/s]\n",
      "Test: 100%|██████████| 11/11 [00:00<00:00, 394.31it/s]\n"
     ]
    },
    {
     "output_type": "stream",
     "name": "stdout",
     "text": [
      "Train loss: 0.3885\n",
      "Val   loss: 0.4516\n",
      "Test  loss: 0.4651\n",
      "\n",
      "Val   Acc: 0.7835\n",
      "Test  Acc: 0.7833\n",
      "\n",
      "Best Epoch: 42, best val accuracy: 0.7908, test accuracy: 0.7710\n",
      "\n",
      "\n",
      "------------------------------------------------------------------------\n",
      "Epoch: 47\n"
     ]
    },
    {
     "output_type": "stream",
     "name": "stderr",
     "text": [
      "Training: 100%|██████████| 86/86 [00:00<00:00, 191.54it/s]\n",
      "Val: 100%|██████████| 11/11 [00:00<00:00, 373.64it/s]\n",
      "Test: 100%|██████████| 11/11 [00:00<00:00, 387.36it/s]\n"
     ]
    },
    {
     "output_type": "stream",
     "name": "stdout",
     "text": [
      "Train loss: 0.3887\n",
      "Val   loss: 0.4523\n",
      "Test  loss: 0.4655\n",
      "\n",
      "Val   Acc: 0.7826\n",
      "Test  Acc: 0.7815\n",
      "\n",
      "Best Epoch: 42, best val accuracy: 0.7908, test accuracy: 0.7710\n",
      "\n",
      "\n",
      "------------------------------------------------------------------------\n",
      "Epoch: 48\n"
     ]
    },
    {
     "output_type": "stream",
     "name": "stderr",
     "text": [
      "Training: 100%|██████████| 86/86 [00:00<00:00, 188.97it/s]\n",
      "Val: 100%|██████████| 11/11 [00:00<00:00, 377.61it/s]\n",
      "Test: 100%|██████████| 11/11 [00:00<00:00, 384.94it/s]\n"
     ]
    },
    {
     "output_type": "stream",
     "name": "stdout",
     "text": [
      "Train loss: 0.3853\n",
      "Val   loss: 0.4564\n",
      "Test  loss: 0.4663\n",
      "\n",
      "Val   Acc: 0.7763\n",
      "Test  Acc: 0.7737\n",
      "\n",
      "Best Epoch: 42, best val accuracy: 0.7908, test accuracy: 0.7710\n",
      "\n",
      "\n",
      "------------------------------------------------------------------------\n",
      "Epoch: 49\n"
     ]
    },
    {
     "output_type": "stream",
     "name": "stderr",
     "text": [
      "Training: 100%|██████████| 86/86 [00:00<00:00, 187.94it/s]\n",
      "Val: 100%|██████████| 11/11 [00:00<00:00, 370.14it/s]\n",
      "Test: 100%|██████████| 11/11 [00:00<00:00, 372.28it/s]\n"
     ]
    },
    {
     "output_type": "stream",
     "name": "stdout",
     "text": [
      "Train loss: 0.3832\n",
      "Val   loss: 0.4536\n",
      "Test  loss: 0.4641\n",
      "\n",
      "Val   Acc: 0.7849\n",
      "Test  Acc: 0.7828\n",
      "\n",
      "Best Epoch: 42, best val accuracy: 0.7908, test accuracy: 0.7710\n",
      "\n",
      "\n",
      "------------------------------------------------------------------------\n",
      "Epoch: 50\n"
     ]
    },
    {
     "output_type": "stream",
     "name": "stderr",
     "text": [
      "Training: 100%|██████████| 86/86 [00:00<00:00, 190.11it/s]\n",
      "Val: 100%|██████████| 11/11 [00:00<00:00, 397.66it/s]\n",
      "Test: 100%|██████████| 11/11 [00:00<00:00, 369.69it/s]\n"
     ]
    },
    {
     "output_type": "stream",
     "name": "stdout",
     "text": [
      "Train loss: 0.3832\n",
      "Val   loss: 0.4538\n",
      "Test  loss: 0.4640\n",
      "\n",
      "Val   Acc: 0.7835\n",
      "Test  Acc: 0.7783\n",
      "\n",
      "Best Epoch: 42, best val accuracy: 0.7908, test accuracy: 0.7710\n",
      "\n",
      "\n",
      "------------------------------------------------------------------------\n",
      "Epoch: 51\n"
     ]
    },
    {
     "output_type": "stream",
     "name": "stderr",
     "text": [
      "Training: 100%|██████████| 86/86 [00:00<00:00, 185.94it/s]\n",
      "Val: 100%|██████████| 11/11 [00:00<00:00, 367.96it/s]\n",
      "Test: 100%|██████████| 11/11 [00:00<00:00, 353.26it/s]\n"
     ]
    },
    {
     "output_type": "stream",
     "name": "stdout",
     "text": [
      "Train loss: 0.3712\n",
      "Val   loss: 0.4529\n",
      "Test  loss: 0.4643\n",
      "\n",
      "Val   Acc: 0.7840\n",
      "Test  Acc: 0.7792\n",
      "\n",
      "Best Epoch: 42, best val accuracy: 0.7908, test accuracy: 0.7710\n",
      "\n",
      "\n",
      "------------------------------------------------------------------------\n",
      "Epoch: 52\n"
     ]
    },
    {
     "output_type": "stream",
     "name": "stderr",
     "text": [
      "Training: 100%|██████████| 86/86 [00:00<00:00, 189.29it/s]\n",
      "Val: 100%|██████████| 11/11 [00:00<00:00, 374.87it/s]\n",
      "Test: 100%|██████████| 11/11 [00:00<00:00, 392.12it/s]\n"
     ]
    },
    {
     "output_type": "stream",
     "name": "stdout",
     "text": [
      "Train loss: 0.3755\n",
      "Val   loss: 0.4505\n",
      "Test  loss: 0.4636\n",
      "\n",
      "Val   Acc: 0.7835\n",
      "Test  Acc: 0.7724\n",
      "\n",
      "Best Epoch: 42, best val accuracy: 0.7908, test accuracy: 0.7710\n",
      "\n",
      "\n",
      "------------------------------------------------------------------------\n",
      "Epoch: 53\n"
     ]
    },
    {
     "output_type": "stream",
     "name": "stderr",
     "text": [
      "Training: 100%|██████████| 86/86 [00:00<00:00, 188.62it/s]\n",
      "Val: 100%|██████████| 11/11 [00:00<00:00, 349.63it/s]\n",
      "Test: 100%|██████████| 11/11 [00:00<00:00, 409.84it/s]\n"
     ]
    },
    {
     "output_type": "stream",
     "name": "stdout",
     "text": [
      "Train loss: 0.3702\n",
      "Val   loss: 0.4503\n",
      "Test  loss: 0.4632\n",
      "\n",
      "Val   Acc: 0.7849\n",
      "Test  Acc: 0.7765\n",
      "\n",
      "Best Epoch: 42, best val accuracy: 0.7908, test accuracy: 0.7710\n",
      "\n",
      "\n",
      "------------------------------------------------------------------------\n",
      "Epoch: 54\n"
     ]
    },
    {
     "output_type": "stream",
     "name": "stderr",
     "text": [
      "Training: 100%|██████████| 86/86 [00:00<00:00, 187.40it/s]\n",
      "Val: 100%|██████████| 11/11 [00:00<00:00, 372.07it/s]\n",
      "Test: 100%|██████████| 11/11 [00:00<00:00, 388.03it/s]\n"
     ]
    },
    {
     "output_type": "stream",
     "name": "stdout",
     "text": [
      "Train loss: 0.3663\n",
      "Val   loss: 0.4534\n",
      "Test  loss: 0.4633\n",
      "\n",
      "Val   Acc: 0.7804\n",
      "Test  Acc: 0.7719\n",
      "\n",
      "Best Epoch: 42, best val accuracy: 0.7908, test accuracy: 0.7710\n",
      "\n",
      "\n",
      "------------------------------------------------------------------------\n",
      "Epoch: 55\n"
     ]
    },
    {
     "output_type": "stream",
     "name": "stderr",
     "text": [
      "Training: 100%|██████████| 86/86 [00:00<00:00, 188.60it/s]\n",
      "Val: 100%|██████████| 11/11 [00:00<00:00, 363.41it/s]\n",
      "Test: 100%|██████████| 11/11 [00:00<00:00, 366.16it/s]\n"
     ]
    },
    {
     "output_type": "stream",
     "name": "stdout",
     "text": [
      "Train loss: 0.3654\n",
      "Val   loss: 0.4522\n",
      "Test  loss: 0.4625\n",
      "\n",
      "Val   Acc: 0.7785\n",
      "Test  Acc: 0.7792\n",
      "\n",
      "Best Epoch: 42, best val accuracy: 0.7908, test accuracy: 0.7710\n",
      "\n",
      "\n",
      "------------------------------------------------------------------------\n",
      "Epoch: 56\n"
     ]
    },
    {
     "output_type": "stream",
     "name": "stderr",
     "text": [
      "Training: 100%|██████████| 86/86 [00:00<00:00, 189.37it/s]\n",
      "Val: 100%|██████████| 11/11 [00:00<00:00, 353.72it/s]\n",
      "Test: 100%|██████████| 11/11 [00:00<00:00, 368.28it/s]\n"
     ]
    },
    {
     "output_type": "stream",
     "name": "stdout",
     "text": [
      "Train loss: 0.3598\n",
      "Val   loss: 0.4517\n",
      "Test  loss: 0.4623\n",
      "\n",
      "Val   Acc: 0.7794\n",
      "Test  Acc: 0.7728\n",
      "\n",
      "Best Epoch: 42, best val accuracy: 0.7908, test accuracy: 0.7710\n",
      "\n",
      "\n",
      "------------------------------------------------------------------------\n",
      "Epoch: 57\n"
     ]
    },
    {
     "output_type": "stream",
     "name": "stderr",
     "text": [
      "Training: 100%|██████████| 86/86 [00:00<00:00, 182.53it/s]\n",
      "Val: 100%|██████████| 11/11 [00:00<00:00, 342.93it/s]\n",
      "Test: 100%|██████████| 11/11 [00:00<00:00, 388.75it/s]\n"
     ]
    },
    {
     "output_type": "stream",
     "name": "stdout",
     "text": [
      "Train loss: 0.3605\n",
      "Val   loss: 0.4513\n",
      "Test  loss: 0.4629\n",
      "\n",
      "Val   Acc: 0.7771\n",
      "Test  Acc: 0.7710\n",
      "\n",
      "Best Epoch: 42, best val accuracy: 0.7908, test accuracy: 0.7710\n",
      "\n",
      "\n",
      "------------------------------------------------------------------------\n",
      "Epoch: 58\n"
     ]
    },
    {
     "output_type": "stream",
     "name": "stderr",
     "text": [
      "Training: 100%|██████████| 86/86 [00:00<00:00, 187.91it/s]\n",
      "Val: 100%|██████████| 11/11 [00:00<00:00, 381.28it/s]\n",
      "Test: 100%|██████████| 11/11 [00:00<00:00, 396.49it/s]\n"
     ]
    },
    {
     "output_type": "stream",
     "name": "stdout",
     "text": [
      "Train loss: 0.3580\n",
      "Val   loss: 0.4525\n",
      "Test  loss: 0.4626\n",
      "\n",
      "Val   Acc: 0.7776\n",
      "Test  Acc: 0.7738\n",
      "\n",
      "Best Epoch: 42, best val accuracy: 0.7908, test accuracy: 0.7710\n",
      "\n",
      "\n",
      "------------------------------------------------------------------------\n",
      "Epoch: 59\n"
     ]
    },
    {
     "output_type": "stream",
     "name": "stderr",
     "text": [
      "Training: 100%|██████████| 86/86 [00:00<00:00, 188.50it/s]\n",
      "Val: 100%|██████████| 11/11 [00:00<00:00, 370.27it/s]\n",
      "Test: 100%|██████████| 11/11 [00:00<00:00, 411.06it/s]\n"
     ]
    },
    {
     "output_type": "stream",
     "name": "stdout",
     "text": [
      "Train loss: 0.3526\n",
      "Val   loss: 0.4547\n",
      "Test  loss: 0.4651\n",
      "\n",
      "Val   Acc: 0.7749\n",
      "Test  Acc: 0.7724\n",
      "\n",
      "Best Epoch: 42, best val accuracy: 0.7908, test accuracy: 0.7710\n",
      "\n",
      "\n",
      "------------------------------------------------------------------------\n",
      "Epoch: 60\n"
     ]
    },
    {
     "output_type": "stream",
     "name": "stderr",
     "text": [
      "Training: 100%|██████████| 86/86 [00:00<00:00, 190.08it/s]\n",
      "Val: 100%|██████████| 11/11 [00:00<00:00, 387.25it/s]\n",
      "Test: 100%|██████████| 11/11 [00:00<00:00, 404.75it/s]\n"
     ]
    },
    {
     "output_type": "stream",
     "name": "stdout",
     "text": [
      "Train loss: 0.3504\n",
      "Val   loss: 0.4532\n",
      "Test  loss: 0.4642\n",
      "\n",
      "Val   Acc: 0.7763\n",
      "Test  Acc: 0.7751\n",
      "\n",
      "Best Epoch: 42, best val accuracy: 0.7908, test accuracy: 0.7710\n",
      "\n",
      "\n",
      "------------------------------------------------------------------------\n",
      "Epoch: 61\n"
     ]
    },
    {
     "output_type": "stream",
     "name": "stderr",
     "text": [
      "Training: 100%|██████████| 86/86 [00:00<00:00, 185.37it/s]\n",
      "Val: 100%|██████████| 11/11 [00:00<00:00, 350.18it/s]\n",
      "Test: 100%|██████████| 11/11 [00:00<00:00, 346.58it/s]\n"
     ]
    },
    {
     "output_type": "stream",
     "name": "stdout",
     "text": [
      "Train loss: 0.3416\n",
      "Val   loss: 0.4552\n",
      "Test  loss: 0.4651\n",
      "\n",
      "Val   Acc: 0.7772\n",
      "Test  Acc: 0.7747\n",
      "\n",
      "Best Epoch: 42, best val accuracy: 0.7908, test accuracy: 0.7710\n",
      "\n",
      "\n",
      "------------------------------------------------------------------------\n",
      "Epoch: 62\n"
     ]
    },
    {
     "output_type": "stream",
     "name": "stderr",
     "text": [
      "Training: 100%|██████████| 86/86 [00:00<00:00, 188.72it/s]\n",
      "Val: 100%|██████████| 11/11 [00:00<00:00, 404.69it/s]\n",
      "Test: 100%|██████████| 11/11 [00:00<00:00, 401.14it/s]\n"
     ]
    },
    {
     "output_type": "stream",
     "name": "stdout",
     "text": [
      "Train loss: 0.3394\n",
      "Val   loss: 0.4543\n",
      "Test  loss: 0.4651\n",
      "\n",
      "Val   Acc: 0.7753\n",
      "Test  Acc: 0.7724\n",
      "\n",
      "Best Epoch: 42, best val accuracy: 0.7908, test accuracy: 0.7710\n",
      "\n",
      "\n",
      "------------------------------------------------------------------------\n",
      "Epoch: 63\n"
     ]
    },
    {
     "output_type": "stream",
     "name": "stderr",
     "text": [
      "Training: 100%|██████████| 86/86 [00:00<00:00, 185.68it/s]\n",
      "Val: 100%|██████████| 11/11 [00:00<00:00, 370.56it/s]\n",
      "Test: 100%|██████████| 11/11 [00:00<00:00, 393.33it/s]\n"
     ]
    },
    {
     "output_type": "stream",
     "name": "stdout",
     "text": [
      "Train loss: 0.3420\n",
      "Val   loss: 0.4550\n",
      "Test  loss: 0.4665\n",
      "\n",
      "Val   Acc: 0.7781\n",
      "Test  Acc: 0.7751\n",
      "\n",
      "Best Epoch: 42, best val accuracy: 0.7908, test accuracy: 0.7710\n",
      "\n",
      "\n",
      "------------------------------------------------------------------------\n",
      "Epoch: 64\n"
     ]
    },
    {
     "output_type": "stream",
     "name": "stderr",
     "text": [
      "Training: 100%|██████████| 86/86 [00:00<00:00, 186.71it/s]\n",
      "Val: 100%|██████████| 11/11 [00:00<00:00, 272.74it/s]\n",
      "Test: 100%|██████████| 11/11 [00:00<00:00, 368.09it/s]\n"
     ]
    },
    {
     "output_type": "stream",
     "name": "stdout",
     "text": [
      "Train loss: 0.3420\n",
      "Val   loss: 0.4529\n",
      "Test  loss: 0.4644\n",
      "\n",
      "Val   Acc: 0.7744\n",
      "Test  Acc: 0.7792\n",
      "\n",
      "Best Epoch: 42, best val accuracy: 0.7908, test accuracy: 0.7710\n",
      "\n",
      "\n",
      "------------------------------------------------------------------------\n",
      "Epoch: 65\n"
     ]
    },
    {
     "output_type": "stream",
     "name": "stderr",
     "text": [
      "Training: 100%|██████████| 86/86 [00:00<00:00, 189.02it/s]\n",
      "Val: 100%|██████████| 11/11 [00:00<00:00, 372.47it/s]\n",
      "Test: 100%|██████████| 11/11 [00:00<00:00, 354.06it/s]\n"
     ]
    },
    {
     "output_type": "stream",
     "name": "stdout",
     "text": [
      "Train loss: 0.3405\n",
      "Val   loss: 0.4536\n",
      "Test  loss: 0.4658\n",
      "\n",
      "Val   Acc: 0.7781\n",
      "Test  Acc: 0.7783\n",
      "\n",
      "Best Epoch: 42, best val accuracy: 0.7908, test accuracy: 0.7710\n",
      "\n",
      "\n",
      "------------------------------------------------------------------------\n",
      "Epoch: 66\n"
     ]
    },
    {
     "output_type": "stream",
     "name": "stderr",
     "text": [
      "Training: 100%|██████████| 86/86 [00:00<00:00, 187.91it/s]\n",
      "Val: 100%|██████████| 11/11 [00:00<00:00, 374.69it/s]\n",
      "Test: 100%|██████████| 11/11 [00:00<00:00, 339.18it/s]\n"
     ]
    },
    {
     "output_type": "stream",
     "name": "stdout",
     "text": [
      "Train loss: 0.3267\n",
      "Val   loss: 0.4495\n",
      "Test  loss: 0.4643\n",
      "\n",
      "Val   Acc: 0.7735\n",
      "Test  Acc: 0.7806\n",
      "\n",
      "Best Epoch: 42, best val accuracy: 0.7908, test accuracy: 0.7710\n",
      "\n",
      "\n",
      "------------------------------------------------------------------------\n",
      "Epoch: 67\n"
     ]
    },
    {
     "output_type": "stream",
     "name": "stderr",
     "text": [
      "Training: 100%|██████████| 86/86 [00:00<00:00, 181.33it/s]\n",
      "Val: 100%|██████████| 11/11 [00:00<00:00, 362.79it/s]\n",
      "Test: 100%|██████████| 11/11 [00:00<00:00, 386.25it/s]\n"
     ]
    },
    {
     "output_type": "stream",
     "name": "stdout",
     "text": [
      "Train loss: 0.3338\n",
      "Val   loss: 0.4503\n",
      "Test  loss: 0.4636\n",
      "\n",
      "Val   Acc: 0.7744\n",
      "Test  Acc: 0.7747\n",
      "\n",
      "Best Epoch: 42, best val accuracy: 0.7908, test accuracy: 0.7710\n",
      "\n",
      "\n",
      "------------------------------------------------------------------------\n",
      "Epoch: 68\n"
     ]
    },
    {
     "output_type": "stream",
     "name": "stderr",
     "text": [
      "Training: 100%|██████████| 86/86 [00:00<00:00, 185.68it/s]\n",
      "Val: 100%|██████████| 11/11 [00:00<00:00, 376.72it/s]\n",
      "Test: 100%|██████████| 11/11 [00:00<00:00, 377.56it/s]\n"
     ]
    },
    {
     "output_type": "stream",
     "name": "stdout",
     "text": [
      "Train loss: 0.3263\n",
      "Val   loss: 0.4532\n",
      "Test  loss: 0.4646\n",
      "\n",
      "Val   Acc: 0.7753\n",
      "Test  Acc: 0.7715\n",
      "\n",
      "Best Epoch: 42, best val accuracy: 0.7908, test accuracy: 0.7710\n",
      "\n",
      "\n",
      "------------------------------------------------------------------------\n",
      "Epoch: 69\n"
     ]
    },
    {
     "output_type": "stream",
     "name": "stderr",
     "text": [
      "Training: 100%|██████████| 86/86 [00:00<00:00, 188.99it/s]\n",
      "Val: 100%|██████████| 11/11 [00:00<00:00, 388.50it/s]\n",
      "Test: 100%|██████████| 11/11 [00:00<00:00, 332.15it/s]\n"
     ]
    },
    {
     "output_type": "stream",
     "name": "stdout",
     "text": [
      "Train loss: 0.3154\n",
      "Val   loss: 0.4540\n",
      "Test  loss: 0.4673\n",
      "\n",
      "Val   Acc: 0.7735\n",
      "Test  Acc: 0.7683\n",
      "\n",
      "Best Epoch: 42, best val accuracy: 0.7908, test accuracy: 0.7710\n",
      "\n",
      "\n",
      "------------------------------------------------------------------------\n",
      "Epoch: 70\n"
     ]
    },
    {
     "output_type": "stream",
     "name": "stderr",
     "text": [
      "Training: 100%|██████████| 86/86 [00:00<00:00, 185.78it/s]\n",
      "Val: 100%|██████████| 11/11 [00:00<00:00, 389.57it/s]\n",
      "Test: 100%|██████████| 11/11 [00:00<00:00, 384.86it/s]\n"
     ]
    },
    {
     "output_type": "stream",
     "name": "stdout",
     "text": [
      "Train loss: 0.3206\n",
      "Val   loss: 0.4540\n",
      "Test  loss: 0.4664\n",
      "\n",
      "Val   Acc: 0.7790\n",
      "Test  Acc: 0.7692\n",
      "\n",
      "Best Epoch: 42, best val accuracy: 0.7908, test accuracy: 0.7710\n",
      "\n",
      "\n",
      "------------------------------------------------------------------------\n",
      "Epoch: 71\n"
     ]
    },
    {
     "output_type": "stream",
     "name": "stderr",
     "text": [
      "Training: 100%|██████████| 86/86 [00:00<00:00, 185.29it/s]\n",
      "Val: 100%|██████████| 11/11 [00:00<00:00, 379.44it/s]\n",
      "Test: 100%|██████████| 11/11 [00:00<00:00, 378.12it/s]\n"
     ]
    },
    {
     "output_type": "stream",
     "name": "stdout",
     "text": [
      "Train loss: 0.3226\n",
      "Val   loss: 0.4508\n",
      "Test  loss: 0.4652\n",
      "\n",
      "Val   Acc: 0.7763\n",
      "Test  Acc: 0.7715\n",
      "\n",
      "Best Epoch: 42, best val accuracy: 0.7908, test accuracy: 0.7710\n",
      "\n",
      "\n",
      "------------------------------------------------------------------------\n",
      "Epoch: 72\n"
     ]
    },
    {
     "output_type": "stream",
     "name": "stderr",
     "text": [
      "Training: 100%|██████████| 86/86 [00:00<00:00, 185.25it/s]\n",
      "Val: 100%|██████████| 11/11 [00:00<00:00, 337.94it/s]\n",
      "Test: 100%|██████████| 11/11 [00:00<00:00, 395.23it/s]\n"
     ]
    },
    {
     "output_type": "stream",
     "name": "stdout",
     "text": [
      "Train loss: 0.3139\n",
      "Val   loss: 0.4530\n",
      "Test  loss: 0.4663\n",
      "\n",
      "Val   Acc: 0.7708\n",
      "Test  Acc: 0.7706\n",
      "\n",
      "Best Epoch: 42, best val accuracy: 0.7908, test accuracy: 0.7710\n",
      "\n",
      "\n",
      "------------------------------------------------------------------------\n",
      "Epoch: 73\n"
     ]
    },
    {
     "output_type": "stream",
     "name": "stderr",
     "text": [
      "Training: 100%|██████████| 86/86 [00:00<00:00, 188.12it/s]\n",
      "Val: 100%|██████████| 11/11 [00:00<00:00, 378.39it/s]\n",
      "Test: 100%|██████████| 11/11 [00:00<00:00, 348.71it/s]\n"
     ]
    },
    {
     "output_type": "stream",
     "name": "stdout",
     "text": [
      "Train loss: 0.3061\n",
      "Val   loss: 0.4516\n",
      "Test  loss: 0.4658\n",
      "\n",
      "Val   Acc: 0.7772\n",
      "Test  Acc: 0.7710\n",
      "\n",
      "Best Epoch: 42, best val accuracy: 0.7908, test accuracy: 0.7710\n",
      "\n",
      "\n",
      "------------------------------------------------------------------------\n",
      "Epoch: 74\n"
     ]
    },
    {
     "output_type": "stream",
     "name": "stderr",
     "text": [
      "Training: 100%|██████████| 86/86 [00:00<00:00, 184.03it/s]\n",
      "Val: 100%|██████████| 11/11 [00:00<00:00, 365.49it/s]\n",
      "Test: 100%|██████████| 11/11 [00:00<00:00, 389.29it/s]\n"
     ]
    },
    {
     "output_type": "stream",
     "name": "stdout",
     "text": [
      "Train loss: 0.3039\n",
      "Val   loss: 0.4516\n",
      "Test  loss: 0.4662\n",
      "\n",
      "Val   Acc: 0.7790\n",
      "Test  Acc: 0.7656\n",
      "\n",
      "Best Epoch: 42, best val accuracy: 0.7908, test accuracy: 0.7710\n",
      "\n",
      "\n",
      "------------------------------------------------------------------------\n",
      "Epoch: 75\n"
     ]
    },
    {
     "output_type": "stream",
     "name": "stderr",
     "text": [
      "Training: 100%|██████████| 86/86 [00:00<00:00, 187.83it/s]\n",
      "Val: 100%|██████████| 11/11 [00:00<00:00, 385.68it/s]\n",
      "Test: 100%|██████████| 11/11 [00:00<00:00, 349.27it/s]\n"
     ]
    },
    {
     "output_type": "stream",
     "name": "stdout",
     "text": [
      "Train loss: 0.3004\n",
      "Val   loss: 0.4512\n",
      "Test  loss: 0.4664\n",
      "\n",
      "Val   Acc: 0.7717\n",
      "Test  Acc: 0.7629\n",
      "\n",
      "Best Epoch: 42, best val accuracy: 0.7908, test accuracy: 0.7710\n",
      "\n",
      "\n",
      "------------------------------------------------------------------------\n",
      "Epoch: 76\n"
     ]
    },
    {
     "output_type": "stream",
     "name": "stderr",
     "text": [
      "Training: 100%|██████████| 86/86 [00:00<00:00, 188.19it/s]\n",
      "Val: 100%|██████████| 11/11 [00:00<00:00, 389.35it/s]\n",
      "Test: 100%|██████████| 11/11 [00:00<00:00, 387.30it/s]\n"
     ]
    },
    {
     "output_type": "stream",
     "name": "stdout",
     "text": [
      "Train loss: 0.3063\n",
      "Val   loss: 0.4534\n",
      "Test  loss: 0.4671\n",
      "\n",
      "Val   Acc: 0.7726\n",
      "Test  Acc: 0.7701\n",
      "\n",
      "Best Epoch: 42, best val accuracy: 0.7908, test accuracy: 0.7710\n",
      "\n",
      "\n",
      "------------------------------------------------------------------------\n",
      "Epoch: 77\n"
     ]
    },
    {
     "output_type": "stream",
     "name": "stderr",
     "text": [
      "Training: 100%|██████████| 86/86 [00:00<00:00, 185.11it/s]\n",
      "Val: 100%|██████████| 11/11 [00:00<00:00, 354.14it/s]\n",
      "Test: 100%|██████████| 11/11 [00:00<00:00, 405.08it/s]\n"
     ]
    },
    {
     "output_type": "stream",
     "name": "stdout",
     "text": [
      "Train loss: 0.3012\n",
      "Val   loss: 0.4505\n",
      "Test  loss: 0.4653\n",
      "\n",
      "Val   Acc: 0.7772\n",
      "Test  Acc: 0.7706\n",
      "\n",
      "Best Epoch: 42, best val accuracy: 0.7908, test accuracy: 0.7710\n",
      "\n",
      "\n",
      "------------------------------------------------------------------------\n",
      "Epoch: 78\n"
     ]
    },
    {
     "output_type": "stream",
     "name": "stderr",
     "text": [
      "Training: 100%|██████████| 86/86 [00:00<00:00, 187.29it/s]\n",
      "Val: 100%|██████████| 11/11 [00:00<00:00, 391.66it/s]\n",
      "Test: 100%|██████████| 11/11 [00:00<00:00, 382.52it/s]\n"
     ]
    },
    {
     "output_type": "stream",
     "name": "stdout",
     "text": [
      "Train loss: 0.2947\n",
      "Val   loss: 0.4507\n",
      "Test  loss: 0.4671\n",
      "\n",
      "Val   Acc: 0.7744\n",
      "Test  Acc: 0.7715\n",
      "\n",
      "Best Epoch: 42, best val accuracy: 0.7908, test accuracy: 0.7710\n",
      "\n",
      "\n",
      "------------------------------------------------------------------------\n",
      "Epoch: 79\n"
     ]
    },
    {
     "output_type": "stream",
     "name": "stderr",
     "text": [
      "Training: 100%|██████████| 86/86 [00:00<00:00, 183.40it/s]\n",
      "Val: 100%|██████████| 11/11 [00:00<00:00, 375.91it/s]\n",
      "Test: 100%|██████████| 11/11 [00:00<00:00, 377.86it/s]\n"
     ]
    },
    {
     "output_type": "stream",
     "name": "stdout",
     "text": [
      "Train loss: 0.2981\n",
      "Val   loss: 0.4522\n",
      "Test  loss: 0.4676\n",
      "\n",
      "Val   Acc: 0.7772\n",
      "Test  Acc: 0.7715\n",
      "\n",
      "Best Epoch: 42, best val accuracy: 0.7908, test accuracy: 0.7710\n",
      "\n",
      "\n",
      "------------------------------------------------------------------------\n",
      "Epoch: 80\n"
     ]
    },
    {
     "output_type": "stream",
     "name": "stderr",
     "text": [
      "Training: 100%|██████████| 86/86 [00:00<00:00, 185.68it/s]\n",
      "Val: 100%|██████████| 11/11 [00:00<00:00, 387.97it/s]\n",
      "Test: 100%|██████████| 11/11 [00:00<00:00, 349.85it/s]\n"
     ]
    },
    {
     "output_type": "stream",
     "name": "stdout",
     "text": [
      "Train loss: 0.2921\n",
      "Val   loss: 0.4510\n",
      "Test  loss: 0.4670\n",
      "\n",
      "Val   Acc: 0.7790\n",
      "Test  Acc: 0.7706\n",
      "\n",
      "Best Epoch: 42, best val accuracy: 0.7908, test accuracy: 0.7710\n",
      "\n",
      "\n",
      "------------------------------------------------------------------------\n",
      "Epoch: 81\n"
     ]
    },
    {
     "output_type": "stream",
     "name": "stderr",
     "text": [
      "Training: 100%|██████████| 86/86 [00:00<00:00, 182.12it/s]\n",
      "Val: 100%|██████████| 11/11 [00:00<00:00, 327.52it/s]\n",
      "Test: 100%|██████████| 11/11 [00:00<00:00, 393.83it/s]\n"
     ]
    },
    {
     "output_type": "stream",
     "name": "stdout",
     "text": [
      "Train loss: 0.2913\n",
      "Val   loss: 0.4532\n",
      "Test  loss: 0.4678\n",
      "\n",
      "Val   Acc: 0.7749\n",
      "Test  Acc: 0.7720\n",
      "\n",
      "Best Epoch: 42, best val accuracy: 0.7908, test accuracy: 0.7710\n",
      "\n",
      "\n",
      "------------------------------------------------------------------------\n",
      "Epoch: 82\n"
     ]
    },
    {
     "output_type": "stream",
     "name": "stderr",
     "text": [
      "Training: 100%|██████████| 86/86 [00:00<00:00, 184.31it/s]\n",
      "Val: 100%|██████████| 11/11 [00:00<00:00, 362.55it/s]\n",
      "Test: 100%|██████████| 11/11 [00:00<00:00, 387.87it/s]\n"
     ]
    },
    {
     "output_type": "stream",
     "name": "stdout",
     "text": [
      "Train loss: 0.2910\n",
      "Val   loss: 0.4536\n",
      "Test  loss: 0.4684\n",
      "\n",
      "Val   Acc: 0.7744\n",
      "Test  Acc: 0.7770\n",
      "\n",
      "Best Epoch: 42, best val accuracy: 0.7908, test accuracy: 0.7710\n",
      "\n",
      "\n",
      "------------------------------------------------------------------------\n",
      "Epoch: 83\n"
     ]
    },
    {
     "output_type": "stream",
     "name": "stderr",
     "text": [
      "Training: 100%|██████████| 86/86 [00:00<00:00, 181.29it/s]\n",
      "Val: 100%|██████████| 11/11 [00:00<00:00, 382.94it/s]\n",
      "Test: 100%|██████████| 11/11 [00:00<00:00, 364.81it/s]\n"
     ]
    },
    {
     "output_type": "stream",
     "name": "stdout",
     "text": [
      "Train loss: 0.2887\n",
      "Val   loss: 0.4504\n",
      "Test  loss: 0.4664\n",
      "\n",
      "Val   Acc: 0.7772\n",
      "Test  Acc: 0.7756\n",
      "\n",
      "Best Epoch: 42, best val accuracy: 0.7908, test accuracy: 0.7710\n",
      "\n",
      "\n",
      "------------------------------------------------------------------------\n",
      "Epoch: 84\n"
     ]
    },
    {
     "output_type": "stream",
     "name": "stderr",
     "text": [
      "Training: 100%|██████████| 86/86 [00:00<00:00, 185.42it/s]\n",
      "Val: 100%|██████████| 11/11 [00:00<00:00, 393.95it/s]\n",
      "Test: 100%|██████████| 11/11 [00:00<00:00, 364.69it/s]\n"
     ]
    },
    {
     "output_type": "stream",
     "name": "stdout",
     "text": [
      "Train loss: 0.2857\n",
      "Val   loss: 0.4522\n",
      "Test  loss: 0.4669\n",
      "\n",
      "Val   Acc: 0.7763\n",
      "Test  Acc: 0.7783\n",
      "\n",
      "Best Epoch: 42, best val accuracy: 0.7908, test accuracy: 0.7710\n",
      "\n",
      "\n",
      "------------------------------------------------------------------------\n",
      "Epoch: 85\n"
     ]
    },
    {
     "output_type": "stream",
     "name": "stderr",
     "text": [
      "Training: 100%|██████████| 86/86 [00:00<00:00, 183.55it/s]\n",
      "Val: 100%|██████████| 11/11 [00:00<00:00, 377.07it/s]\n",
      "Test: 100%|██████████| 11/11 [00:00<00:00, 364.71it/s]\n"
     ]
    },
    {
     "output_type": "stream",
     "name": "stdout",
     "text": [
      "Train loss: 0.2788\n",
      "Val   loss: 0.4524\n",
      "Test  loss: 0.4670\n",
      "\n",
      "Val   Acc: 0.7803\n",
      "Test  Acc: 0.7806\n",
      "\n",
      "Best Epoch: 42, best val accuracy: 0.7908, test accuracy: 0.7710\n",
      "\n",
      "\n",
      "------------------------------------------------------------------------\n",
      "Epoch: 86\n"
     ]
    },
    {
     "output_type": "stream",
     "name": "stderr",
     "text": [
      "Training: 100%|██████████| 86/86 [00:00<00:00, 181.86it/s]\n",
      "Val: 100%|██████████| 11/11 [00:00<00:00, 364.55it/s]\n",
      "Test: 100%|██████████| 11/11 [00:00<00:00, 371.59it/s]\n"
     ]
    },
    {
     "output_type": "stream",
     "name": "stdout",
     "text": [
      "Train loss: 0.2749\n",
      "Val   loss: 0.4527\n",
      "Test  loss: 0.4675\n",
      "\n",
      "Val   Acc: 0.7772\n",
      "Test  Acc: 0.7797\n",
      "\n",
      "Best Epoch: 42, best val accuracy: 0.7908, test accuracy: 0.7710\n",
      "\n",
      "\n",
      "------------------------------------------------------------------------\n",
      "Epoch: 87\n"
     ]
    },
    {
     "output_type": "stream",
     "name": "stderr",
     "text": [
      "Training: 100%|██████████| 86/86 [00:00<00:00, 182.94it/s]\n",
      "Val: 100%|██████████| 11/11 [00:00<00:00, 369.47it/s]\n",
      "Test: 100%|██████████| 11/11 [00:00<00:00, 386.82it/s]\n"
     ]
    },
    {
     "output_type": "stream",
     "name": "stdout",
     "text": [
      "Train loss: 0.2807\n",
      "Val   loss: 0.4532\n",
      "Test  loss: 0.4697\n",
      "\n",
      "Val   Acc: 0.7781\n",
      "Test  Acc: 0.7801\n",
      "\n",
      "Best Epoch: 42, best val accuracy: 0.7908, test accuracy: 0.7710\n",
      "\n",
      "\n",
      "------------------------------------------------------------------------\n",
      "Epoch: 88\n"
     ]
    },
    {
     "output_type": "stream",
     "name": "stderr",
     "text": [
      "Training: 100%|██████████| 86/86 [00:00<00:00, 183.98it/s]\n",
      "Val: 100%|██████████| 11/11 [00:00<00:00, 386.03it/s]\n",
      "Test: 100%|██████████| 11/11 [00:00<00:00, 376.35it/s]\n"
     ]
    },
    {
     "output_type": "stream",
     "name": "stdout",
     "text": [
      "Train loss: 0.2710\n",
      "Val   loss: 0.4560\n",
      "Test  loss: 0.4695\n",
      "\n",
      "Val   Acc: 0.7767\n",
      "Test  Acc: 0.7774\n",
      "\n",
      "Best Epoch: 42, best val accuracy: 0.7908, test accuracy: 0.7710\n",
      "\n",
      "\n",
      "------------------------------------------------------------------------\n",
      "Epoch: 89\n"
     ]
    },
    {
     "output_type": "stream",
     "name": "stderr",
     "text": [
      "Training: 100%|██████████| 86/86 [00:00<00:00, 183.66it/s]\n",
      "Val: 100%|██████████| 11/11 [00:00<00:00, 380.52it/s]\n",
      "Test: 100%|██████████| 11/11 [00:00<00:00, 376.56it/s]\n"
     ]
    },
    {
     "output_type": "stream",
     "name": "stdout",
     "text": [
      "Train loss: 0.2693\n",
      "Val   loss: 0.4527\n",
      "Test  loss: 0.4692\n",
      "\n",
      "Val   Acc: 0.7740\n",
      "Test  Acc: 0.7806\n",
      "\n",
      "Best Epoch: 42, best val accuracy: 0.7908, test accuracy: 0.7710\n",
      "\n",
      "\n",
      "------------------------------------------------------------------------\n",
      "Epoch: 90\n"
     ]
    },
    {
     "output_type": "stream",
     "name": "stderr",
     "text": [
      "Training: 100%|██████████| 86/86 [00:00<00:00, 182.90it/s]\n",
      "Val: 100%|██████████| 11/11 [00:00<00:00, 378.30it/s]\n",
      "Test: 100%|██████████| 11/11 [00:00<00:00, 384.85it/s]\n"
     ]
    },
    {
     "output_type": "stream",
     "name": "stdout",
     "text": [
      "Train loss: 0.2627\n",
      "Val   loss: 0.4588\n",
      "Test  loss: 0.4716\n",
      "\n",
      "Val   Acc: 0.7753\n",
      "Test  Acc: 0.7833\n",
      "\n",
      "Best Epoch: 42, best val accuracy: 0.7908, test accuracy: 0.7710\n",
      "\n",
      "\n",
      "------------------------------------------------------------------------\n",
      "Epoch: 91\n"
     ]
    },
    {
     "output_type": "stream",
     "name": "stderr",
     "text": [
      "Training: 100%|██████████| 86/86 [00:00<00:00, 186.92it/s]\n",
      "Val: 100%|██████████| 11/11 [00:00<00:00, 378.78it/s]\n",
      "Test: 100%|██████████| 11/11 [00:00<00:00, 364.36it/s]\n"
     ]
    },
    {
     "output_type": "stream",
     "name": "stdout",
     "text": [
      "Train loss: 0.2596\n",
      "Val   loss: 0.4568\n",
      "Test  loss: 0.4736\n",
      "\n",
      "Val   Acc: 0.7758\n",
      "Test  Acc: 0.7770\n",
      "\n",
      "Best Epoch: 42, best val accuracy: 0.7908, test accuracy: 0.7710\n",
      "\n",
      "\n",
      "------------------------------------------------------------------------\n",
      "Epoch: 92\n"
     ]
    },
    {
     "output_type": "stream",
     "name": "stderr",
     "text": [
      "Training: 100%|██████████| 86/86 [00:00<00:00, 181.92it/s]\n",
      "Val: 100%|██████████| 11/11 [00:00<00:00, 372.13it/s]\n",
      "Test: 100%|██████████| 11/11 [00:00<00:00, 389.25it/s]\n"
     ]
    },
    {
     "output_type": "stream",
     "name": "stdout",
     "text": [
      "Train loss: 0.2652\n",
      "Val   loss: 0.4579\n",
      "Test  loss: 0.4732\n",
      "\n",
      "Val   Acc: 0.7740\n",
      "Test  Acc: 0.7751\n",
      "\n",
      "Best Epoch: 42, best val accuracy: 0.7908, test accuracy: 0.7710\n",
      "\n",
      "\n",
      "------------------------------------------------------------------------\n",
      "Epoch: 93\n"
     ]
    },
    {
     "output_type": "stream",
     "name": "stderr",
     "text": [
      "Training: 100%|██████████| 86/86 [00:00<00:00, 182.03it/s]\n",
      "Val: 100%|██████████| 11/11 [00:00<00:00, 364.71it/s]\n",
      "Test: 100%|██████████| 11/11 [00:00<00:00, 365.87it/s]\n"
     ]
    },
    {
     "output_type": "stream",
     "name": "stdout",
     "text": [
      "Train loss: 0.2584\n",
      "Val   loss: 0.4625\n",
      "Test  loss: 0.4757\n",
      "\n",
      "Val   Acc: 0.7712\n",
      "Test  Acc: 0.7756\n",
      "\n",
      "Best Epoch: 42, best val accuracy: 0.7908, test accuracy: 0.7710\n",
      "\n",
      "\n",
      "------------------------------------------------------------------------\n",
      "Epoch: 94\n"
     ]
    },
    {
     "output_type": "stream",
     "name": "stderr",
     "text": [
      "Training: 100%|██████████| 86/86 [00:00<00:00, 179.99it/s]\n",
      "Val: 100%|██████████| 11/11 [00:00<00:00, 379.46it/s]\n",
      "Test: 100%|██████████| 11/11 [00:00<00:00, 352.42it/s]\n"
     ]
    },
    {
     "output_type": "stream",
     "name": "stdout",
     "text": [
      "Train loss: 0.2585\n",
      "Val   loss: 0.4558\n",
      "Test  loss: 0.4718\n",
      "\n",
      "Val   Acc: 0.7694\n",
      "Test  Acc: 0.7879\n",
      "\n",
      "Best Epoch: 42, best val accuracy: 0.7908, test accuracy: 0.7710\n",
      "\n",
      "\n",
      "------------------------------------------------------------------------\n",
      "Epoch: 95\n"
     ]
    },
    {
     "output_type": "stream",
     "name": "stderr",
     "text": [
      "Training: 100%|██████████| 86/86 [00:00<00:00, 184.06it/s]\n",
      "Val: 100%|██████████| 11/11 [00:00<00:00, 383.02it/s]\n",
      "Test: 100%|██████████| 11/11 [00:00<00:00, 389.64it/s]\n"
     ]
    },
    {
     "output_type": "stream",
     "name": "stdout",
     "text": [
      "Train loss: 0.2527\n",
      "Val   loss: 0.4524\n",
      "Test  loss: 0.4707\n",
      "\n",
      "Val   Acc: 0.7694\n",
      "Test  Acc: 0.7879\n",
      "\n",
      "Best Epoch: 42, best val accuracy: 0.7908, test accuracy: 0.7710\n",
      "\n",
      "\n",
      "------------------------------------------------------------------------\n",
      "Epoch: 96\n"
     ]
    },
    {
     "output_type": "stream",
     "name": "stderr",
     "text": [
      "Training: 100%|██████████| 86/86 [00:00<00:00, 182.59it/s]\n",
      "Val: 100%|██████████| 11/11 [00:00<00:00, 379.40it/s]\n",
      "Test: 100%|██████████| 11/11 [00:00<00:00, 383.11it/s]\n"
     ]
    },
    {
     "output_type": "stream",
     "name": "stdout",
     "text": [
      "Train loss: 0.2516\n",
      "Val   loss: 0.4552\n",
      "Test  loss: 0.4722\n",
      "\n",
      "Val   Acc: 0.7703\n",
      "Test  Acc: 0.7847\n",
      "\n",
      "Best Epoch: 42, best val accuracy: 0.7908, test accuracy: 0.7710\n",
      "\n",
      "\n",
      "------------------------------------------------------------------------\n",
      "Epoch: 97\n"
     ]
    },
    {
     "output_type": "stream",
     "name": "stderr",
     "text": [
      "Training: 100%|██████████| 86/86 [00:00<00:00, 183.92it/s]\n",
      "Val: 100%|██████████| 11/11 [00:00<00:00, 362.87it/s]\n",
      "Test: 100%|██████████| 11/11 [00:00<00:00, 342.28it/s]\n"
     ]
    },
    {
     "output_type": "stream",
     "name": "stdout",
     "text": [
      "Train loss: 0.2477\n",
      "Val   loss: 0.4565\n",
      "Test  loss: 0.4720\n",
      "\n",
      "Val   Acc: 0.7676\n",
      "Test  Acc: 0.7838\n",
      "\n",
      "Best Epoch: 42, best val accuracy: 0.7908, test accuracy: 0.7710\n",
      "\n",
      "\n",
      "------------------------------------------------------------------------\n",
      "Epoch: 98\n"
     ]
    },
    {
     "output_type": "stream",
     "name": "stderr",
     "text": [
      "Training: 100%|██████████| 86/86 [00:00<00:00, 178.39it/s]\n",
      "Val: 100%|██████████| 11/11 [00:00<00:00, 355.58it/s]\n",
      "Test: 100%|██████████| 11/11 [00:00<00:00, 362.74it/s]\n"
     ]
    },
    {
     "output_type": "stream",
     "name": "stdout",
     "text": [
      "Train loss: 0.2498\n",
      "Val   loss: 0.4565\n",
      "Test  loss: 0.4738\n",
      "\n",
      "Val   Acc: 0.7676\n",
      "Test  Acc: 0.7851\n",
      "\n",
      "Best Epoch: 42, best val accuracy: 0.7908, test accuracy: 0.7710\n",
      "\n",
      "\n",
      "------------------------------------------------------------------------\n",
      "Epoch: 99\n"
     ]
    },
    {
     "output_type": "stream",
     "name": "stderr",
     "text": [
      "Training: 100%|██████████| 86/86 [00:00<00:00, 180.50it/s]\n",
      "Val: 100%|██████████| 11/11 [00:00<00:00, 371.96it/s]\n",
      "Test: 100%|██████████| 11/11 [00:00<00:00, 378.57it/s]"
     ]
    },
    {
     "output_type": "stream",
     "name": "stdout",
     "text": [
      "Train loss: 0.2465\n",
      "Val   loss: 0.4587\n",
      "Test  loss: 0.4751\n",
      "\n",
      "Val   Acc: 0.7694\n",
      "Test  Acc: 0.7779\n",
      "\n",
      "Best Epoch: 42, best val accuracy: 0.7908, test accuracy: 0.7710\n",
      "\n",
      "\n"
     ]
    },
    {
     "output_type": "stream",
     "name": "stderr",
     "text": [
      "\n"
     ]
    }
   ],
   "source": [
    "BATCH_SIZE = 100\n",
    "\n",
    "# Move the model to the device (CPU or GPU)\n",
    "device = torch.device(\"cuda\" if torch.cuda.is_available() else \"cpu\")\n",
    "model = model.to(device)\n",
    "\n",
    "# Initialize the loss function\n",
    "criterion = nn.CrossEntropyLoss(reduction='mean')\n",
    "\n",
    "best_epoch = 0\n",
    "best_val_so_far = 0\n",
    "test_perf = 0\n",
    "\n",
    "# TRAINING LOOP\n",
    "for epoch in range(100):\n",
    "  print('------------------------------------------------------------------------')\n",
    "  print('Epoch: {}'.format(epoch))\n",
    "\n",
    "  # TRAIN\n",
    "  # We set the model in train mode. It will store information to compute the gradients\n",
    "  # Also, the implementation of dropout, batchnorm, etc is different at training and inference time.\n",
    "  model.train()\n",
    "\n",
    "  train_losses = []\n",
    "  for idx in tqdm.tqdm(range(0, len(train_data), BATCH_SIZE), desc='Training'):\n",
    "    samples = train_data[idx:idx+BATCH_SIZE]\n",
    "\n",
    "    # Create tensors for the data and move them to GPU\n",
    "    X = [sample['word_idx'] for sample in samples]\n",
    "    y = [sample['sentiment'] for sample in samples]\n",
    "    X = torch.tensor(X).long().to(device)\n",
    "    y = torch.tensor(y).long().to(device)\n",
    "\n",
    "    # Compute the model output and the loss\n",
    "    y_logits = model(X)\n",
    "    loss = criterion(y_logits, y)\n",
    "\n",
    "    # Update model parameters\n",
    "    optimizer.zero_grad() # This is very important! By default, gradients are cumulated in tensors.\n",
    "    loss.backward() # Now that gradients have been empties, we compute the new ones using the loss.\n",
    "    optimizer.step() # We do gradient update with our optimization function (i.e., the weights of the model are updated).\n",
    "  \n",
    "    train_losses.append(loss.item())\n",
    "  \n",
    "  \n",
    "  # VAL + TEST\n",
    "  val_test_losses = {'val': [], 'test': []}\n",
    "  val_test_accuracy = {'val': [], 'test': []}\n",
    "  \n",
    "  # Unlike before, we set the model in eval mode to compute correctly dropout, batchnorm etc\n",
    "  model.eval()\n",
    "\n",
    "  # We do not store information relative to gradients as we do not update the model.\n",
    "  # That's the reason why inference requires less memory and is faster.\n",
    "  with torch.no_grad():\n",
    "    for split_data, data in [('val', val_data), ('test', test_data)]:\n",
    "      for idx in tqdm.tqdm(range(0, len(data), BATCH_SIZE), desc=split_data.capitalize()):\n",
    "        samples = data[idx:idx+BATCH_SIZE]\n",
    "\n",
    "        # Create tensors for the data and move them to GPU\n",
    "        X = [sample['word_idx'] for sample in samples]\n",
    "        y_gold = [sample['sentiment'] for sample in samples]\n",
    "        X = torch.tensor(X).long().to(device)\n",
    "        y = torch.tensor(y_gold).long().to(device)\n",
    "\n",
    "        # Compute the model output, the probabilities, and the loss\n",
    "        y_logits = model(X)\n",
    "        y_probs = F.softmax(y_logits, dim=-1)\n",
    "        y_pred = torch.argmax(y_logits, dim=-1)\n",
    "\n",
    "        loss = criterion(y_logits, y)\n",
    "        val_test_losses[split_data].append(loss.item())\n",
    "\n",
    "        # Compute the accuracy to evaluate our model\n",
    "        accuracy = compute_accuracy(y_pred.cpu().numpy(), y_gold)\n",
    "        val_test_accuracy[split_data].append(accuracy)\n",
    "  \n",
    "  # Monitoring\n",
    "  print('Train loss: {:.4f}'.format(np.mean(train_losses)))\n",
    "  print('Val   loss: {:.4f}'.format(np.mean(val_test_losses['val'])))\n",
    "  print('Test  loss: {:.4f}'.format(np.mean(val_test_losses['test'])))\n",
    "  print()\n",
    "\n",
    "  val_acc = np.mean(val_test_accuracy['val'])\n",
    "  test_acc = np.mean(val_test_accuracy['test'])\n",
    "  print('Val   Acc: {:.4f}'.format(val_acc))\n",
    "  print('Test  Acc: {:.4f}'.format(test_acc))\n",
    "  print()\n",
    "\n",
    "  if best_val_so_far < val_acc:\n",
    "    best_val_so_far = val_acc\n",
    "    test_perf = test_acc\n",
    "    best_epoch = epoch\n",
    "  \n",
    "  print('Best Epoch: {}, best val accuracy: {:.4f}, test accuracy: {:.4f}'.format(best_epoch, best_val_so_far, test_perf))\n",
    "  print()\n",
    "  print()"
   ]
  },
  {
   "cell_type": "code",
   "execution_count": null,
   "metadata": {
    "id": "pZwIHq8XPoGA"
   },
   "outputs": [],
   "source": []
  }
 ],
 "metadata": {
  "accelerator": "GPU",
  "colab": {
   "toc_visible": true,
   "provenance": [],
   "collapsed_sections": [
    "r580XWHXyrAO",
    "9Wvk5VJQ5_Lm",
    "y8xNT-oD92kP",
    "8gTdnlKKF3IP",
    "vbmA0mjGL2wW",
    "3WSIfowKLpKS"
   ]
  },
  "kernelspec": {
   "display_name": "Python 3",
   "name": "python3"
  },
  "language_info": {
   "name": "python"
  }
 },
 "nbformat": 4,
 "nbformat_minor": 0
}
