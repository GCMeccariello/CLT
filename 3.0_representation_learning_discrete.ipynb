{
 "nbformat": 4,
 "nbformat_minor": 0,
 "metadata": {
  "anaconda-cloud": {},
  "celltoolbar": "Slideshow",
  "kernelspec": {
   "name": "python3",
   "language": "python",
   "display_name": "Python 3 (ipykernel)"
  },
  "language_info": {
   "codemirror_mode": {
    "name": "ipython",
    "version": 3
   },
   "file_extension": ".py",
   "mimetype": "text/x-python",
   "name": "python",
   "nbconvert_exporter": "python",
   "pygments_lexer": "ipython3",
   "version": "3.7.0"
  },
  "toc": {
   "base_numbering": 1,
   "nav_menu": {},
   "number_sections": false,
   "sideBar": true,
   "skip_h1_title": false,
   "title_cell": "Table of Contents",
   "title_sidebar": "Contents",
   "toc_cell": false,
   "toc_position": {},
   "toc_section_display": true,
   "toc_window_display": true
  },
  "varInspector": {
   "cols": {
    "lenName": 16,
    "lenType": 16,
    "lenVar": 40
   },
   "kernels_config": {
    "python": {
     "delete_cmd_postfix": "",
     "delete_cmd_prefix": "del ",
     "library": "var_list.py",
     "varRefreshCmd": "print(var_dic_list())"
    },
    "r": {
     "delete_cmd_postfix": ") ",
     "delete_cmd_prefix": "rm(",
     "library": "var_list.r",
     "varRefreshCmd": "cat(var_dic_list()) "
    }
   },
   "types_to_exclude": [
    "module",
    "function",
    "builtin_function_or_method",
    "instance",
    "_Feature"
   ],
   "window_display": false
  },
  "colab": {
   "provenance": []
  }
 },
 "cells": [
  {
   "cell_type": "markdown",
   "metadata": {
    "id": "c257RJApxsg_"
   },
   "source": [
    "## Setup\n"
   ]
  },
  {
   "cell_type": "code",
   "execution_count": 4,
   "outputs": [
    {
     "name": "stdout",
     "output_type": "stream",
     "text": [
      "cpu\n"
     ]
    }
   ],
   "source": [
    "import torch\n",
    "torch.cuda.is_available()\n",
    "device = torch.device(\"cuda:0\" if torch.cuda.is_available() else \"cpu\")\n",
    "print(device)\n",
    "\n"
   ],
   "metadata": {
    "collapsed": false
   }
  },
  {
   "cell_type": "code",
   "execution_count": 5,
   "outputs": [
    {
     "data": {
      "text/plain": "device(type='cuda')"
     },
     "execution_count": 5,
     "metadata": {},
     "output_type": "execute_result"
    }
   ],
   "source": [
    "device = torch.device('cuda')\n",
    "device"
   ],
   "metadata": {
    "collapsed": false
   }
  },
  {
   "cell_type": "code",
   "execution_count": 5,
   "outputs": [],
   "source": [],
   "metadata": {
    "collapsed": false
   }
  },
  {
   "cell_type": "code",
   "metadata": {
    "id": "_QzYc99Nxsg_",
    "executionInfo": {
     "status": "ok",
     "timestamp": 1669287966214,
     "user_tz": -60,
     "elapsed": 2798,
     "user": {
      "displayName": "hslu clt",
      "userId": "00844546079669052102"
     }
    }
   },
   "source": [
    "# import warnings\n",
    "# warnings.filterwarnings('ignore')\n",
    "import pandas as pd\n",
    "import numpy as np\n",
    "import re\n",
    "import nltk\n",
    "import matplotlib\n",
    "import ssl\n",
    "\n",
    "import matplotlib.pyplot as plt\n",
    "\n",
    "## Default Style Settings\n",
    "matplotlib.rcParams['figure.dpi'] = 150\n",
    "pd.options.display.max_colwidth = 200"
   ],
   "execution_count": 6,
   "outputs": []
  },
  {
   "cell_type": "code",
   "metadata": {
    "colab": {
     "base_uri": "https://localhost:8080/"
    },
    "id": "OErkxLsrileT",
    "executionInfo": {
     "status": "ok",
     "timestamp": 1669287966219,
     "user_tz": -60,
     "elapsed": 39,
     "user": {
      "displayName": "hslu clt",
      "userId": "00844546079669052102"
     }
    },
    "outputId": "740fa5ca-f92c-435e-d0b9-9587aabb5c29"
   },
   "source": [
    "# Downloads\n",
    "try:\n",
    "     _create_unverified_https_context = ssl._create_unverified_context\n",
    "except AttributeError:\n",
    "     pass\n",
    "else:\n",
    "    ssl._create_default_https_context = _create_unverified_https_context\n",
    "\n",
    "nltk.download('stopwords')"
   ],
   "execution_count": 7,
   "outputs": [
    {
     "name": "stderr",
     "output_type": "stream",
     "text": [
      "[nltk_data] Downloading package stopwords to /Users/gcm/nltk_data...\n",
      "[nltk_data]   Package stopwords is already up-to-date!\n"
     ]
    },
    {
     "data": {
      "text/plain": "True"
     },
     "execution_count": 7,
     "metadata": {},
     "output_type": "execute_result"
    }
   ]
  },
  {
   "cell_type": "markdown",
   "metadata": {
    "id": "suze4erWxsg_"
   },
   "source": [
    "## Bag-of-Words Representation\n",
    "In `CountVectorizer()`, we can utilize its parameters:\n",
    "\n",
    "- `min_df`: When building the vocabulary, the vectorizer will ignore terms that have a **document frequency** strictly lower than the given threshold. `float` = the parameter represents a proportion of documents; `integer` = absolute counts.\n",
    "\n",
    "- `max_df`: When building the vocabulary, the vectorizer will ignore terms that have a **document frequency** strictly higher than the given threshold (corpus-specific stop words). `float` = the parameter represents a proportion of documents; `integer` = absolute counts.\n",
    "\n",
    "- `max_features` : Build a vocabulary that only consider the top `max_features` ordered by term frequency across the corpus.\n",
    "\n",
    "The CountVectorizer will select the words/features/terms which occur the most frequently. It takes absolute values so if you set the ‘max_features = 3’, it will select the 3 most common words in the data.\n",
    "\n",
    "- `ngram_range` : The lower and upper boundary of the range of n-values for different word n-grams. `tuple` (min_n, max_n), default=(1, 1).\n",
    "\n",
    "- `token_pattern`: Regular expression denoting what constitutes a \"token\" in vocabulary. The default regexp select tokens of 2 or more alphanumeric characters (Note: **punctuation** is completely ignored and always treated as a token separator).\n",
    "\n",
    "- `lower` Converts all characters to lowercase before tokenizing. Default is set to true and takes boolean value.\n",
    "\n",
    "- `stop_words`: sklearn built-in stop words list \n",
    "CountVectorizer(stop_words=’english’\n",
    "\n",
    "- `binary`: Binary Term Frequency\n",
    "Binary Term Frequency captures presence (1) or absence (0) of term in document. \n",
    "By setting ‘binary = True’, the CountVectorizer no more takes into consideration the frequency of the term/word. If it occurs it’s set to 1 otherwise 0. By default, binary is set to False. This is usually used when the count of the term/word does not provide useful information to the machine learning model."
   ]
  },
  {
   "cell_type": "markdown",
   "metadata": {
    "id": "216cMIgqLe2D"
   },
   "source": [
    "### Word encodings"
   ]
  },
  {
   "cell_type": "code",
   "metadata": {
    "colab": {
     "base_uri": "https://localhost:8080/"
    },
    "id": "UNcYLglkHRoZ",
    "executionInfo": {
     "status": "ok",
     "timestamp": 1669287966219,
     "user_tz": -60,
     "elapsed": 32,
     "user": {
      "displayName": "hslu clt",
      "userId": "00844546079669052102"
     }
    },
    "outputId": "b4be2c48-9392-405a-96f6-cca17845cfc7"
   },
   "source": [
    "from sklearn.feature_extraction.text import CountVectorizer\n",
    "words = ['robot', 'woman', 'woman', 'man', 'boy']\n",
    "# BOW features in sparse format\n",
    "# Create vectorizer\n",
    "cv = CountVectorizer(min_df=0., max_df=1.)\n",
    "\n",
    "# Create vector by passing the text corpus into the vectorizer to get back counts\n",
    "cv_matrix = cv.fit_transform(words)\n",
    "cv_matrix"
   ],
   "execution_count": 8,
   "outputs": [
    {
     "data": {
      "text/plain": "<5x4 sparse matrix of type '<class 'numpy.int64'>'\n\twith 5 stored elements in Compressed Sparse Row format>"
     },
     "execution_count": 8,
     "metadata": {},
     "output_type": "execute_result"
    }
   ]
  },
  {
   "cell_type": "code",
   "metadata": {
    "colab": {
     "base_uri": "https://localhost:8080/"
    },
    "id": "Kjd32memOFg8",
    "executionInfo": {
     "status": "ok",
     "timestamp": 1669287966221,
     "user_tz": -60,
     "elapsed": 30,
     "user": {
      "displayName": "hslu clt",
      "userId": "00844546079669052102"
     }
    },
    "outputId": "d7242d3f-0d7d-42d7-cf23-e6029c3832af"
   },
   "source": [
    "# Now, we can inspect how our vectorizer vectorized the text. Output a list of words used, and their index in the vectors\n",
    "cv.vocabulary_"
   ],
   "execution_count": 9,
   "outputs": [
    {
     "data": {
      "text/plain": "{'robot': 2, 'woman': 3, 'man': 1, 'boy': 0}"
     },
     "execution_count": 9,
     "metadata": {},
     "output_type": "execute_result"
    }
   ]
  },
  {
   "cell_type": "code",
   "metadata": {
    "colab": {
     "base_uri": "https://localhost:8080/"
    },
    "id": "xKLOneS1OKVl",
    "executionInfo": {
     "status": "ok",
     "timestamp": 1669287966221,
     "user_tz": -60,
     "elapsed": 27,
     "user": {
      "displayName": "hslu clt",
      "userId": "00844546079669052102"
     }
    },
    "outputId": "dd0e7626-6203-4f98-fca3-332f87c42f4d"
   },
   "source": [
    "# Check out your corpus\n",
    "vocab = cv.get_feature_names_out()\n",
    "vocab"
   ],
   "execution_count": 10,
   "outputs": [
    {
     "data": {
      "text/plain": "array(['boy', 'man', 'robot', 'woman'], dtype=object)"
     },
     "execution_count": 10,
     "metadata": {},
     "output_type": "execute_result"
    }
   ]
  },
  {
   "cell_type": "code",
   "metadata": {
    "colab": {
     "base_uri": "https://localhost:8080/"
    },
    "id": "9bKuBzQyOPMK",
    "executionInfo": {
     "status": "ok",
     "timestamp": 1669287966221,
     "user_tz": -60,
     "elapsed": 24,
     "user": {
      "displayName": "hslu clt",
      "userId": "00844546079669052102"
     }
    },
    "outputId": "d08ea43d-48a6-42fd-a794-d55df71dcab2"
   },
   "source": [
    "print(cv_matrix) # document, index, count\n",
    "# Read as follows: The document zero, which is 'robot', has the vocabulary item 'robot' indexed by 1 once."
   ],
   "execution_count": 11,
   "outputs": [
    {
     "name": "stdout",
     "output_type": "stream",
     "text": [
      "  (0, 2)\t1\n",
      "  (1, 3)\t1\n",
      "  (2, 3)\t1\n",
      "  (3, 1)\t1\n",
      "  (4, 0)\t1\n"
     ]
    }
   ]
  },
  {
   "cell_type": "code",
   "metadata": {
    "colab": {
     "base_uri": "https://localhost:8080/"
    },
    "id": "GERHUXx1Pr6R",
    "executionInfo": {
     "status": "ok",
     "timestamp": 1669287966221,
     "user_tz": -60,
     "elapsed": 23,
     "user": {
      "displayName": "hslu clt",
      "userId": "00844546079669052102"
     }
    },
    "outputId": "2aac8b21-43c7-44af-855c-ea824a00f16f"
   },
   "source": [
    "cv_matrix = cv_matrix.toarray()\n",
    "print(cv_matrix)"
   ],
   "execution_count": 12,
   "outputs": [
    {
     "name": "stdout",
     "output_type": "stream",
     "text": [
      "[[0 0 1 0]\n",
      " [0 0 0 1]\n",
      " [0 0 0 1]\n",
      " [0 1 0 0]\n",
      " [1 0 0 0]]\n"
     ]
    }
   ]
  },
  {
   "cell_type": "code",
   "metadata": {
    "colab": {
     "base_uri": "https://localhost:8080/",
     "height": 143
    },
    "id": "v2MLxbadPXDv",
    "executionInfo": {
     "status": "ok",
     "timestamp": 1669287966222,
     "user_tz": -60,
     "elapsed": 21,
     "user": {
      "displayName": "hslu clt",
      "userId": "00844546079669052102"
     }
    },
    "outputId": "503bb44a-5c0f-4c4f-d72d-741c09c37dbe"
   },
   "source": [
    "pd.DataFrame(cv_matrix, columns=vocab) # rows are the documents, coloumns the features"
   ],
   "execution_count": 13,
   "outputs": [
    {
     "data": {
      "text/plain": "   boy  man  robot  woman\n0    0    0      1      0\n1    0    0      0      1\n2    0    0      0      1\n3    0    1      0      0\n4    1    0      0      0",
      "text/html": "<div>\n<style scoped>\n    .dataframe tbody tr th:only-of-type {\n        vertical-align: middle;\n    }\n\n    .dataframe tbody tr th {\n        vertical-align: top;\n    }\n\n    .dataframe thead th {\n        text-align: right;\n    }\n</style>\n<table border=\"1\" class=\"dataframe\">\n  <thead>\n    <tr style=\"text-align: right;\">\n      <th></th>\n      <th>boy</th>\n      <th>man</th>\n      <th>robot</th>\n      <th>woman</th>\n    </tr>\n  </thead>\n  <tbody>\n    <tr>\n      <th>0</th>\n      <td>0</td>\n      <td>0</td>\n      <td>1</td>\n      <td>0</td>\n    </tr>\n    <tr>\n      <th>1</th>\n      <td>0</td>\n      <td>0</td>\n      <td>0</td>\n      <td>1</td>\n    </tr>\n    <tr>\n      <th>2</th>\n      <td>0</td>\n      <td>0</td>\n      <td>0</td>\n      <td>1</td>\n    </tr>\n    <tr>\n      <th>3</th>\n      <td>0</td>\n      <td>1</td>\n      <td>0</td>\n      <td>0</td>\n    </tr>\n    <tr>\n      <th>4</th>\n      <td>1</td>\n      <td>0</td>\n      <td>0</td>\n      <td>0</td>\n    </tr>\n  </tbody>\n</table>\n</div>"
     },
     "execution_count": 13,
     "metadata": {},
     "output_type": "execute_result"
    }
   ]
  },
  {
   "cell_type": "code",
   "metadata": {
    "id": "5es0epS9QmYB",
    "executionInfo": {
     "status": "ok",
     "timestamp": 1669287966222,
     "user_tz": -60,
     "elapsed": 19,
     "user": {
      "displayName": "hslu clt",
      "userId": "00844546079669052102"
     }
    }
   },
   "source": [
    "# Try out changing the input words\n",
    "# Add a new word\n",
    "# Add the same word"
   ],
   "execution_count": 14,
   "outputs": []
  },
  {
   "cell_type": "code",
   "metadata": {
    "colab": {
     "base_uri": "https://localhost:8080/",
     "height": 175
    },
    "id": "ACu-6MTyQ0Bn",
    "executionInfo": {
     "status": "ok",
     "timestamp": 1669287966223,
     "user_tz": -60,
     "elapsed": 20,
     "user": {
      "displayName": "hslu clt",
      "userId": "00844546079669052102"
     }
    },
    "outputId": "f070e0dd-9fc6-44d3-ecc2-d3b46004e204"
   },
   "source": [
    "words_a = ['robot', 'woman', 'man', 'man', 'boy']\n",
    "cv_matrix = cv.fit_transform(words_a).toarray()\n",
    "pd.DataFrame(cv_matrix, columns=vocab) # rows are the documents, coloumns the features"
   ],
   "execution_count": 15,
   "outputs": [
    {
     "data": {
      "text/plain": "   boy  man  robot  woman\n0    0    0      1      0\n1    0    0      0      1\n2    0    1      0      0\n3    0    1      0      0\n4    1    0      0      0",
      "text/html": "<div>\n<style scoped>\n    .dataframe tbody tr th:only-of-type {\n        vertical-align: middle;\n    }\n\n    .dataframe tbody tr th {\n        vertical-align: top;\n    }\n\n    .dataframe thead th {\n        text-align: right;\n    }\n</style>\n<table border=\"1\" class=\"dataframe\">\n  <thead>\n    <tr style=\"text-align: right;\">\n      <th></th>\n      <th>boy</th>\n      <th>man</th>\n      <th>robot</th>\n      <th>woman</th>\n    </tr>\n  </thead>\n  <tbody>\n    <tr>\n      <th>0</th>\n      <td>0</td>\n      <td>0</td>\n      <td>1</td>\n      <td>0</td>\n    </tr>\n    <tr>\n      <th>1</th>\n      <td>0</td>\n      <td>0</td>\n      <td>0</td>\n      <td>1</td>\n    </tr>\n    <tr>\n      <th>2</th>\n      <td>0</td>\n      <td>1</td>\n      <td>0</td>\n      <td>0</td>\n    </tr>\n    <tr>\n      <th>3</th>\n      <td>0</td>\n      <td>1</td>\n      <td>0</td>\n      <td>0</td>\n    </tr>\n    <tr>\n      <th>4</th>\n      <td>1</td>\n      <td>0</td>\n      <td>0</td>\n      <td>0</td>\n    </tr>\n  </tbody>\n</table>\n</div>"
     },
     "execution_count": 15,
     "metadata": {},
     "output_type": "execute_result"
    }
   ]
  },
  {
   "cell_type": "code",
   "metadata": {
    "colab": {
     "base_uri": "https://localhost:8080/"
    },
    "id": "nAJi9wwcReqw",
    "executionInfo": {
     "status": "ok",
     "timestamp": 1669287966223,
     "user_tz": -60,
     "elapsed": 19,
     "user": {
      "displayName": "hslu clt",
      "userId": "00844546079669052102"
     }
    },
    "outputId": "6079fb0d-4084-4ebb-f053-70bded5e06e2"
   },
   "source": [
    "words_b = ['robot', 'woman', 'man, man', 'boy']\n",
    "#cv = CountVectorizer(min_df=0., max_df=1., binary=True)\n",
    "cv_matrix = cv.fit_transform(words_b)\n",
    "print(cv_matrix)\n",
    "\n",
    "# Check out your vocab\n",
    "vocab = cv.get_feature_names_out()\n",
    "print(vocab)"
   ],
   "execution_count": 16,
   "outputs": [
    {
     "name": "stdout",
     "output_type": "stream",
     "text": [
      "  (0, 2)\t1\n",
      "  (1, 3)\t1\n",
      "  (2, 1)\t2\n",
      "  (3, 0)\t1\n",
      "['boy' 'man' 'robot' 'woman']\n"
     ]
    }
   ]
  },
  {
   "cell_type": "code",
   "metadata": {
    "colab": {
     "base_uri": "https://localhost:8080/",
     "height": 143
    },
    "id": "wEEElxGFRzha",
    "executionInfo": {
     "status": "ok",
     "timestamp": 1669287966224,
     "user_tz": -60,
     "elapsed": 17,
     "user": {
      "displayName": "hslu clt",
      "userId": "00844546079669052102"
     }
    },
    "outputId": "2c3acf94-4249-4532-dd0b-6c29029e228a"
   },
   "source": [
    "# Inspect new dataframe\n",
    "cv_matrix = cv.fit_transform(words_b).toarray()\n",
    "pd.DataFrame(cv_matrix, columns=vocab)               # rows are the documents, columns the features"
   ],
   "execution_count": 17,
   "outputs": [
    {
     "data": {
      "text/plain": "   boy  man  robot  woman\n0    0    0      1      0\n1    0    0      0      1\n2    0    2      0      0\n3    1    0      0      0",
      "text/html": "<div>\n<style scoped>\n    .dataframe tbody tr th:only-of-type {\n        vertical-align: middle;\n    }\n\n    .dataframe tbody tr th {\n        vertical-align: top;\n    }\n\n    .dataframe thead th {\n        text-align: right;\n    }\n</style>\n<table border=\"1\" class=\"dataframe\">\n  <thead>\n    <tr style=\"text-align: right;\">\n      <th></th>\n      <th>boy</th>\n      <th>man</th>\n      <th>robot</th>\n      <th>woman</th>\n    </tr>\n  </thead>\n  <tbody>\n    <tr>\n      <th>0</th>\n      <td>0</td>\n      <td>0</td>\n      <td>1</td>\n      <td>0</td>\n    </tr>\n    <tr>\n      <th>1</th>\n      <td>0</td>\n      <td>0</td>\n      <td>0</td>\n      <td>1</td>\n    </tr>\n    <tr>\n      <th>2</th>\n      <td>0</td>\n      <td>2</td>\n      <td>0</td>\n      <td>0</td>\n    </tr>\n    <tr>\n      <th>3</th>\n      <td>1</td>\n      <td>0</td>\n      <td>0</td>\n      <td>0</td>\n    </tr>\n  </tbody>\n</table>\n</div>"
     },
     "execution_count": 17,
     "metadata": {},
     "output_type": "execute_result"
    }
   ]
  },
  {
   "cell_type": "markdown",
   "metadata": {
    "id": "-IzLbUemZBd1"
   },
   "source": [
    "### Binarizer \n",
    "In Scikit-Learn, one-hot encoding is implemented with the Binarizer transformer in the preprocessing module. The Binarizer takes only numeric data, so the text data must be transformed into a numeric space using the CountVectorizer ahead of one-hot encoding. The Binarizer class uses a threshold value (0 by default) such that all values of the vector that are less than or equal to the threshold are set to zero, while those that are greater than the threshold are set to 1. Therefore, by default, the Binarizer converts all frequency values to 1 while maintaining the zero-valued frequencies."
   ]
  },
  {
   "cell_type": "code",
   "metadata": {
    "colab": {
     "base_uri": "https://localhost:8080/",
     "height": 263
    },
    "id": "euKaEmoXYSR7",
    "executionInfo": {
     "status": "ok",
     "timestamp": 1669287967212,
     "user_tz": -60,
     "elapsed": 40,
     "user": {
      "displayName": "hslu clt",
      "userId": "00844546079669052102"
     }
    },
    "outputId": "5aa0697d-f872-40fa-e2bf-4c1cf00f9406"
   },
   "source": [
    "from sklearn.preprocessing import Binarizer\n",
    "\n",
    "cv   = CountVectorizer()\n",
    "\n",
    "cv_matrix = cv.fit_transform(words_b)                 # words_b = ['robot', 'woman', 'man, man']\n",
    "vocab = cv.get_feature_names_out()\n",
    "\n",
    "onehot = Binarizer()\n",
    "oh_matrix = onehot.fit_transform(cv_matrix.toarray())\n",
    "print(oh_matrix)\n",
    "pd.DataFrame(oh_matrix, columns=vocab)"
   ],
   "execution_count": 18,
   "outputs": [
    {
     "name": "stdout",
     "output_type": "stream",
     "text": [
      "[[0 0 1 0]\n",
      " [0 0 0 1]\n",
      " [0 1 0 0]\n",
      " [1 0 0 0]]\n"
     ]
    },
    {
     "data": {
      "text/plain": "   boy  man  robot  woman\n0    0    0      1      0\n1    0    0      0      1\n2    0    1      0      0\n3    1    0      0      0",
      "text/html": "<div>\n<style scoped>\n    .dataframe tbody tr th:only-of-type {\n        vertical-align: middle;\n    }\n\n    .dataframe tbody tr th {\n        vertical-align: top;\n    }\n\n    .dataframe thead th {\n        text-align: right;\n    }\n</style>\n<table border=\"1\" class=\"dataframe\">\n  <thead>\n    <tr style=\"text-align: right;\">\n      <th></th>\n      <th>boy</th>\n      <th>man</th>\n      <th>robot</th>\n      <th>woman</th>\n    </tr>\n  </thead>\n  <tbody>\n    <tr>\n      <th>0</th>\n      <td>0</td>\n      <td>0</td>\n      <td>1</td>\n      <td>0</td>\n    </tr>\n    <tr>\n      <th>1</th>\n      <td>0</td>\n      <td>0</td>\n      <td>0</td>\n      <td>1</td>\n    </tr>\n    <tr>\n      <th>2</th>\n      <td>0</td>\n      <td>1</td>\n      <td>0</td>\n      <td>0</td>\n    </tr>\n    <tr>\n      <th>3</th>\n      <td>1</td>\n      <td>0</td>\n      <td>0</td>\n      <td>0</td>\n    </tr>\n  </tbody>\n</table>\n</div>"
     },
     "execution_count": 18,
     "metadata": {},
     "output_type": "execute_result"
    }
   ]
  },
  {
   "cell_type": "markdown",
   "metadata": {
    "id": "DLxN8h0-jEyW"
   },
   "source": [
    "The .toarray() method is optional; it converts the sparse matrix representation to a dense one. In corpora with large vocabularies, the sparse matrix representation is much better. Note that we could also use CountVectorizer(binary=True) to achieve one-hot encoding in the above, obviating the Binarizer."
   ]
  },
  {
   "cell_type": "markdown",
   "metadata": {
    "id": "yV9MfZsbxshA"
   },
   "source": [
    "### Corpus\n",
    "We use a small play corpus (list of sentences). Each sentence represents a document and has a label (topic). You already know these topics from earlier classes.\n"
   ]
  },
  {
   "cell_type": "code",
   "metadata": {
    "scrolled": false,
    "id": "llE7eCU-xshA",
    "colab": {
     "base_uri": "https://localhost:8080/"
    },
    "executionInfo": {
     "status": "ok",
     "timestamp": 1669287967213,
     "user_tz": -60,
     "elapsed": 37,
     "user": {
      "displayName": "hslu clt",
      "userId": "00844546079669052102"
     }
    },
    "outputId": "4447f25c-ff64-4b9c-efbd-2baa9d09a90b"
   },
   "source": [
    "corpus = [\n",
    "    'This is a ripe toasty wine.', \n",
    "    'A roasty, toasty wine with notes of mocha',\n",
    "    'Spiced coconut chicken with coriander and salt.',\n",
    "    'Coriander chicken pasta.',\n",
    "    'Great dress for vacation.',\n",
    "    'Perfect dress, perfect fit!'\n",
    "]\n",
    "labels = [\n",
    "    'wine', 'wine', 'food', 'food', 'clothing', 'clothing']\n",
    "\n",
    "corpus, labels"
   ],
   "execution_count": 19,
   "outputs": [
    {
     "data": {
      "text/plain": "(['This is a ripe toasty wine.',\n  'A roasty, toasty wine with notes of mocha',\n  'Spiced coconut chicken with coriander and salt.',\n  'Coriander chicken pasta.',\n  'Great dress for vacation.',\n  'Perfect dress, perfect fit!'],\n ['wine', 'wine', 'food', 'food', 'clothing', 'clothing'])"
     },
     "execution_count": 19,
     "metadata": {},
     "output_type": "execute_result"
    }
   ]
  },
  {
   "cell_type": "code",
   "metadata": {
    "id": "3Qb-oE4shWIM",
    "executionInfo": {
     "status": "ok",
     "timestamp": 1669287967213,
     "user_tz": -60,
     "elapsed": 36,
     "user": {
      "displayName": "hslu clt",
      "userId": "00844546079669052102"
     }
    }
   },
   "source": [
    "# List to np.array\n",
    "corpus = np.array(corpus)\n",
    "corpus"
   ],
   "execution_count": 20,
   "outputs": [
    {
     "data": {
      "text/plain": "array(['This is a ripe toasty wine.',\n       'A roasty, toasty wine with notes of mocha',\n       'Spiced coconut chicken with coriander and salt.',\n       'Coriander chicken pasta.', 'Great dress for vacation.',\n       'Perfect dress, perfect fit!'], dtype='<U47')"
     },
     "execution_count": 20,
     "metadata": {},
     "output_type": "execute_result"
    }
   ]
  },
  {
   "cell_type": "code",
   "metadata": {
    "colab": {
     "base_uri": "https://localhost:8080/",
     "height": 597
    },
    "id": "1qMLE_T2gyip",
    "executionInfo": {
     "status": "ok",
     "timestamp": 1669287967213,
     "user_tz": -60,
     "elapsed": 35,
     "user": {
      "displayName": "hslu clt",
      "userId": "00844546079669052102"
     }
    },
    "outputId": "1c05fb35-17ef-46e8-daaf-f7802410dc2d"
   },
   "source": [
    "# Create dataframe\n",
    "corpus_df = pd.DataFrame({'Document': corpus, 'Category': labels})\n",
    "corpus_df"
   ],
   "execution_count": 21,
   "outputs": [
    {
     "data": {
      "text/plain": "                                          Document  Category\n0                      This is a ripe toasty wine.      wine\n1        A roasty, toasty wine with notes of mocha      wine\n2  Spiced coconut chicken with coriander and salt.      food\n3                         Coriander chicken pasta.      food\n4                        Great dress for vacation.  clothing\n5                      Perfect dress, perfect fit!  clothing",
      "text/html": "<div>\n<style scoped>\n    .dataframe tbody tr th:only-of-type {\n        vertical-align: middle;\n    }\n\n    .dataframe tbody tr th {\n        vertical-align: top;\n    }\n\n    .dataframe thead th {\n        text-align: right;\n    }\n</style>\n<table border=\"1\" class=\"dataframe\">\n  <thead>\n    <tr style=\"text-align: right;\">\n      <th></th>\n      <th>Document</th>\n      <th>Category</th>\n    </tr>\n  </thead>\n  <tbody>\n    <tr>\n      <th>0</th>\n      <td>This is a ripe toasty wine.</td>\n      <td>wine</td>\n    </tr>\n    <tr>\n      <th>1</th>\n      <td>A roasty, toasty wine with notes of mocha</td>\n      <td>wine</td>\n    </tr>\n    <tr>\n      <th>2</th>\n      <td>Spiced coconut chicken with coriander and salt.</td>\n      <td>food</td>\n    </tr>\n    <tr>\n      <th>3</th>\n      <td>Coriander chicken pasta.</td>\n      <td>food</td>\n    </tr>\n    <tr>\n      <th>4</th>\n      <td>Great dress for vacation.</td>\n      <td>clothing</td>\n    </tr>\n    <tr>\n      <th>5</th>\n      <td>Perfect dress, perfect fit!</td>\n      <td>clothing</td>\n    </tr>\n  </tbody>\n</table>\n</div>"
     },
     "execution_count": 21,
     "metadata": {},
     "output_type": "execute_result"
    }
   ]
  },
  {
   "cell_type": "markdown",
   "metadata": {
    "id": "0_Hz13EwxshB"
   },
   "source": [
    "### Text Preprocessing\n",
    "\n",
    "- Remove special characters\n",
    "- Normalize letter case\n",
    "- Remove redundant spaces\n",
    "- Tokenize each document into word-tokens\n",
    "- Remove stop words\n",
    "- All these preprocessing steps are wrapped in one function, `preprocess_document()`."
   ]
  },
  {
   "cell_type": "code",
   "metadata": {
    "id": "Wq5x61PhxshB",
    "executionInfo": {
     "status": "ok",
     "timestamp": 1669287967214,
     "user_tz": -60,
     "elapsed": 35,
     "user": {
      "displayName": "hslu clt",
      "userId": "00844546079669052102"
     }
    }
   },
   "source": [
    "wpt = nltk.WordPunctTokenizer()\n",
    "stop_words = nltk.corpus.stopwords.words('english')\n",
    "\n",
    "def preprocess_document(doc):\n",
    "    # lower case and remove special characters\\whitespaces\n",
    "    doc = re.sub(r'[^a-zA-Z\\s]', '', doc, re.I | re.A)\n",
    "    doc = doc.lower()\n",
    "    doc = doc.strip()\n",
    "    # tokenize document\n",
    "    tokens = wpt.tokenize(doc)\n",
    "    # filter stopwords out of document\n",
    "    filtered_tokens = [token for token in tokens if token not in stop_words]\n",
    "    # re-create document from filtered tokens\n",
    "    doc = ' '.join(filtered_tokens)\n",
    "    return doc"
   ],
   "execution_count": 22,
   "outputs": []
  },
  {
   "cell_type": "code",
   "metadata": {
    "colab": {
     "base_uri": "https://localhost:8080/",
     "height": 901
    },
    "id": "haWXC4H8kOmc",
    "executionInfo": {
     "status": "ok",
     "timestamp": 1669287967214,
     "user_tz": -60,
     "elapsed": 35,
     "user": {
      "displayName": "hslu clt",
      "userId": "00844546079669052102"
     }
    },
    "outputId": "d787c093-90e5-406d-b018-39b21156182e"
   },
   "source": [
    "# Apply the preprocessing function with a random sentence first\n",
    "doc_luzern = \"Lucerne is a beautiful town with a lot of nice places to visit.\"\n",
    "preprocess_document(doc_luzern)"
   ],
   "execution_count": 23,
   "outputs": [
    {
     "data": {
      "text/plain": "'lucerne beautiful town lot nice places visit'"
     },
     "execution_count": 23,
     "metadata": {},
     "output_type": "execute_result"
    }
   ]
  },
  {
   "cell_type": "code",
   "metadata": {
    "colab": {
     "base_uri": "https://localhost:8080/",
     "height": 387
    },
    "id": "FGzFegejk447",
    "executionInfo": {
     "status": "ok",
     "timestamp": 1669287967214,
     "user_tz": -60,
     "elapsed": 34,
     "user": {
      "displayName": "hslu clt",
      "userId": "00844546079669052102"
     }
    },
    "outputId": "e56134d8-9ad6-4a69-f6d8-55771387cdd5"
   },
   "source": [
    "# Let's go back to our original play corpus now and preprocess the first document: 'This is a ripe toasty wine.'\n",
    "print(corpus[0])\n",
    "preprocess_document(corpus[0])"
   ],
   "execution_count": 24,
   "outputs": [
    {
     "name": "stdout",
     "output_type": "stream",
     "text": [
      "This is a ripe toasty wine.\n"
     ]
    },
    {
     "data": {
      "text/plain": "'ripe toasty wine'"
     },
     "execution_count": 24,
     "metadata": {},
     "output_type": "execute_result"
    }
   ]
  },
  {
   "cell_type": "markdown",
   "metadata": {
    "id": "RhdBOaa4TOMv"
   },
   "source": [
    "What elements have been removed via preprocessing? What other preprocessing steps can you notice here?"
   ]
  },
  {
   "cell_type": "code",
   "metadata": {
    "id": "4A6i0LuFiNTq",
    "executionInfo": {
     "status": "ok",
     "timestamp": 1669287967214,
     "user_tz": -60,
     "elapsed": 33,
     "user": {
      "displayName": "hslu clt",
      "userId": "00844546079669052102"
     }
    }
   },
   "source": [
    "normalize_corpus = np.vectorize(preprocess_document) ## The `vectorize` function is provided primarily for convenience, not for performance. The implementation is essentially a for loop."
   ],
   "execution_count": 25,
   "outputs": []
  },
  {
   "cell_type": "code",
   "metadata": {
    "id": "MS4oCBavxshB",
    "colab": {
     "base_uri": "https://localhost:8080/"
    },
    "executionInfo": {
     "status": "ok",
     "timestamp": 1669287967215,
     "user_tz": -60,
     "elapsed": 33,
     "user": {
      "displayName": "hslu clt",
      "userId": "00844546079669052102"
     }
    },
    "outputId": "e5ba3788-7ca5-4546-e0c5-03a7359f3805"
   },
   "source": [
    "# Preprocess the small corpus\n",
    "norm_corpus = normalize_corpus(corpus)\n",
    "print(corpus)\n",
    "print(\"=\"*50)\n",
    "print(norm_corpus)"
   ],
   "execution_count": 26,
   "outputs": [
    {
     "name": "stdout",
     "output_type": "stream",
     "text": [
      "['This is a ripe toasty wine.' 'A roasty, toasty wine with notes of mocha'\n",
      " 'Spiced coconut chicken with coriander and salt.'\n",
      " 'Coriander chicken pasta.' 'Great dress for vacation.'\n",
      " 'Perfect dress, perfect fit!']\n",
      "==================================================\n",
      "['ripe toasty wine' 'roasty toasty wine notes mocha'\n",
      " 'spiced coconut chicken coriander salt' 'coriander chicken pasta'\n",
      " 'great dress vacation' 'perfect dress perfect fit']\n"
     ]
    }
   ]
  },
  {
   "cell_type": "markdown",
   "metadata": {
    "id": "18mrrB6lxshC"
   },
   "source": [
    "### `CountVectorizer()` from `sklearn`\n",
    "\n",
    "Learn:\n",
    "https://towardsdatascience.com/natural-language-processing-count-vectorization-with-scikit-learn-e7804269bb5e"
   ]
  },
  {
   "cell_type": "code",
   "execution_count": 27,
   "outputs": [
    {
     "data": {
      "text/plain": "numpy.ndarray"
     },
     "execution_count": 27,
     "metadata": {},
     "output_type": "execute_result"
    }
   ],
   "source": [
    "type(norm_corpus)"
   ],
   "metadata": {
    "collapsed": false
   }
  },
  {
   "cell_type": "code",
   "metadata": {
    "id": "xJBOuvXwxshC",
    "executionInfo": {
     "status": "ok",
     "timestamp": 1669287967215,
     "user_tz": -60,
     "elapsed": 32,
     "user": {
      "displayName": "hslu clt",
      "userId": "00844546079669052102"
     }
    }
   },
   "source": [
    "from sklearn.feature_extraction.text import CountVectorizer"
   ],
   "execution_count": 28,
   "outputs": []
  },
  {
   "cell_type": "code",
   "metadata": {
    "id": "3nID1nMTl1lh",
    "executionInfo": {
     "status": "ok",
     "timestamp": 1669287967216,
     "user_tz": -60,
     "elapsed": 32,
     "user": {
      "displayName": "hslu clt",
      "userId": "00844546079669052102"
     }
    }
   },
   "source": [
    "# BOW features in sparse format\n",
    "# Create vectorizer\n",
    "cv = CountVectorizer(min_df=0., max_df=1.)\n",
    "\n",
    "# Create vector by passing the text corpus into the vectorizer to get back counts\n",
    "cv_matrix = cv.fit_transform(norm_corpus)\n",
    "cv_matrix"
   ],
   "execution_count": 29,
   "outputs": [
    {
     "data": {
      "text/plain": "<6x17 sparse matrix of type '<class 'numpy.int64'>'\n\twith 22 stored elements in Compressed Sparse Row format>"
     },
     "execution_count": 29,
     "metadata": {},
     "output_type": "execute_result"
    }
   ]
  },
  {
   "cell_type": "code",
   "metadata": {
    "colab": {
     "base_uri": "https://localhost:8080/"
    },
    "id": "_Ag36FBrp4Nl",
    "executionInfo": {
     "status": "ok",
     "timestamp": 1669287967216,
     "user_tz": -60,
     "elapsed": 31,
     "user": {
      "displayName": "hslu clt",
      "userId": "00844546079669052102"
     }
    },
    "outputId": "309b5938-4134-493d-9bea-155992c8b93e"
   },
   "source": [
    "# Now, we can inspect how our vectorizer vectorized the text. Output a list of words used, and their index in the vectors\n",
    "cv.vocabulary_"
   ],
   "execution_count": 30,
   "outputs": [
    {
     "data": {
      "text/plain": "{'ripe': 10,\n 'toasty': 14,\n 'wine': 16,\n 'roasty': 11,\n 'notes': 7,\n 'mocha': 6,\n 'spiced': 13,\n 'coconut': 1,\n 'chicken': 0,\n 'coriander': 2,\n 'salt': 12,\n 'pasta': 8,\n 'great': 5,\n 'dress': 3,\n 'vacation': 15,\n 'perfect': 9,\n 'fit': 4}"
     },
     "execution_count": 30,
     "metadata": {},
     "output_type": "execute_result"
    }
   ]
  },
  {
   "cell_type": "code",
   "metadata": {
    "colab": {
     "base_uri": "https://localhost:8080/"
    },
    "id": "WzYopqjEn9uh",
    "executionInfo": {
     "status": "ok",
     "timestamp": 1669287967216,
     "user_tz": -60,
     "elapsed": 31,
     "user": {
      "displayName": "hslu clt",
      "userId": "00844546079669052102"
     }
    },
    "outputId": "49a50de8-c376-42b1-87dc-6cef712c95f2"
   },
   "source": [
    "len(norm_corpus)"
   ],
   "execution_count": 31,
   "outputs": [
    {
     "data": {
      "text/plain": "6"
     },
     "execution_count": 31,
     "metadata": {},
     "output_type": "execute_result"
    }
   ]
  },
  {
   "cell_type": "code",
   "metadata": {
    "colab": {
     "base_uri": "https://localhost:8080/"
    },
    "id": "-3V3oFz8mfOL",
    "executionInfo": {
     "status": "ok",
     "timestamp": 1669287967216,
     "user_tz": -60,
     "elapsed": 30,
     "user": {
      "displayName": "hslu clt",
      "userId": "00844546079669052102"
     }
    },
    "outputId": "ce4d8f33-97c2-4dce-fea9-bb07db1ce518"
   },
   "source": [
    "# Check out your corpus' vocab only\n",
    "vocab = cv.get_feature_names_out()\n",
    "vocab"
   ],
   "execution_count": 32,
   "outputs": [
    {
     "data": {
      "text/plain": "array(['chicken', 'coconut', 'coriander', 'dress', 'fit', 'great',\n       'mocha', 'notes', 'pasta', 'perfect', 'ripe', 'roasty', 'salt',\n       'spiced', 'toasty', 'vacation', 'wine'], dtype=object)"
     },
     "execution_count": 32,
     "metadata": {},
     "output_type": "execute_result"
    }
   ]
  },
  {
   "cell_type": "code",
   "metadata": {
    "colab": {
     "base_uri": "https://localhost:8080/"
    },
    "id": "gyq-LCCLobpa",
    "executionInfo": {
     "status": "ok",
     "timestamp": 1669287967217,
     "user_tz": -60,
     "elapsed": 30,
     "user": {
      "displayName": "hslu clt",
      "userId": "00844546079669052102"
     }
    },
    "outputId": "7012c21a-b926-4c45-c041-9d102f488317"
   },
   "source": [
    "len(vocab)\n",
    "# Dimensionality equals the size of vocab"
   ],
   "execution_count": 33,
   "outputs": [
    {
     "data": {
      "text/plain": "17"
     },
     "execution_count": 33,
     "metadata": {},
     "output_type": "execute_result"
    }
   ]
  },
  {
   "cell_type": "code",
   "metadata": {
    "id": "j3-2mvBzxshC",
    "colab": {
     "base_uri": "https://localhost:8080/"
    },
    "executionInfo": {
     "status": "ok",
     "timestamp": 1669287967217,
     "user_tz": -60,
     "elapsed": 30,
     "user": {
      "displayName": "hslu clt",
      "userId": "00844546079669052102"
     }
    },
    "outputId": "356fff6f-9a3b-4495-98fc-80c122181a44"
   },
   "source": [
    "# Non-zero feature positions in the sparse matrix. Which document has which vocabulary item and how many times.\n",
    "print(cv_matrix)"
   ],
   "execution_count": 34,
   "outputs": [
    {
     "name": "stdout",
     "output_type": "stream",
     "text": [
      "  (0, 10)\t1\n",
      "  (0, 14)\t1\n",
      "  (0, 16)\t1\n",
      "  (1, 14)\t1\n",
      "  (1, 16)\t1\n",
      "  (1, 11)\t1\n",
      "  (1, 7)\t1\n",
      "  (1, 6)\t1\n",
      "  (2, 13)\t1\n",
      "  (2, 1)\t1\n",
      "  (2, 0)\t1\n",
      "  (2, 2)\t1\n",
      "  (2, 12)\t1\n",
      "  (3, 0)\t1\n",
      "  (3, 2)\t1\n",
      "  (3, 8)\t1\n",
      "  (4, 5)\t1\n",
      "  (4, 3)\t1\n",
      "  (4, 15)\t1\n",
      "  (5, 3)\t1\n",
      "  (5, 9)\t2\n",
      "  (5, 4)\t1\n"
     ]
    }
   ]
  },
  {
   "cell_type": "code",
   "metadata": {
    "id": "6VEu7rM8xshC",
    "colab": {
     "base_uri": "https://localhost:8080/"
    },
    "executionInfo": {
     "status": "ok",
     "timestamp": 1669287967217,
     "user_tz": -60,
     "elapsed": 29,
     "user": {
      "displayName": "hslu clt",
      "userId": "00844546079669052102"
     }
    },
    "outputId": "666c38ad-9deb-4700-ca6a-79e9a5d10e8f"
   },
   "source": [
    "# View representation\n",
    "cv_matrix = cv_matrix.toarray()\n",
    "cv_matrix"
   ],
   "execution_count": 35,
   "outputs": [
    {
     "data": {
      "text/plain": "array([[0, 0, 0, 0, 0, 0, 0, 0, 0, 0, 1, 0, 0, 0, 1, 0, 1],\n       [0, 0, 0, 0, 0, 0, 1, 1, 0, 0, 0, 1, 0, 0, 1, 0, 1],\n       [1, 1, 1, 0, 0, 0, 0, 0, 0, 0, 0, 0, 1, 1, 0, 0, 0],\n       [1, 0, 1, 0, 0, 0, 0, 0, 1, 0, 0, 0, 0, 0, 0, 0, 0],\n       [0, 0, 0, 1, 0, 1, 0, 0, 0, 0, 0, 0, 0, 0, 0, 1, 0],\n       [0, 0, 0, 1, 1, 0, 0, 0, 0, 2, 0, 0, 0, 0, 0, 0, 0]])"
     },
     "execution_count": 35,
     "metadata": {},
     "output_type": "execute_result"
    }
   ]
  },
  {
   "cell_type": "code",
   "metadata": {
    "id": "wr9Z2lwMxshD",
    "colab": {
     "base_uri": "https://localhost:8080/",
     "height": 302
    },
    "executionInfo": {
     "status": "ok",
     "timestamp": 1669287967217,
     "user_tz": -60,
     "elapsed": 29,
     "user": {
      "displayName": "hslu clt",
      "userId": "00844546079669052102"
     }
    },
    "outputId": "13e67ae5-5e38-4f5a-8a3f-71d8edb463ce"
   },
   "source": [
    "# Inspect document feature vectors\n",
    "pd.DataFrame(cv_matrix, columns=vocab)"
   ],
   "execution_count": 36,
   "outputs": [
    {
     "data": {
      "text/plain": "   chicken  coconut  coriander  dress  fit  great  mocha  notes  pasta  \\\n0        0        0          0      0    0      0      0      0      0   \n1        0        0          0      0    0      0      1      1      0   \n2        1        1          1      0    0      0      0      0      0   \n3        1        0          1      0    0      0      0      0      1   \n4        0        0          0      1    0      1      0      0      0   \n5        0        0          0      1    1      0      0      0      0   \n\n   perfect  ripe  roasty  salt  spiced  toasty  vacation  wine  \n0        0     1       0     0       0       1         0     1  \n1        0     0       1     0       0       1         0     1  \n2        0     0       0     1       1       0         0     0  \n3        0     0       0     0       0       0         0     0  \n4        0     0       0     0       0       0         1     0  \n5        2     0       0     0       0       0         0     0  ",
      "text/html": "<div>\n<style scoped>\n    .dataframe tbody tr th:only-of-type {\n        vertical-align: middle;\n    }\n\n    .dataframe tbody tr th {\n        vertical-align: top;\n    }\n\n    .dataframe thead th {\n        text-align: right;\n    }\n</style>\n<table border=\"1\" class=\"dataframe\">\n  <thead>\n    <tr style=\"text-align: right;\">\n      <th></th>\n      <th>chicken</th>\n      <th>coconut</th>\n      <th>coriander</th>\n      <th>dress</th>\n      <th>fit</th>\n      <th>great</th>\n      <th>mocha</th>\n      <th>notes</th>\n      <th>pasta</th>\n      <th>perfect</th>\n      <th>ripe</th>\n      <th>roasty</th>\n      <th>salt</th>\n      <th>spiced</th>\n      <th>toasty</th>\n      <th>vacation</th>\n      <th>wine</th>\n    </tr>\n  </thead>\n  <tbody>\n    <tr>\n      <th>0</th>\n      <td>0</td>\n      <td>0</td>\n      <td>0</td>\n      <td>0</td>\n      <td>0</td>\n      <td>0</td>\n      <td>0</td>\n      <td>0</td>\n      <td>0</td>\n      <td>0</td>\n      <td>1</td>\n      <td>0</td>\n      <td>0</td>\n      <td>0</td>\n      <td>1</td>\n      <td>0</td>\n      <td>1</td>\n    </tr>\n    <tr>\n      <th>1</th>\n      <td>0</td>\n      <td>0</td>\n      <td>0</td>\n      <td>0</td>\n      <td>0</td>\n      <td>0</td>\n      <td>1</td>\n      <td>1</td>\n      <td>0</td>\n      <td>0</td>\n      <td>0</td>\n      <td>1</td>\n      <td>0</td>\n      <td>0</td>\n      <td>1</td>\n      <td>0</td>\n      <td>1</td>\n    </tr>\n    <tr>\n      <th>2</th>\n      <td>1</td>\n      <td>1</td>\n      <td>1</td>\n      <td>0</td>\n      <td>0</td>\n      <td>0</td>\n      <td>0</td>\n      <td>0</td>\n      <td>0</td>\n      <td>0</td>\n      <td>0</td>\n      <td>0</td>\n      <td>1</td>\n      <td>1</td>\n      <td>0</td>\n      <td>0</td>\n      <td>0</td>\n    </tr>\n    <tr>\n      <th>3</th>\n      <td>1</td>\n      <td>0</td>\n      <td>1</td>\n      <td>0</td>\n      <td>0</td>\n      <td>0</td>\n      <td>0</td>\n      <td>0</td>\n      <td>1</td>\n      <td>0</td>\n      <td>0</td>\n      <td>0</td>\n      <td>0</td>\n      <td>0</td>\n      <td>0</td>\n      <td>0</td>\n      <td>0</td>\n    </tr>\n    <tr>\n      <th>4</th>\n      <td>0</td>\n      <td>0</td>\n      <td>0</td>\n      <td>1</td>\n      <td>0</td>\n      <td>1</td>\n      <td>0</td>\n      <td>0</td>\n      <td>0</td>\n      <td>0</td>\n      <td>0</td>\n      <td>0</td>\n      <td>0</td>\n      <td>0</td>\n      <td>0</td>\n      <td>1</td>\n      <td>0</td>\n    </tr>\n    <tr>\n      <th>5</th>\n      <td>0</td>\n      <td>0</td>\n      <td>0</td>\n      <td>1</td>\n      <td>1</td>\n      <td>0</td>\n      <td>0</td>\n      <td>0</td>\n      <td>0</td>\n      <td>2</td>\n      <td>0</td>\n      <td>0</td>\n      <td>0</td>\n      <td>0</td>\n      <td>0</td>\n      <td>0</td>\n      <td>0</td>\n    </tr>\n  </tbody>\n</table>\n</div>"
     },
     "execution_count": 36,
     "metadata": {},
     "output_type": "execute_result"
    }
   ]
  },
  {
   "cell_type": "markdown",
   "metadata": {
    "id": "JcW7e5NsxshD"
   },
   "source": [
    "### Ngrams Representation"
   ]
  },
  {
   "cell_type": "code",
   "metadata": {
    "id": "qHbEr8PpxshD",
    "colab": {
     "base_uri": "https://localhost:8080/",
     "height": 385
    },
    "executionInfo": {
     "status": "ok",
     "timestamp": 1669287967217,
     "user_tz": -60,
     "elapsed": 28,
     "user": {
      "displayName": "hslu clt",
      "userId": "00844546079669052102"
     }
    },
    "outputId": "a683af4c-18c9-4eac-cca6-c520f96db818"
   },
   "source": [
    "# You can set the n-gram range to 1,2 to get unigrams as well as bigrams\n",
    "bv = CountVectorizer(ngram_range=(1, 2))\n",
    "bv_matrix = bv.fit_transform(norm_corpus)\n",
    "\n",
    "bv_matrix = bv_matrix.toarray()\n",
    "vocab = bv.get_feature_names_out()\n",
    "pd.DataFrame(bv_matrix, columns=vocab)"
   ],
   "execution_count": 37,
   "outputs": [
    {
     "data": {
      "text/plain": "   chicken  chicken coriander  chicken pasta  coconut  coconut chicken  \\\n0        0                  0              0        0                0   \n1        0                  0              0        0                0   \n2        1                  1              0        1                1   \n3        1                  0              1        0                0   \n4        0                  0              0        0                0   \n5        0                  0              0        0                0   \n\n   coriander  coriander chicken  coriander salt  dress  dress perfect  ...  \\\n0          0                  0               0      0              0  ...   \n1          0                  0               0      0              0  ...   \n2          1                  0               1      0              0  ...   \n3          1                  1               0      0              0  ...   \n4          0                  0               0      1              0  ...   \n5          0                  0               0      1              1  ...   \n\n   roasty  roasty toasty  salt  spiced  spiced coconut  toasty  toasty wine  \\\n0       0              0     0       0               0       1            1   \n1       1              1     0       0               0       1            1   \n2       0              0     1       1               1       0            0   \n3       0              0     0       0               0       0            0   \n4       0              0     0       0               0       0            0   \n5       0              0     0       0               0       0            0   \n\n   vacation  wine  wine notes  \n0         0     1           0  \n1         0     1           1  \n2         0     0           0  \n3         0     0           0  \n4         1     0           0  \n5         0     0           0  \n\n[6 rows x 33 columns]",
      "text/html": "<div>\n<style scoped>\n    .dataframe tbody tr th:only-of-type {\n        vertical-align: middle;\n    }\n\n    .dataframe tbody tr th {\n        vertical-align: top;\n    }\n\n    .dataframe thead th {\n        text-align: right;\n    }\n</style>\n<table border=\"1\" class=\"dataframe\">\n  <thead>\n    <tr style=\"text-align: right;\">\n      <th></th>\n      <th>chicken</th>\n      <th>chicken coriander</th>\n      <th>chicken pasta</th>\n      <th>coconut</th>\n      <th>coconut chicken</th>\n      <th>coriander</th>\n      <th>coriander chicken</th>\n      <th>coriander salt</th>\n      <th>dress</th>\n      <th>dress perfect</th>\n      <th>...</th>\n      <th>roasty</th>\n      <th>roasty toasty</th>\n      <th>salt</th>\n      <th>spiced</th>\n      <th>spiced coconut</th>\n      <th>toasty</th>\n      <th>toasty wine</th>\n      <th>vacation</th>\n      <th>wine</th>\n      <th>wine notes</th>\n    </tr>\n  </thead>\n  <tbody>\n    <tr>\n      <th>0</th>\n      <td>0</td>\n      <td>0</td>\n      <td>0</td>\n      <td>0</td>\n      <td>0</td>\n      <td>0</td>\n      <td>0</td>\n      <td>0</td>\n      <td>0</td>\n      <td>0</td>\n      <td>...</td>\n      <td>0</td>\n      <td>0</td>\n      <td>0</td>\n      <td>0</td>\n      <td>0</td>\n      <td>1</td>\n      <td>1</td>\n      <td>0</td>\n      <td>1</td>\n      <td>0</td>\n    </tr>\n    <tr>\n      <th>1</th>\n      <td>0</td>\n      <td>0</td>\n      <td>0</td>\n      <td>0</td>\n      <td>0</td>\n      <td>0</td>\n      <td>0</td>\n      <td>0</td>\n      <td>0</td>\n      <td>0</td>\n      <td>...</td>\n      <td>1</td>\n      <td>1</td>\n      <td>0</td>\n      <td>0</td>\n      <td>0</td>\n      <td>1</td>\n      <td>1</td>\n      <td>0</td>\n      <td>1</td>\n      <td>1</td>\n    </tr>\n    <tr>\n      <th>2</th>\n      <td>1</td>\n      <td>1</td>\n      <td>0</td>\n      <td>1</td>\n      <td>1</td>\n      <td>1</td>\n      <td>0</td>\n      <td>1</td>\n      <td>0</td>\n      <td>0</td>\n      <td>...</td>\n      <td>0</td>\n      <td>0</td>\n      <td>1</td>\n      <td>1</td>\n      <td>1</td>\n      <td>0</td>\n      <td>0</td>\n      <td>0</td>\n      <td>0</td>\n      <td>0</td>\n    </tr>\n    <tr>\n      <th>3</th>\n      <td>1</td>\n      <td>0</td>\n      <td>1</td>\n      <td>0</td>\n      <td>0</td>\n      <td>1</td>\n      <td>1</td>\n      <td>0</td>\n      <td>0</td>\n      <td>0</td>\n      <td>...</td>\n      <td>0</td>\n      <td>0</td>\n      <td>0</td>\n      <td>0</td>\n      <td>0</td>\n      <td>0</td>\n      <td>0</td>\n      <td>0</td>\n      <td>0</td>\n      <td>0</td>\n    </tr>\n    <tr>\n      <th>4</th>\n      <td>0</td>\n      <td>0</td>\n      <td>0</td>\n      <td>0</td>\n      <td>0</td>\n      <td>0</td>\n      <td>0</td>\n      <td>0</td>\n      <td>1</td>\n      <td>0</td>\n      <td>...</td>\n      <td>0</td>\n      <td>0</td>\n      <td>0</td>\n      <td>0</td>\n      <td>0</td>\n      <td>0</td>\n      <td>0</td>\n      <td>1</td>\n      <td>0</td>\n      <td>0</td>\n    </tr>\n    <tr>\n      <th>5</th>\n      <td>0</td>\n      <td>0</td>\n      <td>0</td>\n      <td>0</td>\n      <td>0</td>\n      <td>0</td>\n      <td>0</td>\n      <td>0</td>\n      <td>1</td>\n      <td>1</td>\n      <td>...</td>\n      <td>0</td>\n      <td>0</td>\n      <td>0</td>\n      <td>0</td>\n      <td>0</td>\n      <td>0</td>\n      <td>0</td>\n      <td>0</td>\n      <td>0</td>\n      <td>0</td>\n    </tr>\n  </tbody>\n</table>\n<p>6 rows × 33 columns</p>\n</div>"
     },
     "execution_count": 37,
     "metadata": {},
     "output_type": "execute_result"
    }
   ]
  },
  {
   "cell_type": "markdown",
   "metadata": {
    "id": "9QaA45bRxshD"
   },
   "source": [
    "## Tf-Idf\n",
    "\n"
   ]
  },
  {
   "cell_type": "markdown",
   "metadata": {
    "id": "La3WJqJRxshE"
   },
   "source": [
    "### `TfidfVectorizer()` from `sklearn`"
   ]
  },
  {
   "cell_type": "code",
   "metadata": {
    "id": "-6EZb5FkxshE",
    "colab": {
     "base_uri": "https://localhost:8080/",
     "height": 302
    },
    "executionInfo": {
     "status": "ok",
     "timestamp": 1669287967217,
     "user_tz": -60,
     "elapsed": 26,
     "user": {
      "displayName": "hslu clt",
      "userId": "00844546079669052102"
     }
    },
    "outputId": "f5e11909-6bd8-46b0-b2d3-f8f803750a2f"
   },
   "source": [
    "# Once you have more documents, you can specify more parameters\n",
    "from sklearn.feature_extraction.text import TfidfVectorizer\n",
    "\n",
    "tv = TfidfVectorizer(min_df=0.,\n",
    "                     max_df=1.,\n",
    "                     norm='l2',\n",
    "                     use_idf=True,\n",
    "                     smooth_idf=True,\n",
    "                     ngram_range= (1,1))\n",
    "\n",
    "tv_matrix = tv.fit_transform(norm_corpus)\n",
    "\n",
    "tv_matrix = tv_matrix.toarray()\n",
    "vocab = tv.get_feature_names_out()\n",
    "pd.DataFrame(np.round(tv_matrix, 2), columns=vocab)"
   ],
   "execution_count": 38,
   "outputs": [
    {
     "data": {
      "text/plain": "   chicken  coconut  coriander  dress   fit  great  mocha  notes  pasta  \\\n0     0.00     0.00       0.00   0.00  0.00   0.00   0.00   0.00   0.00   \n1     0.00     0.00       0.00   0.00  0.00   0.00   0.48   0.48   0.00   \n2     0.39     0.48       0.39   0.00  0.00   0.00   0.00   0.00   0.00   \n3     0.54     0.00       0.54   0.00  0.00   0.00   0.00   0.00   0.65   \n4     0.00     0.00       0.00   0.50  0.00   0.61   0.00   0.00   0.00   \n5     0.00     0.00       0.00   0.34  0.42   0.00   0.00   0.00   0.00   \n\n   perfect  ripe  roasty  salt  spiced  toasty  vacation  wine  \n0     0.00  0.65    0.00  0.00    0.00    0.54      0.00  0.54  \n1     0.00  0.00    0.48  0.00    0.00    0.39      0.00  0.39  \n2     0.00  0.00    0.00  0.48    0.48    0.00      0.00  0.00  \n3     0.00  0.00    0.00  0.00    0.00    0.00      0.00  0.00  \n4     0.00  0.00    0.00  0.00    0.00    0.00      0.61  0.00  \n5     0.84  0.00    0.00  0.00    0.00    0.00      0.00  0.00  ",
      "text/html": "<div>\n<style scoped>\n    .dataframe tbody tr th:only-of-type {\n        vertical-align: middle;\n    }\n\n    .dataframe tbody tr th {\n        vertical-align: top;\n    }\n\n    .dataframe thead th {\n        text-align: right;\n    }\n</style>\n<table border=\"1\" class=\"dataframe\">\n  <thead>\n    <tr style=\"text-align: right;\">\n      <th></th>\n      <th>chicken</th>\n      <th>coconut</th>\n      <th>coriander</th>\n      <th>dress</th>\n      <th>fit</th>\n      <th>great</th>\n      <th>mocha</th>\n      <th>notes</th>\n      <th>pasta</th>\n      <th>perfect</th>\n      <th>ripe</th>\n      <th>roasty</th>\n      <th>salt</th>\n      <th>spiced</th>\n      <th>toasty</th>\n      <th>vacation</th>\n      <th>wine</th>\n    </tr>\n  </thead>\n  <tbody>\n    <tr>\n      <th>0</th>\n      <td>0.00</td>\n      <td>0.00</td>\n      <td>0.00</td>\n      <td>0.00</td>\n      <td>0.00</td>\n      <td>0.00</td>\n      <td>0.00</td>\n      <td>0.00</td>\n      <td>0.00</td>\n      <td>0.00</td>\n      <td>0.65</td>\n      <td>0.00</td>\n      <td>0.00</td>\n      <td>0.00</td>\n      <td>0.54</td>\n      <td>0.00</td>\n      <td>0.54</td>\n    </tr>\n    <tr>\n      <th>1</th>\n      <td>0.00</td>\n      <td>0.00</td>\n      <td>0.00</td>\n      <td>0.00</td>\n      <td>0.00</td>\n      <td>0.00</td>\n      <td>0.48</td>\n      <td>0.48</td>\n      <td>0.00</td>\n      <td>0.00</td>\n      <td>0.00</td>\n      <td>0.48</td>\n      <td>0.00</td>\n      <td>0.00</td>\n      <td>0.39</td>\n      <td>0.00</td>\n      <td>0.39</td>\n    </tr>\n    <tr>\n      <th>2</th>\n      <td>0.39</td>\n      <td>0.48</td>\n      <td>0.39</td>\n      <td>0.00</td>\n      <td>0.00</td>\n      <td>0.00</td>\n      <td>0.00</td>\n      <td>0.00</td>\n      <td>0.00</td>\n      <td>0.00</td>\n      <td>0.00</td>\n      <td>0.00</td>\n      <td>0.48</td>\n      <td>0.48</td>\n      <td>0.00</td>\n      <td>0.00</td>\n      <td>0.00</td>\n    </tr>\n    <tr>\n      <th>3</th>\n      <td>0.54</td>\n      <td>0.00</td>\n      <td>0.54</td>\n      <td>0.00</td>\n      <td>0.00</td>\n      <td>0.00</td>\n      <td>0.00</td>\n      <td>0.00</td>\n      <td>0.65</td>\n      <td>0.00</td>\n      <td>0.00</td>\n      <td>0.00</td>\n      <td>0.00</td>\n      <td>0.00</td>\n      <td>0.00</td>\n      <td>0.00</td>\n      <td>0.00</td>\n    </tr>\n    <tr>\n      <th>4</th>\n      <td>0.00</td>\n      <td>0.00</td>\n      <td>0.00</td>\n      <td>0.50</td>\n      <td>0.00</td>\n      <td>0.61</td>\n      <td>0.00</td>\n      <td>0.00</td>\n      <td>0.00</td>\n      <td>0.00</td>\n      <td>0.00</td>\n      <td>0.00</td>\n      <td>0.00</td>\n      <td>0.00</td>\n      <td>0.00</td>\n      <td>0.61</td>\n      <td>0.00</td>\n    </tr>\n    <tr>\n      <th>5</th>\n      <td>0.00</td>\n      <td>0.00</td>\n      <td>0.00</td>\n      <td>0.34</td>\n      <td>0.42</td>\n      <td>0.00</td>\n      <td>0.00</td>\n      <td>0.00</td>\n      <td>0.00</td>\n      <td>0.84</td>\n      <td>0.00</td>\n      <td>0.00</td>\n      <td>0.00</td>\n      <td>0.00</td>\n      <td>0.00</td>\n      <td>0.00</td>\n      <td>0.00</td>\n    </tr>\n  </tbody>\n</table>\n</div>"
     },
     "execution_count": 38,
     "metadata": {},
     "output_type": "execute_result"
    }
   ]
  },
  {
   "cell_type": "markdown",
   "metadata": {
    "id": "D8xajrcsxshF"
   },
   "source": [
    "## Step-by-Step of TF-IDF 🏠\n",
    "\n",
    "The following shows the creation and computation of the tfidf matrix step by step. Please go over the codes on your own to practice the tf-idf calculation"
   ]
  },
  {
   "cell_type": "markdown",
   "metadata": {
    "id": "OSCe1aYjxshF"
   },
   "source": [
    "#### Create Vocabulary Dictionary of the Corpus"
   ]
  },
  {
   "cell_type": "code",
   "metadata": {
    "id": "eDU0mv_ixshF",
    "executionInfo": {
     "status": "ok",
     "timestamp": 1669287967217,
     "user_tz": -60,
     "elapsed": 25,
     "user": {
      "displayName": "hslu clt",
      "userId": "00844546079669052102"
     }
    },
    "outputId": "3393cfd9-1085-44ec-83c0-dbfde886fa46",
    "colab": {
     "base_uri": "https://localhost:8080/"
    }
   },
   "source": [
    "# get unique words as feature names\n",
    "unique_words = list(\n",
    "    set([word for doc in [doc.split() for doc in norm_corpus]\n",
    "         for word in doc]))\n",
    "\n",
    "# default dict \n",
    "def_feature_dict = {w: 0 for w in unique_words}\n",
    "\n",
    "print('Feature Names:', unique_words)\n",
    "print('Default Feature Dict:', def_feature_dict)"
   ],
   "execution_count": 39,
   "outputs": [
    {
     "name": "stdout",
     "output_type": "stream",
     "text": [
      "Feature Names: ['wine', 'spiced', 'great', 'salt', 'chicken', 'mocha', 'vacation', 'notes', 'coriander', 'fit', 'roasty', 'ripe', 'coconut', 'dress', 'perfect', 'toasty', 'pasta']\n",
      "Default Feature Dict: {'wine': 0, 'spiced': 0, 'great': 0, 'salt': 0, 'chicken': 0, 'mocha': 0, 'vacation': 0, 'notes': 0, 'coriander': 0, 'fit': 0, 'roasty': 0, 'ripe': 0, 'coconut': 0, 'dress': 0, 'perfect': 0, 'toasty': 0, 'pasta': 0}\n"
     ]
    }
   ]
  },
  {
   "cell_type": "markdown",
   "metadata": {
    "id": "PKgujnwKxshF"
   },
   "source": [
    "#### Create Document-Word Matrix (Bag-of-Word Frequencies)"
   ]
  },
  {
   "cell_type": "code",
   "metadata": {
    "id": "UcNcCv9kxshF",
    "executionInfo": {
     "status": "ok",
     "timestamp": 1669287967218,
     "user_tz": -60,
     "elapsed": 26,
     "user": {
      "displayName": "hslu clt",
      "userId": "00844546079669052102"
     }
    },
    "outputId": "b2b0aeae-e465-47f3-85c6-4fefda3729a8",
    "colab": {
     "base_uri": "https://localhost:8080/",
     "height": 302
    }
   },
   "source": [
    "from collections import Counter\n",
    "# build bag of words features for each document - term frequencies\n",
    "bow_features = []\n",
    "for doc in norm_corpus:\n",
    "    bow_feature_doc = Counter(doc.split())\n",
    "    # initialize default corpus dictionary\n",
    "    all_features = Counter(def_feature_dict) \n",
    "    \n",
    "    # update default dict with current doc words\n",
    "    bow_feature_doc.update(all_features)\n",
    "    \n",
    "    # append cur doc dict\n",
    "    bow_features.append(bow_feature_doc)\n",
    "\n",
    "bow_features = pd.DataFrame(bow_features)\n",
    "bow_features"
   ],
   "execution_count": 40,
   "outputs": [
    {
     "data": {
      "text/plain": "   ripe  toasty  wine  spiced  great  salt  chicken  mocha  vacation  notes  \\\n0     1       1     1       0      0     0        0      0         0      0   \n1     0       1     1       0      0     0        0      1         0      1   \n2     0       0     0       1      0     1        1      0         0      0   \n3     0       0     0       0      0     0        1      0         0      0   \n4     0       0     0       0      1     0        0      0         1      0   \n5     0       0     0       0      0     0        0      0         0      0   \n\n   coriander  fit  roasty  coconut  dress  perfect  pasta  \n0          0    0       0        0      0        0      0  \n1          0    0       1        0      0        0      0  \n2          1    0       0        1      0        0      0  \n3          1    0       0        0      0        0      1  \n4          0    0       0        0      1        0      0  \n5          0    1       0        0      1        2      0  ",
      "text/html": "<div>\n<style scoped>\n    .dataframe tbody tr th:only-of-type {\n        vertical-align: middle;\n    }\n\n    .dataframe tbody tr th {\n        vertical-align: top;\n    }\n\n    .dataframe thead th {\n        text-align: right;\n    }\n</style>\n<table border=\"1\" class=\"dataframe\">\n  <thead>\n    <tr style=\"text-align: right;\">\n      <th></th>\n      <th>ripe</th>\n      <th>toasty</th>\n      <th>wine</th>\n      <th>spiced</th>\n      <th>great</th>\n      <th>salt</th>\n      <th>chicken</th>\n      <th>mocha</th>\n      <th>vacation</th>\n      <th>notes</th>\n      <th>coriander</th>\n      <th>fit</th>\n      <th>roasty</th>\n      <th>coconut</th>\n      <th>dress</th>\n      <th>perfect</th>\n      <th>pasta</th>\n    </tr>\n  </thead>\n  <tbody>\n    <tr>\n      <th>0</th>\n      <td>1</td>\n      <td>1</td>\n      <td>1</td>\n      <td>0</td>\n      <td>0</td>\n      <td>0</td>\n      <td>0</td>\n      <td>0</td>\n      <td>0</td>\n      <td>0</td>\n      <td>0</td>\n      <td>0</td>\n      <td>0</td>\n      <td>0</td>\n      <td>0</td>\n      <td>0</td>\n      <td>0</td>\n    </tr>\n    <tr>\n      <th>1</th>\n      <td>0</td>\n      <td>1</td>\n      <td>1</td>\n      <td>0</td>\n      <td>0</td>\n      <td>0</td>\n      <td>0</td>\n      <td>1</td>\n      <td>0</td>\n      <td>1</td>\n      <td>0</td>\n      <td>0</td>\n      <td>1</td>\n      <td>0</td>\n      <td>0</td>\n      <td>0</td>\n      <td>0</td>\n    </tr>\n    <tr>\n      <th>2</th>\n      <td>0</td>\n      <td>0</td>\n      <td>0</td>\n      <td>1</td>\n      <td>0</td>\n      <td>1</td>\n      <td>1</td>\n      <td>0</td>\n      <td>0</td>\n      <td>0</td>\n      <td>1</td>\n      <td>0</td>\n      <td>0</td>\n      <td>1</td>\n      <td>0</td>\n      <td>0</td>\n      <td>0</td>\n    </tr>\n    <tr>\n      <th>3</th>\n      <td>0</td>\n      <td>0</td>\n      <td>0</td>\n      <td>0</td>\n      <td>0</td>\n      <td>0</td>\n      <td>1</td>\n      <td>0</td>\n      <td>0</td>\n      <td>0</td>\n      <td>1</td>\n      <td>0</td>\n      <td>0</td>\n      <td>0</td>\n      <td>0</td>\n      <td>0</td>\n      <td>1</td>\n    </tr>\n    <tr>\n      <th>4</th>\n      <td>0</td>\n      <td>0</td>\n      <td>0</td>\n      <td>0</td>\n      <td>1</td>\n      <td>0</td>\n      <td>0</td>\n      <td>0</td>\n      <td>1</td>\n      <td>0</td>\n      <td>0</td>\n      <td>0</td>\n      <td>0</td>\n      <td>0</td>\n      <td>1</td>\n      <td>0</td>\n      <td>0</td>\n    </tr>\n    <tr>\n      <th>5</th>\n      <td>0</td>\n      <td>0</td>\n      <td>0</td>\n      <td>0</td>\n      <td>0</td>\n      <td>0</td>\n      <td>0</td>\n      <td>0</td>\n      <td>0</td>\n      <td>0</td>\n      <td>0</td>\n      <td>1</td>\n      <td>0</td>\n      <td>0</td>\n      <td>1</td>\n      <td>2</td>\n      <td>0</td>\n    </tr>\n  </tbody>\n</table>\n</div>"
     },
     "execution_count": 40,
     "metadata": {},
     "output_type": "execute_result"
    }
   ]
  },
  {
   "cell_type": "markdown",
   "metadata": {
    "id": "zT-sFSLuxshF"
   },
   "source": [
    "#### Compute Document Frequency of Words"
   ]
  },
  {
   "cell_type": "code",
   "metadata": {
    "id": "6sLSh7MjxshF",
    "executionInfo": {
     "status": "ok",
     "timestamp": 1669287967218,
     "user_tz": -60,
     "elapsed": 25,
     "user": {
      "displayName": "hslu clt",
      "userId": "00844546079669052102"
     }
    },
    "outputId": "f04e48dd-8df3-481c-f83b-3a2405e863be",
    "colab": {
     "base_uri": "https://localhost:8080/",
     "height": 145
    }
   },
   "source": [
    "import scipy.sparse as sp\n",
    "feature_names = list(bow_features.columns)\n",
    "\n",
    "# build the document frequency matrix\n",
    "df = np.diff(sp.csc_matrix(bow_features, copy=True).indptr)\n",
    "# `csc_matrix()` compress `bow_features` into sparse matrix based on columns\n",
    "# `csc_matrix.indices` stores the matrix value indices in each column\n",
    "# `csc_matrix.indptr` stores the accumulative numbers of values from column-0 to the right-most column\n",
    "\n",
    "df = 1 + df  # adding 1 to smoothen idf later\n",
    "\n",
    "# show smoothened document frequencies\n",
    "pd.DataFrame([df], columns=feature_names)"
   ],
   "execution_count": 41,
   "outputs": [
    {
     "data": {
      "text/plain": "   ripe  toasty  wine  spiced  great  salt  chicken  mocha  vacation  notes  \\\n0     2       3     3       2      2     2        3      2         2      2   \n\n   coriander  fit  roasty  coconut  dress  perfect  pasta  \n0          3    2       2        2      3        2      2  ",
      "text/html": "<div>\n<style scoped>\n    .dataframe tbody tr th:only-of-type {\n        vertical-align: middle;\n    }\n\n    .dataframe tbody tr th {\n        vertical-align: top;\n    }\n\n    .dataframe thead th {\n        text-align: right;\n    }\n</style>\n<table border=\"1\" class=\"dataframe\">\n  <thead>\n    <tr style=\"text-align: right;\">\n      <th></th>\n      <th>ripe</th>\n      <th>toasty</th>\n      <th>wine</th>\n      <th>spiced</th>\n      <th>great</th>\n      <th>salt</th>\n      <th>chicken</th>\n      <th>mocha</th>\n      <th>vacation</th>\n      <th>notes</th>\n      <th>coriander</th>\n      <th>fit</th>\n      <th>roasty</th>\n      <th>coconut</th>\n      <th>dress</th>\n      <th>perfect</th>\n      <th>pasta</th>\n    </tr>\n  </thead>\n  <tbody>\n    <tr>\n      <th>0</th>\n      <td>2</td>\n      <td>3</td>\n      <td>3</td>\n      <td>2</td>\n      <td>2</td>\n      <td>2</td>\n      <td>3</td>\n      <td>2</td>\n      <td>2</td>\n      <td>2</td>\n      <td>3</td>\n      <td>2</td>\n      <td>2</td>\n      <td>2</td>\n      <td>3</td>\n      <td>2</td>\n      <td>2</td>\n    </tr>\n  </tbody>\n</table>\n</div>"
     },
     "execution_count": 41,
     "metadata": {},
     "output_type": "execute_result"
    }
   ]
  },
  {
   "cell_type": "markdown",
   "source": [],
   "metadata": {
    "collapsed": false
   }
  },
  {
   "cell_type": "markdown",
   "metadata": {
    "id": "z_GT8975xshF"
   },
   "source": [
    "#### Create Inverse Document Frequency of Words"
   ]
  },
  {
   "cell_type": "code",
   "metadata": {
    "id": "ZPQuFamHxshG",
    "executionInfo": {
     "status": "ok",
     "timestamp": 1669287967218,
     "user_tz": -60,
     "elapsed": 24,
     "user": {
      "displayName": "hslu clt",
      "userId": "00844546079669052102"
     }
    },
    "outputId": "d2e41147-46c6-4382-e6aa-af558ddd059f",
    "colab": {
     "base_uri": "https://localhost:8080/",
     "height": 145
    }
   },
   "source": [
    "# compute inverse document frequencies for each term\n",
    "total_docs = 1 + len(norm_corpus)\n",
    "idf = 1.0 + np.log(float(total_docs) / df)\n",
    "\n",
    "# show smoothened idfs\n",
    "pd.DataFrame([np.round(idf, 2)], columns=feature_names)"
   ],
   "execution_count": 42,
   "outputs": [
    {
     "data": {
      "text/plain": "   ripe  toasty  wine  spiced  great  salt  chicken  mocha  vacation  notes  \\\n0  2.25    1.85  1.85    2.25   2.25  2.25     1.85   2.25      2.25   2.25   \n\n   coriander   fit  roasty  coconut  dress  perfect  pasta  \n0       1.85  2.25    2.25     2.25   1.85     2.25   2.25  ",
      "text/html": "<div>\n<style scoped>\n    .dataframe tbody tr th:only-of-type {\n        vertical-align: middle;\n    }\n\n    .dataframe tbody tr th {\n        vertical-align: top;\n    }\n\n    .dataframe thead th {\n        text-align: right;\n    }\n</style>\n<table border=\"1\" class=\"dataframe\">\n  <thead>\n    <tr style=\"text-align: right;\">\n      <th></th>\n      <th>ripe</th>\n      <th>toasty</th>\n      <th>wine</th>\n      <th>spiced</th>\n      <th>great</th>\n      <th>salt</th>\n      <th>chicken</th>\n      <th>mocha</th>\n      <th>vacation</th>\n      <th>notes</th>\n      <th>coriander</th>\n      <th>fit</th>\n      <th>roasty</th>\n      <th>coconut</th>\n      <th>dress</th>\n      <th>perfect</th>\n      <th>pasta</th>\n    </tr>\n  </thead>\n  <tbody>\n    <tr>\n      <th>0</th>\n      <td>2.25</td>\n      <td>1.85</td>\n      <td>1.85</td>\n      <td>2.25</td>\n      <td>2.25</td>\n      <td>2.25</td>\n      <td>1.85</td>\n      <td>2.25</td>\n      <td>2.25</td>\n      <td>2.25</td>\n      <td>1.85</td>\n      <td>2.25</td>\n      <td>2.25</td>\n      <td>2.25</td>\n      <td>1.85</td>\n      <td>2.25</td>\n      <td>2.25</td>\n    </tr>\n  </tbody>\n</table>\n</div>"
     },
     "execution_count": 42,
     "metadata": {},
     "output_type": "execute_result"
    }
   ]
  },
  {
   "cell_type": "markdown",
   "metadata": {
    "id": "lTuAz9e-xshG"
   },
   "source": [
    "#### Compute Raw TF-IDF for Each Document"
   ]
  },
  {
   "cell_type": "code",
   "metadata": {
    "id": "7KryHrLgxshG",
    "executionInfo": {
     "status": "ok",
     "timestamp": 1669287968014,
     "user_tz": -60,
     "elapsed": 819,
     "user": {
      "displayName": "hslu clt",
      "userId": "00844546079669052102"
     }
    },
    "outputId": "6a3ef503-0c69-4314-eb12-657aa5fd8a14",
    "colab": {
     "base_uri": "https://localhost:8080/",
     "height": 302
    }
   },
   "source": [
    "# compute tfidf feature matrix\n",
    "tf = np.array(bow_features, dtype='float64')\n",
    "tfidf = tf * idf  \n",
    "# view raw tfidf feature matrix\n",
    "pd.DataFrame(np.round(tfidf, 2), columns=feature_names)"
   ],
   "execution_count": 43,
   "outputs": [
    {
     "data": {
      "text/plain": "   ripe  toasty  wine  spiced  great  salt  chicken  mocha  vacation  notes  \\\n0  2.25    1.85  1.85    0.00   0.00  0.00     0.00   0.00      0.00   0.00   \n1  0.00    1.85  1.85    0.00   0.00  0.00     0.00   2.25      0.00   2.25   \n2  0.00    0.00  0.00    2.25   0.00  2.25     1.85   0.00      0.00   0.00   \n3  0.00    0.00  0.00    0.00   0.00  0.00     1.85   0.00      0.00   0.00   \n4  0.00    0.00  0.00    0.00   2.25  0.00     0.00   0.00      2.25   0.00   \n5  0.00    0.00  0.00    0.00   0.00  0.00     0.00   0.00      0.00   0.00   \n\n   coriander   fit  roasty  coconut  dress  perfect  pasta  \n0       0.00  0.00    0.00     0.00   0.00     0.00   0.00  \n1       0.00  0.00    2.25     0.00   0.00     0.00   0.00  \n2       1.85  0.00    0.00     2.25   0.00     0.00   0.00  \n3       1.85  0.00    0.00     0.00   0.00     0.00   2.25  \n4       0.00  0.00    0.00     0.00   1.85     0.00   0.00  \n5       0.00  2.25    0.00     0.00   1.85     4.51   0.00  ",
      "text/html": "<div>\n<style scoped>\n    .dataframe tbody tr th:only-of-type {\n        vertical-align: middle;\n    }\n\n    .dataframe tbody tr th {\n        vertical-align: top;\n    }\n\n    .dataframe thead th {\n        text-align: right;\n    }\n</style>\n<table border=\"1\" class=\"dataframe\">\n  <thead>\n    <tr style=\"text-align: right;\">\n      <th></th>\n      <th>ripe</th>\n      <th>toasty</th>\n      <th>wine</th>\n      <th>spiced</th>\n      <th>great</th>\n      <th>salt</th>\n      <th>chicken</th>\n      <th>mocha</th>\n      <th>vacation</th>\n      <th>notes</th>\n      <th>coriander</th>\n      <th>fit</th>\n      <th>roasty</th>\n      <th>coconut</th>\n      <th>dress</th>\n      <th>perfect</th>\n      <th>pasta</th>\n    </tr>\n  </thead>\n  <tbody>\n    <tr>\n      <th>0</th>\n      <td>2.25</td>\n      <td>1.85</td>\n      <td>1.85</td>\n      <td>0.00</td>\n      <td>0.00</td>\n      <td>0.00</td>\n      <td>0.00</td>\n      <td>0.00</td>\n      <td>0.00</td>\n      <td>0.00</td>\n      <td>0.00</td>\n      <td>0.00</td>\n      <td>0.00</td>\n      <td>0.00</td>\n      <td>0.00</td>\n      <td>0.00</td>\n      <td>0.00</td>\n    </tr>\n    <tr>\n      <th>1</th>\n      <td>0.00</td>\n      <td>1.85</td>\n      <td>1.85</td>\n      <td>0.00</td>\n      <td>0.00</td>\n      <td>0.00</td>\n      <td>0.00</td>\n      <td>2.25</td>\n      <td>0.00</td>\n      <td>2.25</td>\n      <td>0.00</td>\n      <td>0.00</td>\n      <td>2.25</td>\n      <td>0.00</td>\n      <td>0.00</td>\n      <td>0.00</td>\n      <td>0.00</td>\n    </tr>\n    <tr>\n      <th>2</th>\n      <td>0.00</td>\n      <td>0.00</td>\n      <td>0.00</td>\n      <td>2.25</td>\n      <td>0.00</td>\n      <td>2.25</td>\n      <td>1.85</td>\n      <td>0.00</td>\n      <td>0.00</td>\n      <td>0.00</td>\n      <td>1.85</td>\n      <td>0.00</td>\n      <td>0.00</td>\n      <td>2.25</td>\n      <td>0.00</td>\n      <td>0.00</td>\n      <td>0.00</td>\n    </tr>\n    <tr>\n      <th>3</th>\n      <td>0.00</td>\n      <td>0.00</td>\n      <td>0.00</td>\n      <td>0.00</td>\n      <td>0.00</td>\n      <td>0.00</td>\n      <td>1.85</td>\n      <td>0.00</td>\n      <td>0.00</td>\n      <td>0.00</td>\n      <td>1.85</td>\n      <td>0.00</td>\n      <td>0.00</td>\n      <td>0.00</td>\n      <td>0.00</td>\n      <td>0.00</td>\n      <td>2.25</td>\n    </tr>\n    <tr>\n      <th>4</th>\n      <td>0.00</td>\n      <td>0.00</td>\n      <td>0.00</td>\n      <td>0.00</td>\n      <td>2.25</td>\n      <td>0.00</td>\n      <td>0.00</td>\n      <td>0.00</td>\n      <td>2.25</td>\n      <td>0.00</td>\n      <td>0.00</td>\n      <td>0.00</td>\n      <td>0.00</td>\n      <td>0.00</td>\n      <td>1.85</td>\n      <td>0.00</td>\n      <td>0.00</td>\n    </tr>\n    <tr>\n      <th>5</th>\n      <td>0.00</td>\n      <td>0.00</td>\n      <td>0.00</td>\n      <td>0.00</td>\n      <td>0.00</td>\n      <td>0.00</td>\n      <td>0.00</td>\n      <td>0.00</td>\n      <td>0.00</td>\n      <td>0.00</td>\n      <td>0.00</td>\n      <td>2.25</td>\n      <td>0.00</td>\n      <td>0.00</td>\n      <td>1.85</td>\n      <td>4.51</td>\n      <td>0.00</td>\n    </tr>\n  </tbody>\n</table>\n</div>"
     },
     "execution_count": 43,
     "metadata": {},
     "output_type": "execute_result"
    }
   ]
  },
  {
   "cell_type": "code",
   "source": [],
   "metadata": {
    "id": "lmy_o9ft22VH",
    "executionInfo": {
     "status": "ok",
     "timestamp": 1669287968015,
     "user_tz": -60,
     "elapsed": 819,
     "user": {
      "displayName": "hslu clt",
      "userId": "00844546079669052102"
     }
    }
   },
   "execution_count": 43,
   "outputs": []
  }
 ]
}
